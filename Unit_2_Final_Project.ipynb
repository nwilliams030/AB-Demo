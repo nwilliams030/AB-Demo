{
  "nbformat": 4,
  "nbformat_minor": 0,
  "metadata": {
    "colab": {
      "name": "Unit 2 Final Project.ipynb",
      "provenance": [],
      "collapsed_sections": [],
      "include_colab_link": true
    },
    "kernelspec": {
      "name": "python3",
      "display_name": "Python 3"
    }
  },
  "cells": [
    {
      "cell_type": "markdown",
      "metadata": {
        "id": "view-in-github",
        "colab_type": "text"
      },
      "source": [
        "<a href=\"https://colab.research.google.com/github/nwilliams030/AB-Demo/blob/master/Unit_2_Final_Project.ipynb\" target=\"_parent\"><img src=\"https://colab.research.google.com/assets/colab-badge.svg\" alt=\"Open In Colab\"/></a>"
      ]
    },
    {
      "cell_type": "markdown",
      "metadata": {
        "id": "ns3eKMsWFhS6",
        "colab_type": "text"
      },
      "source": [
        "## Process \n"
      ]
    },
    {
      "cell_type": "code",
      "metadata": {
        "id": "DvxP-wVx_9A1",
        "colab_type": "code",
        "colab": {}
      },
      "source": [
        "# Import packages\n",
        "import numpy as np\n",
        "import matplotlib.pyplot as plt\n",
        "import pandas as pd"
      ],
      "execution_count": 0,
      "outputs": []
    },
    {
      "cell_type": "code",
      "metadata": {
        "id": "qvFfdyMtCTQr",
        "colab_type": "code",
        "outputId": "f9a23ab9-4e74-4aa0-8c90-65a2264c3dfa",
        "colab": {
          "base_uri": "https://localhost:8080/",
          "height": 260
        }
      },
      "source": [
        "# Import data\n",
        "!wget \"https://storage.googleapis.com/ad-manager-political-ads-dump/political/2019/PoliticalAds.zip\"\n",
        "!unzip \"PoliticalAds.zip\"\n"
      ],
      "execution_count": 122,
      "outputs": [
        {
          "output_type": "stream",
          "text": [
            "--2019-11-22 19:37:51--  https://storage.googleapis.com/ad-manager-political-ads-dump/political/2019/PoliticalAds.zip\n",
            "Resolving storage.googleapis.com (storage.googleapis.com)... 74.125.143.128, 2a00:1450:4013:c07::80\n",
            "Connecting to storage.googleapis.com (storage.googleapis.com)|74.125.143.128|:443... connected.\n",
            "HTTP request sent, awaiting response... 200 OK\n",
            "Length: 788621 (770K) [application/octet-stream]\n",
            "Saving to: ‘PoliticalAds.zip.12’\n",
            "\n",
            "\rPoliticalAds.zip.12   0%[                    ]       0  --.-KB/s               \rPoliticalAds.zip.12 100%[===================>] 770.14K  --.-KB/s    in 0.005s  \n",
            "\n",
            "2019-11-22 19:37:51 (156 MB/s) - ‘PoliticalAds.zip.12’ saved [788621/788621]\n",
            "\n",
            "Archive:  PoliticalAds.zip\n",
            "replace PoliticalAds.csv? [y]es, [n]o, [A]ll, [N]one, [r]ename: n\n",
            "replace readme.txt? [y]es, [n]o, [A]ll, [N]one, [r]ename: n\n"
          ],
          "name": "stdout"
        }
      ]
    },
    {
      "cell_type": "code",
      "metadata": {
        "id": "iYZbfmI0GsRZ",
        "colab_type": "code",
        "colab": {}
      },
      "source": [
        "df = pd.read_csv(\"PoliticalAds.csv\")"
      ],
      "execution_count": 0,
      "outputs": []
    },
    {
      "cell_type": "code",
      "metadata": {
        "id": "nc335x7iPP3n",
        "colab_type": "code",
        "outputId": "f6a48355-d146-40bd-c69b-1e9852bae353",
        "colab": {
          "base_uri": "https://localhost:8080/",
          "height": 748
        }
      },
      "source": [
        "df.head(200)"
      ],
      "execution_count": 157,
      "outputs": [
        {
          "output_type": "execute_result",
          "data": {
            "text/html": [
              "<div>\n",
              "<style scoped>\n",
              "    .dataframe tbody tr th:only-of-type {\n",
              "        vertical-align: middle;\n",
              "    }\n",
              "\n",
              "    .dataframe tbody tr th {\n",
              "        vertical-align: top;\n",
              "    }\n",
              "\n",
              "    .dataframe thead th {\n",
              "        text-align: right;\n",
              "    }\n",
              "</style>\n",
              "<table border=\"1\" class=\"dataframe\">\n",
              "  <thead>\n",
              "    <tr style=\"text-align: right;\">\n",
              "      <th></th>\n",
              "      <th>ADID</th>\n",
              "      <th>CreativeUrl</th>\n",
              "      <th>Currency Code</th>\n",
              "      <th>Spend</th>\n",
              "      <th>Impressions</th>\n",
              "      <th>StartDate</th>\n",
              "      <th>EndDate</th>\n",
              "      <th>OrganizationName</th>\n",
              "      <th>BillingAddress</th>\n",
              "      <th>CandidateBallotInformation</th>\n",
              "      <th>PayingAdvertiserName</th>\n",
              "      <th>Gender</th>\n",
              "      <th>AgeBracket</th>\n",
              "      <th>CountryCode</th>\n",
              "      <th>Regions (Included)</th>\n",
              "      <th>Regions (Excluded)</th>\n",
              "      <th>Electoral Districts (Included)</th>\n",
              "      <th>Electoral Districts (Excluded)</th>\n",
              "      <th>Radius Targeting (Included)</th>\n",
              "      <th>Radius Targeting (Excluded)</th>\n",
              "      <th>Metros (Included)</th>\n",
              "      <th>Metros (Excluded)</th>\n",
              "      <th>Postal Codes (Included)</th>\n",
              "      <th>Postal Codes (Excluded)</th>\n",
              "      <th>Location Categories (Included)</th>\n",
              "      <th>Location Categories (Excluded)</th>\n",
              "      <th>Interests</th>\n",
              "      <th>OsType</th>\n",
              "      <th>Segments</th>\n",
              "      <th>Language</th>\n",
              "      <th>AdvancedDemographics</th>\n",
              "      <th>Targeting Connection Type</th>\n",
              "      <th>Targeting Carrier (ISP)</th>\n",
              "      <th>CreativeProperties</th>\n",
              "    </tr>\n",
              "  </thead>\n",
              "  <tbody>\n",
              "    <tr>\n",
              "      <th>0</th>\n",
              "      <td>0bb4ebd96c111d8d975f5802d838c46f354349afffc320...</td>\n",
              "      <td>https://www.snap.com/political-ads/asset/97677...</td>\n",
              "      <td>EUR</td>\n",
              "      <td>196</td>\n",
              "      <td>189069</td>\n",
              "      <td>2019/08/12 08:30:41Z</td>\n",
              "      <td>2019/08/25 21:32:12Z</td>\n",
              "      <td>Reprise Media</td>\n",
              "      <td>Skt. Petri Passage 52 ,København K,1165,DK</td>\n",
              "      <td>NaN</td>\n",
              "      <td>Sundhedsstyrelsen</td>\n",
              "      <td>FEMALE</td>\n",
              "      <td>14-19</td>\n",
              "      <td>denmark</td>\n",
              "      <td>NaN</td>\n",
              "      <td>NaN</td>\n",
              "      <td>NaN</td>\n",
              "      <td>NaN</td>\n",
              "      <td>NaN</td>\n",
              "      <td>NaN</td>\n",
              "      <td>NaN</td>\n",
              "      <td>NaN</td>\n",
              "      <td>NaN</td>\n",
              "      <td>NaN</td>\n",
              "      <td>NaN</td>\n",
              "      <td>NaN</td>\n",
              "      <td>NaN</td>\n",
              "      <td>NaN</td>\n",
              "      <td>Provided by Advertiser</td>\n",
              "      <td>NaN</td>\n",
              "      <td>NaN</td>\n",
              "      <td>NaN</td>\n",
              "      <td>NaN</td>\n",
              "      <td>NaN</td>\n",
              "    </tr>\n",
              "    <tr>\n",
              "      <th>1</th>\n",
              "      <td>3573cc4c85c23472064d508bdc3b8d094a26b8c46013a9...</td>\n",
              "      <td>https://www.snap.com/political-ads/asset/a22d1...</td>\n",
              "      <td>USD</td>\n",
              "      <td>41</td>\n",
              "      <td>8507</td>\n",
              "      <td>2019/03/27 15:47:40Z</td>\n",
              "      <td>NaN</td>\n",
              "      <td>Realtime Media</td>\n",
              "      <td>P.O. Box 13410,Arlington,22219,US</td>\n",
              "      <td>NaN</td>\n",
              "      <td>Donald J. Trump For President</td>\n",
              "      <td>NaN</td>\n",
              "      <td>18-24</td>\n",
              "      <td>united states</td>\n",
              "      <td>NaN</td>\n",
              "      <td>NaN</td>\n",
              "      <td>NaN</td>\n",
              "      <td>NaN</td>\n",
              "      <td>NaN</td>\n",
              "      <td>NaN</td>\n",
              "      <td>NaN</td>\n",
              "      <td>NaN</td>\n",
              "      <td>NaN</td>\n",
              "      <td>NaN</td>\n",
              "      <td>NaN</td>\n",
              "      <td>NaN</td>\n",
              "      <td>NaN</td>\n",
              "      <td>NaN</td>\n",
              "      <td>NaN</td>\n",
              "      <td>NaN</td>\n",
              "      <td>NaN</td>\n",
              "      <td>NaN</td>\n",
              "      <td>NaN</td>\n",
              "      <td>web_view_url:https://secure.donaldjtrump.com/e...</td>\n",
              "    </tr>\n",
              "    <tr>\n",
              "      <th>2</th>\n",
              "      <td>6c5702d6c9647c10a6535e76d288a3cb8771254902748e...</td>\n",
              "      <td>https://www.snap.com/political-ads/asset/0828a...</td>\n",
              "      <td>USD</td>\n",
              "      <td>63</td>\n",
              "      <td>29234</td>\n",
              "      <td>2019/07/01 06:10:03Z</td>\n",
              "      <td>NaN</td>\n",
              "      <td>MP Mariam</td>\n",
              "      <td>US</td>\n",
              "      <td>NaN</td>\n",
              "      <td>Proud Right Winger</td>\n",
              "      <td>NaN</td>\n",
              "      <td>NaN</td>\n",
              "      <td>united states</td>\n",
              "      <td>NaN</td>\n",
              "      <td>NaN</td>\n",
              "      <td>NaN</td>\n",
              "      <td>NaN</td>\n",
              "      <td>NaN</td>\n",
              "      <td>NaN</td>\n",
              "      <td>NaN</td>\n",
              "      <td>NaN</td>\n",
              "      <td>NaN</td>\n",
              "      <td>NaN</td>\n",
              "      <td>NaN</td>\n",
              "      <td>NaN</td>\n",
              "      <td>TV Network Viewers (FOX News Channel)</td>\n",
              "      <td>NaN</td>\n",
              "      <td>Provided by Advertiser</td>\n",
              "      <td>NaN</td>\n",
              "      <td>NaN</td>\n",
              "      <td>NaN</td>\n",
              "      <td>NaN</td>\n",
              "      <td>web_view_url:https://proudrightwinger.com/prod...</td>\n",
              "    </tr>\n",
              "    <tr>\n",
              "      <th>3</th>\n",
              "      <td>45cf45030a819d7833d8b3606c79ecda7d13cf074958d5...</td>\n",
              "      <td>https://www.snap.com/political-ads/asset/47101...</td>\n",
              "      <td>USD</td>\n",
              "      <td>41</td>\n",
              "      <td>19418</td>\n",
              "      <td>2019/05/07 11:38:47Z</td>\n",
              "      <td>2019/05/11 20:28:39Z</td>\n",
              "      <td>SørenValgreen</td>\n",
              "      <td>DK</td>\n",
              "      <td>NaN</td>\n",
              "      <td>Søren Valgreen Knudsen</td>\n",
              "      <td>NaN</td>\n",
              "      <td>21-25</td>\n",
              "      <td>denmark</td>\n",
              "      <td>Nordjylland</td>\n",
              "      <td>NaN</td>\n",
              "      <td>NaN</td>\n",
              "      <td>NaN</td>\n",
              "      <td>NaN</td>\n",
              "      <td>NaN</td>\n",
              "      <td>NaN</td>\n",
              "      <td>NaN</td>\n",
              "      <td>NaN</td>\n",
              "      <td>NaN</td>\n",
              "      <td>NaN</td>\n",
              "      <td>NaN</td>\n",
              "      <td>NaN</td>\n",
              "      <td>NaN</td>\n",
              "      <td>Provided by Advertiser</td>\n",
              "      <td>da</td>\n",
              "      <td>NaN</td>\n",
              "      <td>NaN</td>\n",
              "      <td>NaN</td>\n",
              "      <td>web_view_url:https://www.xn--stemsren-94a.dk/</td>\n",
              "    </tr>\n",
              "    <tr>\n",
              "      <th>4</th>\n",
              "      <td>41e50fc88974dcdd6f01a8bdac7f3a5873c96af4a9f68d...</td>\n",
              "      <td>https://www.snap.com/political-ads/asset/f8411...</td>\n",
              "      <td>USD</td>\n",
              "      <td>2169</td>\n",
              "      <td>677010</td>\n",
              "      <td>2019/07/01 16:00:00Z</td>\n",
              "      <td>2020/01/01 04:59:59Z</td>\n",
              "      <td>Assembly</td>\n",
              "      <td>711 3rd Ave, New York, NY 10017,new york city...</td>\n",
              "      <td>NaN</td>\n",
              "      <td>truth</td>\n",
              "      <td>NaN</td>\n",
              "      <td>18-24</td>\n",
              "      <td>united states</td>\n",
              "      <td>NaN</td>\n",
              "      <td>NaN</td>\n",
              "      <td>NaN</td>\n",
              "      <td>NaN</td>\n",
              "      <td>NaN</td>\n",
              "      <td>NaN</td>\n",
              "      <td>NaN</td>\n",
              "      <td>NaN</td>\n",
              "      <td>NaN</td>\n",
              "      <td>NaN</td>\n",
              "      <td>NaN</td>\n",
              "      <td>NaN</td>\n",
              "      <td>NaN</td>\n",
              "      <td>NaN</td>\n",
              "      <td>NaN</td>\n",
              "      <td>NaN</td>\n",
              "      <td>NaN</td>\n",
              "      <td>NaN</td>\n",
              "      <td>NaN</td>\n",
              "      <td>web_view_url:https://www.thetruth.com/articles...</td>\n",
              "    </tr>\n",
              "    <tr>\n",
              "      <th>...</th>\n",
              "      <td>...</td>\n",
              "      <td>...</td>\n",
              "      <td>...</td>\n",
              "      <td>...</td>\n",
              "      <td>...</td>\n",
              "      <td>...</td>\n",
              "      <td>...</td>\n",
              "      <td>...</td>\n",
              "      <td>...</td>\n",
              "      <td>...</td>\n",
              "      <td>...</td>\n",
              "      <td>...</td>\n",
              "      <td>...</td>\n",
              "      <td>...</td>\n",
              "      <td>...</td>\n",
              "      <td>...</td>\n",
              "      <td>...</td>\n",
              "      <td>...</td>\n",
              "      <td>...</td>\n",
              "      <td>...</td>\n",
              "      <td>...</td>\n",
              "      <td>...</td>\n",
              "      <td>...</td>\n",
              "      <td>...</td>\n",
              "      <td>...</td>\n",
              "      <td>...</td>\n",
              "      <td>...</td>\n",
              "      <td>...</td>\n",
              "      <td>...</td>\n",
              "      <td>...</td>\n",
              "      <td>...</td>\n",
              "      <td>...</td>\n",
              "      <td>...</td>\n",
              "      <td>...</td>\n",
              "    </tr>\n",
              "    <tr>\n",
              "      <th>195</th>\n",
              "      <td>18d6e88d30338059cfe1c0e69f508bc301a7dc1f0249bd...</td>\n",
              "      <td>https://www.snap.com/political-ads/asset/46ac8...</td>\n",
              "      <td>EUR</td>\n",
              "      <td>610</td>\n",
              "      <td>126126</td>\n",
              "      <td>2019/06/26 09:00:00Z</td>\n",
              "      <td>2019/08/13 22:00:00Z</td>\n",
              "      <td>Red Performance AS</td>\n",
              "      <td>Postboks 6733 St. Olavs Plass,Oslo,0130 ,NO</td>\n",
              "      <td>NaN</td>\n",
              "      <td>SOS-barnebyer</td>\n",
              "      <td>NaN</td>\n",
              "      <td>25+</td>\n",
              "      <td>norway</td>\n",
              "      <td>NaN</td>\n",
              "      <td>NaN</td>\n",
              "      <td>NaN</td>\n",
              "      <td>NaN</td>\n",
              "      <td>NaN</td>\n",
              "      <td>NaN</td>\n",
              "      <td>NaN</td>\n",
              "      <td>NaN</td>\n",
              "      <td>NaN</td>\n",
              "      <td>NaN</td>\n",
              "      <td>NaN</td>\n",
              "      <td>NaN</td>\n",
              "      <td>NaN</td>\n",
              "      <td>NaN</td>\n",
              "      <td>Provided by Advertiser</td>\n",
              "      <td>NaN</td>\n",
              "      <td>NaN</td>\n",
              "      <td>NaN</td>\n",
              "      <td>NaN</td>\n",
              "      <td>web_view_url:https://www.sos-barnebyer.no/oppr...</td>\n",
              "    </tr>\n",
              "    <tr>\n",
              "      <th>196</th>\n",
              "      <td>30d2fc461b0eeca80edf26d626f824244090adfb5c5fbd...</td>\n",
              "      <td>https://www.snap.com/political-ads/asset/3a698...</td>\n",
              "      <td>EUR</td>\n",
              "      <td>4011</td>\n",
              "      <td>2121387</td>\n",
              "      <td>2019/07/19 06:00:00Z</td>\n",
              "      <td>2019/09/30 11:22:10Z</td>\n",
              "      <td>Reprise Media</td>\n",
              "      <td>Skt. Petri Passage 52 ,København K,1165,DK</td>\n",
              "      <td>NaN</td>\n",
              "      <td>Mejeriforeningen</td>\n",
              "      <td>NaN</td>\n",
              "      <td>25+</td>\n",
              "      <td>denmark</td>\n",
              "      <td>NaN</td>\n",
              "      <td>NaN</td>\n",
              "      <td>NaN</td>\n",
              "      <td>NaN</td>\n",
              "      <td>NaN</td>\n",
              "      <td>NaN</td>\n",
              "      <td>NaN</td>\n",
              "      <td>NaN</td>\n",
              "      <td>NaN</td>\n",
              "      <td>NaN</td>\n",
              "      <td>NaN</td>\n",
              "      <td>NaN</td>\n",
              "      <td>Parents &amp; Family-Focused</td>\n",
              "      <td>NaN</td>\n",
              "      <td>Provided by Advertiser</td>\n",
              "      <td>NaN</td>\n",
              "      <td>NaN</td>\n",
              "      <td>NaN</td>\n",
              "      <td>NaN</td>\n",
              "      <td>NaN</td>\n",
              "    </tr>\n",
              "    <tr>\n",
              "      <th>197</th>\n",
              "      <td>be7b9880b008eed4e90d3bad9dc61cf3dacb5b80494341...</td>\n",
              "      <td>https://www.snap.com/political-ads/asset/50254...</td>\n",
              "      <td>USD</td>\n",
              "      <td>14898</td>\n",
              "      <td>1895105</td>\n",
              "      <td>2019/09/20 10:00:00Z</td>\n",
              "      <td>2019/09/21 06:59:59Z</td>\n",
              "      <td>Recreational Equipment Inc.</td>\n",
              "      <td>6750 S 228TH ST,Kent,98032-4803,US</td>\n",
              "      <td>NaN</td>\n",
              "      <td>Recreational Equipment, Inc.</td>\n",
              "      <td>NaN</td>\n",
              "      <td>18+</td>\n",
              "      <td>united states</td>\n",
              "      <td>NaN</td>\n",
              "      <td>NaN</td>\n",
              "      <td>NaN</td>\n",
              "      <td>NaN</td>\n",
              "      <td>NaN</td>\n",
              "      <td>NaN</td>\n",
              "      <td>NaN</td>\n",
              "      <td>NaN</td>\n",
              "      <td>NaN</td>\n",
              "      <td>NaN</td>\n",
              "      <td>NaN</td>\n",
              "      <td>NaN</td>\n",
              "      <td>NaN</td>\n",
              "      <td>NaN</td>\n",
              "      <td>NaN</td>\n",
              "      <td>en</td>\n",
              "      <td>NaN</td>\n",
              "      <td>NaN</td>\n",
              "      <td>NaN</td>\n",
              "      <td>NaN</td>\n",
              "    </tr>\n",
              "    <tr>\n",
              "      <th>198</th>\n",
              "      <td>021435c5b8ae087fafcb99a3fd73ae3407c4745e6cef2b...</td>\n",
              "      <td>https://www.snap.com/political-ads/asset/0620a...</td>\n",
              "      <td>USD</td>\n",
              "      <td>70</td>\n",
              "      <td>17718</td>\n",
              "      <td>2019/10/17 20:12:15Z</td>\n",
              "      <td>2019/11/05 23:00:00Z</td>\n",
              "      <td>ACRONYM</td>\n",
              "      <td>US</td>\n",
              "      <td>Get out the vote</td>\n",
              "      <td>ACRONYM</td>\n",
              "      <td>NaN</td>\n",
              "      <td>18+</td>\n",
              "      <td>united states</td>\n",
              "      <td>NaN</td>\n",
              "      <td>NaN</td>\n",
              "      <td>NaN</td>\n",
              "      <td>NaN</td>\n",
              "      <td>NaN</td>\n",
              "      <td>NaN</td>\n",
              "      <td>NaN</td>\n",
              "      <td>NaN</td>\n",
              "      <td>NaN</td>\n",
              "      <td>NaN</td>\n",
              "      <td>NaN</td>\n",
              "      <td>NaN</td>\n",
              "      <td>NaN</td>\n",
              "      <td>NaN</td>\n",
              "      <td>NaN</td>\n",
              "      <td>NaN</td>\n",
              "      <td>NaN</td>\n",
              "      <td>NaN</td>\n",
              "      <td>NaN</td>\n",
              "      <td>web_view_url:https://peoplespowergrab.civiceng...</td>\n",
              "    </tr>\n",
              "    <tr>\n",
              "      <th>199</th>\n",
              "      <td>567f228a12b9771f7e2cebe2382dc80666b6062f28e83f...</td>\n",
              "      <td>https://www.snap.com/political-ads/asset/760ae...</td>\n",
              "      <td>USD</td>\n",
              "      <td>19</td>\n",
              "      <td>6152</td>\n",
              "      <td>2019/09/19 17:56:37Z</td>\n",
              "      <td>NaN</td>\n",
              "      <td>UnRestrict Minnesota</td>\n",
              "      <td>US</td>\n",
              "      <td>NaN</td>\n",
              "      <td>UnRestrict Minnesota</td>\n",
              "      <td>NaN</td>\n",
              "      <td>18-30</td>\n",
              "      <td>united states</td>\n",
              "      <td>Minnesota</td>\n",
              "      <td>NaN</td>\n",
              "      <td>NaN</td>\n",
              "      <td>NaN</td>\n",
              "      <td>NaN</td>\n",
              "      <td>NaN</td>\n",
              "      <td>NaN</td>\n",
              "      <td>NaN</td>\n",
              "      <td>NaN</td>\n",
              "      <td>NaN</td>\n",
              "      <td>NaN</td>\n",
              "      <td>NaN</td>\n",
              "      <td>NaN</td>\n",
              "      <td>NaN</td>\n",
              "      <td>NaN</td>\n",
              "      <td>NaN</td>\n",
              "      <td>NaN</td>\n",
              "      <td>NaN</td>\n",
              "      <td>NaN</td>\n",
              "      <td>web_view_url:https://unrestrictmn.org/?utm_sou...</td>\n",
              "    </tr>\n",
              "  </tbody>\n",
              "</table>\n",
              "<p>200 rows × 34 columns</p>\n",
              "</div>"
            ],
            "text/plain": [
              "                                                  ADID  ...                                 CreativeProperties\n",
              "0    0bb4ebd96c111d8d975f5802d838c46f354349afffc320...  ...                                                NaN\n",
              "1    3573cc4c85c23472064d508bdc3b8d094a26b8c46013a9...  ...  web_view_url:https://secure.donaldjtrump.com/e...\n",
              "2    6c5702d6c9647c10a6535e76d288a3cb8771254902748e...  ...  web_view_url:https://proudrightwinger.com/prod...\n",
              "3    45cf45030a819d7833d8b3606c79ecda7d13cf074958d5...  ...      web_view_url:https://www.xn--stemsren-94a.dk/\n",
              "4    41e50fc88974dcdd6f01a8bdac7f3a5873c96af4a9f68d...  ...  web_view_url:https://www.thetruth.com/articles...\n",
              "..                                                 ...  ...                                                ...\n",
              "195  18d6e88d30338059cfe1c0e69f508bc301a7dc1f0249bd...  ...  web_view_url:https://www.sos-barnebyer.no/oppr...\n",
              "196  30d2fc461b0eeca80edf26d626f824244090adfb5c5fbd...  ...                                                NaN\n",
              "197  be7b9880b008eed4e90d3bad9dc61cf3dacb5b80494341...  ...                                                NaN\n",
              "198  021435c5b8ae087fafcb99a3fd73ae3407c4745e6cef2b...  ...  web_view_url:https://peoplespowergrab.civiceng...\n",
              "199  567f228a12b9771f7e2cebe2382dc80666b6062f28e83f...  ...  web_view_url:https://unrestrictmn.org/?utm_sou...\n",
              "\n",
              "[200 rows x 34 columns]"
            ]
          },
          "metadata": {
            "tags": []
          },
          "execution_count": 157
        }
      ]
    },
    {
      "cell_type": "code",
      "metadata": {
        "id": "-BeL4bFwOkKh",
        "colab_type": "code",
        "outputId": "647954d4-1c6f-4ef9-d0fe-1c399a5036a3",
        "colab": {
          "base_uri": "https://localhost:8080/",
          "height": 34
        }
      },
      "source": [
        "df.shape"
      ],
      "execution_count": 158,
      "outputs": [
        {
          "output_type": "execute_result",
          "data": {
            "text/plain": [
              "(2865, 34)"
            ]
          },
          "metadata": {
            "tags": []
          },
          "execution_count": 158
        }
      ]
    },
    {
      "cell_type": "code",
      "metadata": {
        "id": "dZuAliF5O61_",
        "colab_type": "code",
        "outputId": "5aa927cf-892f-48bc-d34b-e8504f1d3f9d",
        "colab": {
          "base_uri": "https://localhost:8080/",
          "height": 294
        }
      },
      "source": [
        "df.describe()"
      ],
      "execution_count": 159,
      "outputs": [
        {
          "output_type": "execute_result",
          "data": {
            "text/html": [
              "<div>\n",
              "<style scoped>\n",
              "    .dataframe tbody tr th:only-of-type {\n",
              "        vertical-align: middle;\n",
              "    }\n",
              "\n",
              "    .dataframe tbody tr th {\n",
              "        vertical-align: top;\n",
              "    }\n",
              "\n",
              "    .dataframe thead th {\n",
              "        text-align: right;\n",
              "    }\n",
              "</style>\n",
              "<table border=\"1\" class=\"dataframe\">\n",
              "  <thead>\n",
              "    <tr style=\"text-align: right;\">\n",
              "      <th></th>\n",
              "      <th>Spend</th>\n",
              "      <th>Impressions</th>\n",
              "      <th>Electoral Districts (Excluded)</th>\n",
              "      <th>Radius Targeting (Excluded)</th>\n",
              "      <th>Location Categories (Excluded)</th>\n",
              "      <th>Targeting Connection Type</th>\n",
              "      <th>Targeting Carrier (ISP)</th>\n",
              "    </tr>\n",
              "  </thead>\n",
              "  <tbody>\n",
              "    <tr>\n",
              "      <th>count</th>\n",
              "      <td>2865.000000</td>\n",
              "      <td>2.865000e+03</td>\n",
              "      <td>0.0</td>\n",
              "      <td>0.0</td>\n",
              "      <td>0.0</td>\n",
              "      <td>0.0</td>\n",
              "      <td>0.0</td>\n",
              "    </tr>\n",
              "    <tr>\n",
              "      <th>mean</th>\n",
              "      <td>1723.451309</td>\n",
              "      <td>7.473952e+05</td>\n",
              "      <td>NaN</td>\n",
              "      <td>NaN</td>\n",
              "      <td>NaN</td>\n",
              "      <td>NaN</td>\n",
              "      <td>NaN</td>\n",
              "    </tr>\n",
              "    <tr>\n",
              "      <th>std</th>\n",
              "      <td>12154.834056</td>\n",
              "      <td>5.019127e+06</td>\n",
              "      <td>NaN</td>\n",
              "      <td>NaN</td>\n",
              "      <td>NaN</td>\n",
              "      <td>NaN</td>\n",
              "      <td>NaN</td>\n",
              "    </tr>\n",
              "    <tr>\n",
              "      <th>min</th>\n",
              "      <td>0.000000</td>\n",
              "      <td>1.000000e+00</td>\n",
              "      <td>NaN</td>\n",
              "      <td>NaN</td>\n",
              "      <td>NaN</td>\n",
              "      <td>NaN</td>\n",
              "      <td>NaN</td>\n",
              "    </tr>\n",
              "    <tr>\n",
              "      <th>25%</th>\n",
              "      <td>37.000000</td>\n",
              "      <td>1.235900e+04</td>\n",
              "      <td>NaN</td>\n",
              "      <td>NaN</td>\n",
              "      <td>NaN</td>\n",
              "      <td>NaN</td>\n",
              "      <td>NaN</td>\n",
              "    </tr>\n",
              "    <tr>\n",
              "      <th>50%</th>\n",
              "      <td>150.000000</td>\n",
              "      <td>5.955900e+04</td>\n",
              "      <td>NaN</td>\n",
              "      <td>NaN</td>\n",
              "      <td>NaN</td>\n",
              "      <td>NaN</td>\n",
              "      <td>NaN</td>\n",
              "    </tr>\n",
              "    <tr>\n",
              "      <th>75%</th>\n",
              "      <td>681.000000</td>\n",
              "      <td>3.014860e+05</td>\n",
              "      <td>NaN</td>\n",
              "      <td>NaN</td>\n",
              "      <td>NaN</td>\n",
              "      <td>NaN</td>\n",
              "      <td>NaN</td>\n",
              "    </tr>\n",
              "    <tr>\n",
              "      <th>max</th>\n",
              "      <td>388496.000000</td>\n",
              "      <td>1.941820e+08</td>\n",
              "      <td>NaN</td>\n",
              "      <td>NaN</td>\n",
              "      <td>NaN</td>\n",
              "      <td>NaN</td>\n",
              "      <td>NaN</td>\n",
              "    </tr>\n",
              "  </tbody>\n",
              "</table>\n",
              "</div>"
            ],
            "text/plain": [
              "               Spend  ...  Targeting Carrier (ISP)\n",
              "count    2865.000000  ...                      0.0\n",
              "mean     1723.451309  ...                      NaN\n",
              "std     12154.834056  ...                      NaN\n",
              "min         0.000000  ...                      NaN\n",
              "25%        37.000000  ...                      NaN\n",
              "50%       150.000000  ...                      NaN\n",
              "75%       681.000000  ...                      NaN\n",
              "max    388496.000000  ...                      NaN\n",
              "\n",
              "[8 rows x 7 columns]"
            ]
          },
          "metadata": {
            "tags": []
          },
          "execution_count": 159
        }
      ]
    },
    {
      "cell_type": "markdown",
      "metadata": {
        "id": "GwZFLE6ouR4G",
        "colab_type": "text"
      },
      "source": [
        "#### Clean Nulls"
      ]
    },
    {
      "cell_type": "code",
      "metadata": {
        "id": "HwaPhaFQO_PD",
        "colab_type": "code",
        "outputId": "f84c5063-349d-4c70-cb95-89301824e503",
        "colab": {
          "base_uri": "https://localhost:8080/",
          "height": 624
        }
      },
      "source": [
        "# Check for nulls\n",
        "df.isna().sum()"
      ],
      "execution_count": 160,
      "outputs": [
        {
          "output_type": "execute_result",
          "data": {
            "text/plain": [
              "ADID                                 0\n",
              "CreativeUrl                          0\n",
              "Currency Code                        0\n",
              "Spend                                0\n",
              "Impressions                          0\n",
              "StartDate                            0\n",
              "EndDate                            669\n",
              "OrganizationName                     0\n",
              "BillingAddress                       0\n",
              "CandidateBallotInformation        2573\n",
              "PayingAdvertiserName                 0\n",
              "Gender                            2612\n",
              "AgeBracket                         238\n",
              "CountryCode                          0\n",
              "Regions (Included)                2020\n",
              "Regions (Excluded)                2829\n",
              "Electoral Districts (Included)    2823\n",
              "Electoral Districts (Excluded)    2865\n",
              "Radius Targeting (Included)       2677\n",
              "Radius Targeting (Excluded)       2865\n",
              "Metros (Included)                 2712\n",
              "Metros (Excluded)                 2850\n",
              "Postal Codes (Included)           2564\n",
              "Postal Codes (Excluded)           2753\n",
              "Location Categories (Included)    2855\n",
              "Location Categories (Excluded)    2865\n",
              "Interests                         2125\n",
              "OsType                            2854\n",
              "Segments                           953\n",
              "Language                          1983\n",
              "AdvancedDemographics              2810\n",
              "Targeting Connection Type         2865\n",
              "Targeting Carrier (ISP)           2865\n",
              "CreativeProperties                 533\n",
              "dtype: int64"
            ]
          },
          "metadata": {
            "tags": []
          },
          "execution_count": 160
        }
      ]
    },
    {
      "cell_type": "code",
      "metadata": {
        "id": "O9v2aQE1Zxnn",
        "colab_type": "code",
        "colab": {}
      },
      "source": [
        ""
      ],
      "execution_count": 0,
      "outputs": []
    },
    {
      "cell_type": "code",
      "metadata": {
        "id": "cJGMICHHPTnT",
        "colab_type": "code",
        "outputId": "19c18fec-0867-44ea-c853-70eebd0c6c49",
        "colab": {
          "base_uri": "https://localhost:8080/",
          "height": 1000
        }
      },
      "source": [
        "df.head(15)"
      ],
      "execution_count": 161,
      "outputs": [
        {
          "output_type": "execute_result",
          "data": {
            "text/html": [
              "<div>\n",
              "<style scoped>\n",
              "    .dataframe tbody tr th:only-of-type {\n",
              "        vertical-align: middle;\n",
              "    }\n",
              "\n",
              "    .dataframe tbody tr th {\n",
              "        vertical-align: top;\n",
              "    }\n",
              "\n",
              "    .dataframe thead th {\n",
              "        text-align: right;\n",
              "    }\n",
              "</style>\n",
              "<table border=\"1\" class=\"dataframe\">\n",
              "  <thead>\n",
              "    <tr style=\"text-align: right;\">\n",
              "      <th></th>\n",
              "      <th>ADID</th>\n",
              "      <th>CreativeUrl</th>\n",
              "      <th>Currency Code</th>\n",
              "      <th>Spend</th>\n",
              "      <th>Impressions</th>\n",
              "      <th>StartDate</th>\n",
              "      <th>EndDate</th>\n",
              "      <th>OrganizationName</th>\n",
              "      <th>BillingAddress</th>\n",
              "      <th>CandidateBallotInformation</th>\n",
              "      <th>PayingAdvertiserName</th>\n",
              "      <th>Gender</th>\n",
              "      <th>AgeBracket</th>\n",
              "      <th>CountryCode</th>\n",
              "      <th>Regions (Included)</th>\n",
              "      <th>Regions (Excluded)</th>\n",
              "      <th>Electoral Districts (Included)</th>\n",
              "      <th>Electoral Districts (Excluded)</th>\n",
              "      <th>Radius Targeting (Included)</th>\n",
              "      <th>Radius Targeting (Excluded)</th>\n",
              "      <th>Metros (Included)</th>\n",
              "      <th>Metros (Excluded)</th>\n",
              "      <th>Postal Codes (Included)</th>\n",
              "      <th>Postal Codes (Excluded)</th>\n",
              "      <th>Location Categories (Included)</th>\n",
              "      <th>Location Categories (Excluded)</th>\n",
              "      <th>Interests</th>\n",
              "      <th>OsType</th>\n",
              "      <th>Segments</th>\n",
              "      <th>Language</th>\n",
              "      <th>AdvancedDemographics</th>\n",
              "      <th>Targeting Connection Type</th>\n",
              "      <th>Targeting Carrier (ISP)</th>\n",
              "      <th>CreativeProperties</th>\n",
              "    </tr>\n",
              "  </thead>\n",
              "  <tbody>\n",
              "    <tr>\n",
              "      <th>0</th>\n",
              "      <td>0bb4ebd96c111d8d975f5802d838c46f354349afffc320...</td>\n",
              "      <td>https://www.snap.com/political-ads/asset/97677...</td>\n",
              "      <td>EUR</td>\n",
              "      <td>196</td>\n",
              "      <td>189069</td>\n",
              "      <td>2019/08/12 08:30:41Z</td>\n",
              "      <td>2019/08/25 21:32:12Z</td>\n",
              "      <td>Reprise Media</td>\n",
              "      <td>Skt. Petri Passage 52 ,København K,1165,DK</td>\n",
              "      <td>NaN</td>\n",
              "      <td>Sundhedsstyrelsen</td>\n",
              "      <td>FEMALE</td>\n",
              "      <td>14-19</td>\n",
              "      <td>denmark</td>\n",
              "      <td>NaN</td>\n",
              "      <td>NaN</td>\n",
              "      <td>NaN</td>\n",
              "      <td>NaN</td>\n",
              "      <td>NaN</td>\n",
              "      <td>NaN</td>\n",
              "      <td>NaN</td>\n",
              "      <td>NaN</td>\n",
              "      <td>NaN</td>\n",
              "      <td>NaN</td>\n",
              "      <td>NaN</td>\n",
              "      <td>NaN</td>\n",
              "      <td>NaN</td>\n",
              "      <td>NaN</td>\n",
              "      <td>Provided by Advertiser</td>\n",
              "      <td>NaN</td>\n",
              "      <td>NaN</td>\n",
              "      <td>NaN</td>\n",
              "      <td>NaN</td>\n",
              "      <td>NaN</td>\n",
              "    </tr>\n",
              "    <tr>\n",
              "      <th>1</th>\n",
              "      <td>3573cc4c85c23472064d508bdc3b8d094a26b8c46013a9...</td>\n",
              "      <td>https://www.snap.com/political-ads/asset/a22d1...</td>\n",
              "      <td>USD</td>\n",
              "      <td>41</td>\n",
              "      <td>8507</td>\n",
              "      <td>2019/03/27 15:47:40Z</td>\n",
              "      <td>NaN</td>\n",
              "      <td>Realtime Media</td>\n",
              "      <td>P.O. Box 13410,Arlington,22219,US</td>\n",
              "      <td>NaN</td>\n",
              "      <td>Donald J. Trump For President</td>\n",
              "      <td>NaN</td>\n",
              "      <td>18-24</td>\n",
              "      <td>united states</td>\n",
              "      <td>NaN</td>\n",
              "      <td>NaN</td>\n",
              "      <td>NaN</td>\n",
              "      <td>NaN</td>\n",
              "      <td>NaN</td>\n",
              "      <td>NaN</td>\n",
              "      <td>NaN</td>\n",
              "      <td>NaN</td>\n",
              "      <td>NaN</td>\n",
              "      <td>NaN</td>\n",
              "      <td>NaN</td>\n",
              "      <td>NaN</td>\n",
              "      <td>NaN</td>\n",
              "      <td>NaN</td>\n",
              "      <td>NaN</td>\n",
              "      <td>NaN</td>\n",
              "      <td>NaN</td>\n",
              "      <td>NaN</td>\n",
              "      <td>NaN</td>\n",
              "      <td>web_view_url:https://secure.donaldjtrump.com/e...</td>\n",
              "    </tr>\n",
              "    <tr>\n",
              "      <th>2</th>\n",
              "      <td>6c5702d6c9647c10a6535e76d288a3cb8771254902748e...</td>\n",
              "      <td>https://www.snap.com/political-ads/asset/0828a...</td>\n",
              "      <td>USD</td>\n",
              "      <td>63</td>\n",
              "      <td>29234</td>\n",
              "      <td>2019/07/01 06:10:03Z</td>\n",
              "      <td>NaN</td>\n",
              "      <td>MP Mariam</td>\n",
              "      <td>US</td>\n",
              "      <td>NaN</td>\n",
              "      <td>Proud Right Winger</td>\n",
              "      <td>NaN</td>\n",
              "      <td>NaN</td>\n",
              "      <td>united states</td>\n",
              "      <td>NaN</td>\n",
              "      <td>NaN</td>\n",
              "      <td>NaN</td>\n",
              "      <td>NaN</td>\n",
              "      <td>NaN</td>\n",
              "      <td>NaN</td>\n",
              "      <td>NaN</td>\n",
              "      <td>NaN</td>\n",
              "      <td>NaN</td>\n",
              "      <td>NaN</td>\n",
              "      <td>NaN</td>\n",
              "      <td>NaN</td>\n",
              "      <td>TV Network Viewers (FOX News Channel)</td>\n",
              "      <td>NaN</td>\n",
              "      <td>Provided by Advertiser</td>\n",
              "      <td>NaN</td>\n",
              "      <td>NaN</td>\n",
              "      <td>NaN</td>\n",
              "      <td>NaN</td>\n",
              "      <td>web_view_url:https://proudrightwinger.com/prod...</td>\n",
              "    </tr>\n",
              "    <tr>\n",
              "      <th>3</th>\n",
              "      <td>45cf45030a819d7833d8b3606c79ecda7d13cf074958d5...</td>\n",
              "      <td>https://www.snap.com/political-ads/asset/47101...</td>\n",
              "      <td>USD</td>\n",
              "      <td>41</td>\n",
              "      <td>19418</td>\n",
              "      <td>2019/05/07 11:38:47Z</td>\n",
              "      <td>2019/05/11 20:28:39Z</td>\n",
              "      <td>SørenValgreen</td>\n",
              "      <td>DK</td>\n",
              "      <td>NaN</td>\n",
              "      <td>Søren Valgreen Knudsen</td>\n",
              "      <td>NaN</td>\n",
              "      <td>21-25</td>\n",
              "      <td>denmark</td>\n",
              "      <td>Nordjylland</td>\n",
              "      <td>NaN</td>\n",
              "      <td>NaN</td>\n",
              "      <td>NaN</td>\n",
              "      <td>NaN</td>\n",
              "      <td>NaN</td>\n",
              "      <td>NaN</td>\n",
              "      <td>NaN</td>\n",
              "      <td>NaN</td>\n",
              "      <td>NaN</td>\n",
              "      <td>NaN</td>\n",
              "      <td>NaN</td>\n",
              "      <td>NaN</td>\n",
              "      <td>NaN</td>\n",
              "      <td>Provided by Advertiser</td>\n",
              "      <td>da</td>\n",
              "      <td>NaN</td>\n",
              "      <td>NaN</td>\n",
              "      <td>NaN</td>\n",
              "      <td>web_view_url:https://www.xn--stemsren-94a.dk/</td>\n",
              "    </tr>\n",
              "    <tr>\n",
              "      <th>4</th>\n",
              "      <td>41e50fc88974dcdd6f01a8bdac7f3a5873c96af4a9f68d...</td>\n",
              "      <td>https://www.snap.com/political-ads/asset/f8411...</td>\n",
              "      <td>USD</td>\n",
              "      <td>2169</td>\n",
              "      <td>677010</td>\n",
              "      <td>2019/07/01 16:00:00Z</td>\n",
              "      <td>2020/01/01 04:59:59Z</td>\n",
              "      <td>Assembly</td>\n",
              "      <td>711 3rd Ave, New York, NY 10017,new york city...</td>\n",
              "      <td>NaN</td>\n",
              "      <td>truth</td>\n",
              "      <td>NaN</td>\n",
              "      <td>18-24</td>\n",
              "      <td>united states</td>\n",
              "      <td>NaN</td>\n",
              "      <td>NaN</td>\n",
              "      <td>NaN</td>\n",
              "      <td>NaN</td>\n",
              "      <td>NaN</td>\n",
              "      <td>NaN</td>\n",
              "      <td>NaN</td>\n",
              "      <td>NaN</td>\n",
              "      <td>NaN</td>\n",
              "      <td>NaN</td>\n",
              "      <td>NaN</td>\n",
              "      <td>NaN</td>\n",
              "      <td>NaN</td>\n",
              "      <td>NaN</td>\n",
              "      <td>NaN</td>\n",
              "      <td>NaN</td>\n",
              "      <td>NaN</td>\n",
              "      <td>NaN</td>\n",
              "      <td>NaN</td>\n",
              "      <td>web_view_url:https://www.thetruth.com/articles...</td>\n",
              "    </tr>\n",
              "    <tr>\n",
              "      <th>5</th>\n",
              "      <td>e51b2679d98712c005c9a14a21a5f16fa2dbb205ab435a...</td>\n",
              "      <td>https://www.snap.com/political-ads/asset/64bab...</td>\n",
              "      <td>USD</td>\n",
              "      <td>14</td>\n",
              "      <td>2312</td>\n",
              "      <td>2019/09/04 22:42:40Z</td>\n",
              "      <td>NaN</td>\n",
              "      <td>Chong and Koster</td>\n",
              "      <td>1640 Rhode Island Ave. NW, Suite 600,Washingto...</td>\n",
              "      <td>NaN</td>\n",
              "      <td>Voter Participation Center</td>\n",
              "      <td>NaN</td>\n",
              "      <td>18+</td>\n",
              "      <td>united states</td>\n",
              "      <td>NaN</td>\n",
              "      <td>NaN</td>\n",
              "      <td>NaN</td>\n",
              "      <td>NaN</td>\n",
              "      <td>NaN</td>\n",
              "      <td>NaN</td>\n",
              "      <td>NaN</td>\n",
              "      <td>NaN</td>\n",
              "      <td>40070,41712,41250,42361,42083,40152,41810,4157...</td>\n",
              "      <td>42334,41052,40363,40110,41135,40473,41426,4074...</td>\n",
              "      <td>NaN</td>\n",
              "      <td>NaN</td>\n",
              "      <td>NaN</td>\n",
              "      <td>NaN</td>\n",
              "      <td>NaN</td>\n",
              "      <td>NaN</td>\n",
              "      <td>NaN</td>\n",
              "      <td>NaN</td>\n",
              "      <td>NaN</td>\n",
              "      <td>web_view_url:https://register.vote.org/?partne...</td>\n",
              "    </tr>\n",
              "    <tr>\n",
              "      <th>6</th>\n",
              "      <td>305541d2c5b9412440097723e0ca0b399c1a93a6a64b63...</td>\n",
              "      <td>https://www.snap.com/political-ads/asset/45172...</td>\n",
              "      <td>EUR</td>\n",
              "      <td>6</td>\n",
              "      <td>1754</td>\n",
              "      <td>2019/08/27 08:21:37Z</td>\n",
              "      <td>2019/09/06 14:00:00Z</td>\n",
              "      <td>Geelmuyden Kiese AS</td>\n",
              "      <td>Sommerrogata 13-15,Oslo,0255,NO</td>\n",
              "      <td>NaN</td>\n",
              "      <td>Nye Drammen kommune</td>\n",
              "      <td>NaN</td>\n",
              "      <td>18-33</td>\n",
              "      <td>norway</td>\n",
              "      <td>NaN</td>\n",
              "      <td>NaN</td>\n",
              "      <td>NaN</td>\n",
              "      <td>NaN</td>\n",
              "      <td>latitude 59.744737;longitude 10.206241;radius 0.4</td>\n",
              "      <td>NaN</td>\n",
              "      <td>NaN</td>\n",
              "      <td>NaN</td>\n",
              "      <td>NaN</td>\n",
              "      <td>NaN</td>\n",
              "      <td>NaN</td>\n",
              "      <td>NaN</td>\n",
              "      <td>NaN</td>\n",
              "      <td>NaN</td>\n",
              "      <td>Provided by Advertiser</td>\n",
              "      <td>NaN</td>\n",
              "      <td>NaN</td>\n",
              "      <td>NaN</td>\n",
              "      <td>NaN</td>\n",
              "      <td>web_view_url:https://www.nyedrammen.no/valg-20...</td>\n",
              "    </tr>\n",
              "    <tr>\n",
              "      <th>7</th>\n",
              "      <td>da368e6991ce85e945b24442f0e4160b6cbcdb811b4f78...</td>\n",
              "      <td>https://www.snap.com/political-ads/asset/783ba...</td>\n",
              "      <td>USD</td>\n",
              "      <td>598</td>\n",
              "      <td>262683</td>\n",
              "      <td>2019/03/20 13:17:19Z</td>\n",
              "      <td>2019/04/16 15:49:19Z</td>\n",
              "      <td>Blueprint Interactive</td>\n",
              "      <td>1730 Rhode Island Ave NW Suite 1014,Washington...</td>\n",
              "      <td>NaN</td>\n",
              "      <td>ACT NOW ON CLIMATE</td>\n",
              "      <td>NaN</td>\n",
              "      <td>18+</td>\n",
              "      <td>united states</td>\n",
              "      <td>NaN</td>\n",
              "      <td>NaN</td>\n",
              "      <td>NaN</td>\n",
              "      <td>NaN</td>\n",
              "      <td>NaN</td>\n",
              "      <td>NaN</td>\n",
              "      <td>NaN</td>\n",
              "      <td>NaN</td>\n",
              "      <td>NaN</td>\n",
              "      <td>NaN</td>\n",
              "      <td>NaN</td>\n",
              "      <td>NaN</td>\n",
              "      <td>NaN</td>\n",
              "      <td>NaN</td>\n",
              "      <td>NaN</td>\n",
              "      <td>NaN</td>\n",
              "      <td>NaN</td>\n",
              "      <td>NaN</td>\n",
              "      <td>NaN</td>\n",
              "      <td>web_view_url:https://www.jayinslee.com/join?so...</td>\n",
              "    </tr>\n",
              "    <tr>\n",
              "      <th>8</th>\n",
              "      <td>3840f878c7f8ec84e40274d03ea973319282c6eed68542...</td>\n",
              "      <td>https://www.snap.com/political-ads/asset/62844...</td>\n",
              "      <td>USD</td>\n",
              "      <td>0</td>\n",
              "      <td>146</td>\n",
              "      <td>2019/03/03 18:53:01Z</td>\n",
              "      <td>NaN</td>\n",
              "      <td>Greetings</td>\n",
              "      <td>aladan b2 st50 h4,aladan,23005,KW</td>\n",
              "      <td>NaN</td>\n",
              "      <td>Abdullah Ahmad Alkandari</td>\n",
              "      <td>NaN</td>\n",
              "      <td>21+</td>\n",
              "      <td>kuwait</td>\n",
              "      <td>NaN</td>\n",
              "      <td>NaN</td>\n",
              "      <td>NaN</td>\n",
              "      <td>NaN</td>\n",
              "      <td>latitude 29.27805248410438;longitude 48.013235...</td>\n",
              "      <td>NaN</td>\n",
              "      <td>NaN</td>\n",
              "      <td>NaN</td>\n",
              "      <td>NaN</td>\n",
              "      <td>NaN</td>\n",
              "      <td>NaN</td>\n",
              "      <td>NaN</td>\n",
              "      <td>NaN</td>\n",
              "      <td>NaN</td>\n",
              "      <td>Provided by Advertiser</td>\n",
              "      <td>ar</td>\n",
              "      <td>NaN</td>\n",
              "      <td>NaN</td>\n",
              "      <td>NaN</td>\n",
              "      <td>NaN</td>\n",
              "    </tr>\n",
              "    <tr>\n",
              "      <th>9</th>\n",
              "      <td>383e5be332d60455d1c711ca443d3e265e1ca81a7968c1...</td>\n",
              "      <td>https://www.snap.com/political-ads/asset/16a66...</td>\n",
              "      <td>USD</td>\n",
              "      <td>33</td>\n",
              "      <td>7344</td>\n",
              "      <td>2019/10/16 19:51:27Z</td>\n",
              "      <td>NaN</td>\n",
              "      <td>Authentic Campaigns Inc</td>\n",
              "      <td>1211 Connecticut Ave,Washington,20036,US</td>\n",
              "      <td>NaN</td>\n",
              "      <td>Voto Latino</td>\n",
              "      <td>NaN</td>\n",
              "      <td>NaN</td>\n",
              "      <td>united states</td>\n",
              "      <td>Virginia</td>\n",
              "      <td>NaN</td>\n",
              "      <td>NaN</td>\n",
              "      <td>NaN</td>\n",
              "      <td>NaN</td>\n",
              "      <td>NaN</td>\n",
              "      <td>NaN</td>\n",
              "      <td>NaN</td>\n",
              "      <td>NaN</td>\n",
              "      <td>NaN</td>\n",
              "      <td>NaN</td>\n",
              "      <td>NaN</td>\n",
              "      <td>NaN</td>\n",
              "      <td>NaN</td>\n",
              "      <td>Provided by Advertiser</td>\n",
              "      <td>en,es</td>\n",
              "      <td>Spanish Speakers</td>\n",
              "      <td>NaN</td>\n",
              "      <td>NaN</td>\n",
              "      <td>web_view_url:https://votolatino.civicengine.com</td>\n",
              "    </tr>\n",
              "    <tr>\n",
              "      <th>10</th>\n",
              "      <td>c891a76c3a6c9e45a264f7f823a440d9e9d8f69de7490d...</td>\n",
              "      <td>https://www.snap.com/political-ads/asset/97c6f...</td>\n",
              "      <td>USD</td>\n",
              "      <td>792</td>\n",
              "      <td>284001</td>\n",
              "      <td>2019/10/31 15:15:00Z</td>\n",
              "      <td>2019/11/22 02:00:00Z</td>\n",
              "      <td>Trumpet Advertising</td>\n",
              "      <td>2083 St. Philip Street,New Orleans,70119,US</td>\n",
              "      <td>NaN</td>\n",
              "      <td>Fuul</td>\n",
              "      <td>NaN</td>\n",
              "      <td>18+</td>\n",
              "      <td>united states</td>\n",
              "      <td>Louisiana</td>\n",
              "      <td>NaN</td>\n",
              "      <td>NaN</td>\n",
              "      <td>NaN</td>\n",
              "      <td>NaN</td>\n",
              "      <td>NaN</td>\n",
              "      <td>NaN</td>\n",
              "      <td>NaN</td>\n",
              "      <td>NaN</td>\n",
              "      <td>NaN</td>\n",
              "      <td>NaN</td>\n",
              "      <td>NaN</td>\n",
              "      <td>Advocates &amp; Activists</td>\n",
              "      <td>NaN</td>\n",
              "      <td>Provided by Advertiser</td>\n",
              "      <td>en</td>\n",
              "      <td>NaN</td>\n",
              "      <td>NaN</td>\n",
              "      <td>NaN</td>\n",
              "      <td>web_view_url:https://fuul.us/?utm_source=Snapc...</td>\n",
              "    </tr>\n",
              "    <tr>\n",
              "      <th>11</th>\n",
              "      <td>d2530153d642c84f5ac5252f23800127796a46e39f354f...</td>\n",
              "      <td>https://www.snap.com/political-ads/asset/1cf06...</td>\n",
              "      <td>AUD</td>\n",
              "      <td>200</td>\n",
              "      <td>50732</td>\n",
              "      <td>2019/01/16 21:00:00Z</td>\n",
              "      <td>2019/01/20 12:59:59Z</td>\n",
              "      <td>Department of Child Safety, Youth and Women</td>\n",
              "      <td>111 George Street,Brisbane,4000,AU</td>\n",
              "      <td>NaN</td>\n",
              "      <td>Dept Child Safety, Youth &amp; Women</td>\n",
              "      <td>NaN</td>\n",
              "      <td>19-30</td>\n",
              "      <td>australia</td>\n",
              "      <td>Queensland</td>\n",
              "      <td>New South Wales,Australian Capital Territory,S...</td>\n",
              "      <td>NaN</td>\n",
              "      <td>NaN</td>\n",
              "      <td>NaN</td>\n",
              "      <td>NaN</td>\n",
              "      <td>NaN</td>\n",
              "      <td>NaN</td>\n",
              "      <td>NaN</td>\n",
              "      <td>NaN</td>\n",
              "      <td>NaN</td>\n",
              "      <td>NaN</td>\n",
              "      <td>NaN</td>\n",
              "      <td>NaN</td>\n",
              "      <td>Provided by Advertiser</td>\n",
              "      <td>NaN</td>\n",
              "      <td>NaN</td>\n",
              "      <td>NaN</td>\n",
              "      <td>NaN</td>\n",
              "      <td>web_view_url:https://smartjobs.qld.gov.au/chil...</td>\n",
              "    </tr>\n",
              "    <tr>\n",
              "      <th>12</th>\n",
              "      <td>967f7990a9b2837395a1060d10629c40b84fd3d88bb4f5...</td>\n",
              "      <td>https://www.snap.com/political-ads/asset/4c109...</td>\n",
              "      <td>GBP</td>\n",
              "      <td>381</td>\n",
              "      <td>292911</td>\n",
              "      <td>2019/08/17 12:05:14Z</td>\n",
              "      <td>2019/09/09 17:05:14Z</td>\n",
              "      <td>Arbeiderpartiet i Bergen</td>\n",
              "      <td>NO</td>\n",
              "      <td>NaN</td>\n",
              "      <td>Vestland Arbeidarparti</td>\n",
              "      <td>NaN</td>\n",
              "      <td>NaN</td>\n",
              "      <td>norway</td>\n",
              "      <td>Sogn Og Fjordane,Hordaland</td>\n",
              "      <td>NaN</td>\n",
              "      <td>NaN</td>\n",
              "      <td>NaN</td>\n",
              "      <td>NaN</td>\n",
              "      <td>NaN</td>\n",
              "      <td>NaN</td>\n",
              "      <td>Bergen</td>\n",
              "      <td>NaN</td>\n",
              "      <td>NaN</td>\n",
              "      <td>NaN</td>\n",
              "      <td>NaN</td>\n",
              "      <td>NaN</td>\n",
              "      <td>NaN</td>\n",
              "      <td>Provided by Advertiser</td>\n",
              "      <td>NaN</td>\n",
              "      <td>NaN</td>\n",
              "      <td>NaN</td>\n",
              "      <td>NaN</td>\n",
              "      <td>web_view_url:https://vestland.arbeiderpartiet....</td>\n",
              "    </tr>\n",
              "    <tr>\n",
              "      <th>13</th>\n",
              "      <td>d6dac9c617c28f953a2c1cf4253b013fb5e126c5679e6b...</td>\n",
              "      <td>https://www.snap.com/political-ads/asset/9276a...</td>\n",
              "      <td>EUR</td>\n",
              "      <td>150</td>\n",
              "      <td>92391</td>\n",
              "      <td>2019/04/08 12:00:00Z</td>\n",
              "      <td>2019/04/14 20:59:59Z</td>\n",
              "      <td>ThreeFiveEight Oy</td>\n",
              "      <td>Pursimiehenkatu 26 c, 8th floor,Helsinki,00150,FI</td>\n",
              "      <td>NaN</td>\n",
              "      <td>Syöpäsäätiö</td>\n",
              "      <td>NaN</td>\n",
              "      <td>NaN</td>\n",
              "      <td>finland</td>\n",
              "      <td>NaN</td>\n",
              "      <td>NaN</td>\n",
              "      <td>NaN</td>\n",
              "      <td>NaN</td>\n",
              "      <td>NaN</td>\n",
              "      <td>NaN</td>\n",
              "      <td>NaN</td>\n",
              "      <td>NaN</td>\n",
              "      <td>NaN</td>\n",
              "      <td>NaN</td>\n",
              "      <td>NaN</td>\n",
              "      <td>NaN</td>\n",
              "      <td>Console &amp; PC Gamers</td>\n",
              "      <td>NaN</td>\n",
              "      <td>Provided by Advertiser</td>\n",
              "      <td>NaN</td>\n",
              "      <td>NaN</td>\n",
              "      <td>NaN</td>\n",
              "      <td>NaN</td>\n",
              "      <td>web_view_url:https://tobaccobody.fi/?lang=fi</td>\n",
              "    </tr>\n",
              "    <tr>\n",
              "      <th>14</th>\n",
              "      <td>bf2e3be0f89a632a9d3db1a7c2cc97728186f99f9c095b...</td>\n",
              "      <td>https://www.snap.com/political-ads/asset/ce8a0...</td>\n",
              "      <td>USD</td>\n",
              "      <td>866</td>\n",
              "      <td>25344</td>\n",
              "      <td>2019/10/18 15:35:10Z</td>\n",
              "      <td>2019/11/05 23:00:00Z</td>\n",
              "      <td>ACRONYM</td>\n",
              "      <td>US</td>\n",
              "      <td>Get out the vote</td>\n",
              "      <td>ACRONYM</td>\n",
              "      <td>NaN</td>\n",
              "      <td>18+</td>\n",
              "      <td>united states</td>\n",
              "      <td>NaN</td>\n",
              "      <td>NaN</td>\n",
              "      <td>NaN</td>\n",
              "      <td>NaN</td>\n",
              "      <td>NaN</td>\n",
              "      <td>NaN</td>\n",
              "      <td>NaN</td>\n",
              "      <td>NaN</td>\n",
              "      <td>NaN</td>\n",
              "      <td>NaN</td>\n",
              "      <td>NaN</td>\n",
              "      <td>NaN</td>\n",
              "      <td>NaN</td>\n",
              "      <td>NaN</td>\n",
              "      <td>NaN</td>\n",
              "      <td>NaN</td>\n",
              "      <td>NaN</td>\n",
              "      <td>NaN</td>\n",
              "      <td>NaN</td>\n",
              "      <td>web_view_url:https://peoplespowergrab.civiceng...</td>\n",
              "    </tr>\n",
              "  </tbody>\n",
              "</table>\n",
              "</div>"
            ],
            "text/plain": [
              "                                                 ADID  ...                                 CreativeProperties\n",
              "0   0bb4ebd96c111d8d975f5802d838c46f354349afffc320...  ...                                                NaN\n",
              "1   3573cc4c85c23472064d508bdc3b8d094a26b8c46013a9...  ...  web_view_url:https://secure.donaldjtrump.com/e...\n",
              "2   6c5702d6c9647c10a6535e76d288a3cb8771254902748e...  ...  web_view_url:https://proudrightwinger.com/prod...\n",
              "3   45cf45030a819d7833d8b3606c79ecda7d13cf074958d5...  ...      web_view_url:https://www.xn--stemsren-94a.dk/\n",
              "4   41e50fc88974dcdd6f01a8bdac7f3a5873c96af4a9f68d...  ...  web_view_url:https://www.thetruth.com/articles...\n",
              "5   e51b2679d98712c005c9a14a21a5f16fa2dbb205ab435a...  ...  web_view_url:https://register.vote.org/?partne...\n",
              "6   305541d2c5b9412440097723e0ca0b399c1a93a6a64b63...  ...  web_view_url:https://www.nyedrammen.no/valg-20...\n",
              "7   da368e6991ce85e945b24442f0e4160b6cbcdb811b4f78...  ...  web_view_url:https://www.jayinslee.com/join?so...\n",
              "8   3840f878c7f8ec84e40274d03ea973319282c6eed68542...  ...                                                NaN\n",
              "9   383e5be332d60455d1c711ca443d3e265e1ca81a7968c1...  ...    web_view_url:https://votolatino.civicengine.com\n",
              "10  c891a76c3a6c9e45a264f7f823a440d9e9d8f69de7490d...  ...  web_view_url:https://fuul.us/?utm_source=Snapc...\n",
              "11  d2530153d642c84f5ac5252f23800127796a46e39f354f...  ...  web_view_url:https://smartjobs.qld.gov.au/chil...\n",
              "12  967f7990a9b2837395a1060d10629c40b84fd3d88bb4f5...  ...  web_view_url:https://vestland.arbeiderpartiet....\n",
              "13  d6dac9c617c28f953a2c1cf4253b013fb5e126c5679e6b...  ...       web_view_url:https://tobaccobody.fi/?lang=fi\n",
              "14  bf2e3be0f89a632a9d3db1a7c2cc97728186f99f9c095b...  ...  web_view_url:https://peoplespowergrab.civiceng...\n",
              "\n",
              "[15 rows x 34 columns]"
            ]
          },
          "metadata": {
            "tags": []
          },
          "execution_count": 161
        }
      ]
    },
    {
      "cell_type": "code",
      "metadata": {
        "id": "x66fMVykPDc6",
        "colab_type": "code",
        "outputId": "7464c136-579f-4379-db89-9ae78c81fe44",
        "colab": {
          "base_uri": "https://localhost:8080/",
          "height": 242
        }
      },
      "source": [
        "# Drop categories with high nulls\n",
        "df2 = df.drop(columns=[\"CandidateBallotInformation\", \"Gender\", \n",
        "                       \"Interests\", \"OsType\", \"Language\",\n",
        "                       \"AdvancedDemographics\", \"Targeting Connection Type\", \n",
        "                       \"Targeting Carrier (ISP)\", \"Regions (Included)\", \"Regions (Excluded)\",\n",
        "                       \"Electoral Districts (Included)\", \"CreativeProperties\", \n",
        "                       \"Electoral Districts (Excluded)\", \n",
        "                       \"Radius Targeting (Included)\", \"Radius Targeting (Excluded)\", \n",
        "                       \"Metros (Included)\", \"Metros (Excluded)\", \"Postal Codes (Included)\",\n",
        "                       \"Postal Codes (Excluded)\", \"Location Categories (Included)\", \n",
        "                       \"Location Categories (Excluded)\", \"Segments\"\n",
        "                       ])\n",
        "df2.isna().sum()"
      ],
      "execution_count": 162,
      "outputs": [
        {
          "output_type": "execute_result",
          "data": {
            "text/plain": [
              "ADID                      0\n",
              "CreativeUrl               0\n",
              "Currency Code             0\n",
              "Spend                     0\n",
              "Impressions               0\n",
              "StartDate                 0\n",
              "EndDate                 669\n",
              "OrganizationName          0\n",
              "BillingAddress            0\n",
              "PayingAdvertiserName      0\n",
              "AgeBracket              238\n",
              "CountryCode               0\n",
              "dtype: int64"
            ]
          },
          "metadata": {
            "tags": []
          },
          "execution_count": 162
        }
      ]
    },
    {
      "cell_type": "code",
      "metadata": {
        "id": "PbYsc-wKD042",
        "colab_type": "code",
        "outputId": "d6e2d73c-170f-46c3-e45c-69f130d1801d",
        "colab": {
          "base_uri": "https://localhost:8080/",
          "height": 34
        }
      },
      "source": [
        "df2.shape"
      ],
      "execution_count": 163,
      "outputs": [
        {
          "output_type": "execute_result",
          "data": {
            "text/plain": [
              "(2865, 12)"
            ]
          },
          "metadata": {
            "tags": []
          },
          "execution_count": 163
        }
      ]
    },
    {
      "cell_type": "code",
      "metadata": {
        "id": "6VPPwqu7XV3o",
        "colab_type": "code",
        "colab": {}
      },
      "source": [
        "# Remove the most extreme impressions and spend\n",
        "#df2 = df[(df['Impressions'] >= np.percentile(df['Impressions'], 0.5)) & \n",
        " #     (df['Impressions'] <= np.percentile(df['Impressions'], 99.5)) & \n",
        "  #    (df['Spend'] >= np.percentile(df['Spend'], 0.05)) & \n",
        "   #   (df['Spend'] <= np.percentile(df['Spend'], 99.95))]"
      ],
      "execution_count": 0,
      "outputs": []
    },
    {
      "cell_type": "markdown",
      "metadata": {
        "id": "PrQ4byziMNCN",
        "colab_type": "text"
      },
      "source": [
        "#### Fix Heavy Rightward Skew"
      ]
    },
    {
      "cell_type": "code",
      "metadata": {
        "id": "ZnGG5RKAwZie",
        "colab_type": "code",
        "colab": {}
      },
      "source": [
        "condition = df2['Spend'] <= 25000\n",
        "df2 = df2[condition]"
      ],
      "execution_count": 0,
      "outputs": []
    },
    {
      "cell_type": "markdown",
      "metadata": {
        "id": "Qdw70DTTKbr6",
        "colab_type": "text"
      },
      "source": [
        "## Linear Regression \n",
        "\n",
        "Include: Target, evaluation metric, and baseline, for a regression, binary classification, or multi-class classification problem, with labeled, tabular dataset)"
      ]
    },
    {
      "cell_type": "markdown",
      "metadata": {
        "id": "6fmEV0JoW7_S",
        "colab_type": "text"
      },
      "source": [
        "### Define Baseline"
      ]
    },
    {
      "cell_type": "code",
      "metadata": {
        "id": "z0ZWmuLZTBjX",
        "colab_type": "code",
        "outputId": "2970da0b-829b-462d-e2cb-522528926a7f",
        "colab": {
          "base_uri": "https://localhost:8080/",
          "height": 173
        }
      },
      "source": [
        "#  Can we guess what the impressions (target, y) are, given a random spend (feature,x)? \n",
        "\n",
        "# Baseline \n",
        "df2['Impressions'].describe() \n",
        "\n",
        "# Our baseline, if we just constantly guessed the mean, is 7.517653e+05 impressions."
      ],
      "execution_count": 194,
      "outputs": [
        {
          "output_type": "execute_result",
          "data": {
            "text/plain": [
              "count    2.272000e+03\n",
              "mean     4.336904e+05\n",
              "std      1.518380e+06\n",
              "min      1.000000e+00\n",
              "25%      1.158425e+04\n",
              "50%      5.555050e+04\n",
              "75%      2.731672e+05\n",
              "max      3.031140e+07\n",
              "Name: Impressions, dtype: float64"
            ]
          },
          "metadata": {
            "tags": []
          },
          "execution_count": 194
        }
      ]
    },
    {
      "cell_type": "code",
      "metadata": {
        "id": "vfuWMg5mT55S",
        "colab_type": "code",
        "outputId": "a630ad86-6490-440f-cb9e-4186599fb7ac",
        "colab": {
          "base_uri": "https://localhost:8080/",
          "height": 52
        }
      },
      "source": [
        "# Let's see how far we were off, on average \n",
        "guess = df2['Impressions'].mean()\n",
        "errors = guess - df2['Impressions']\n",
        "mean_absolute_error = errors.abs().mean()\n",
        "print(f'If we just guessed every snapchat story got {guess:,.0f} impressions,')\n",
        "print(f'we would be off by {mean_absolute_error:,.0f} on average.')"
      ],
      "execution_count": 195,
      "outputs": [
        {
          "output_type": "stream",
          "text": [
            "If we just guessed every snapchat story got 433,690 impressions,\n",
            "we would be off by 575,738 on average.\n"
          ],
          "name": "stdout"
        }
      ]
    },
    {
      "cell_type": "code",
      "metadata": {
        "id": "61aLGnB5VB_6",
        "colab_type": "code",
        "outputId": "6e0a39f9-86d6-4465-aacf-aed8ebd7b6f8",
        "colab": {
          "base_uri": "https://localhost:8080/",
          "height": 686
        }
      },
      "source": [
        "# Plotting the relationship between impressions and spend, with line of best fit \n",
        "import plotly.express as px\n",
        "px.scatter(df2, x='Spend', y='Impressions', trendline='ols')"
      ],
      "execution_count": 196,
      "outputs": [
        {
          "output_type": "stream",
          "text": [
            "/usr/local/lib/python3.6/dist-packages/numpy/core/fromnumeric.py:2495: FutureWarning:\n",
            "\n",
            "Method .ptp is deprecated and will be removed in a future version. Use numpy.ptp instead.\n",
            "\n"
          ],
          "name": "stderr"
        },
        {
          "output_type": "display_data",
          "data": {
            "text/html": [
              "<html>\n",
              "<head><meta charset=\"utf-8\" /></head>\n",
              "<body>\n",
              "    <div>\n",
              "            <script src=\"https://cdnjs.cloudflare.com/ajax/libs/mathjax/2.7.5/MathJax.js?config=TeX-AMS-MML_SVG\"></script><script type=\"text/javascript\">if (window.MathJax) {MathJax.Hub.Config({SVG: {font: \"STIX-Web\"}});}</script>\n",
              "                <script type=\"text/javascript\">window.PlotlyConfig = {MathJaxConfig: 'local'};</script>\n",
              "        <script src=\"https://cdn.plot.ly/plotly-latest.min.js\"></script>    \n",
              "            <div id=\"1b4a813d-1fcb-4424-842b-888b31077ed3\" class=\"plotly-graph-div\" style=\"height:600px; width:100%;\"></div>\n",
              "            <script type=\"text/javascript\">\n",
              "                \n",
              "                    window.PLOTLYENV=window.PLOTLYENV || {};\n",
              "                    \n",
              "                if (document.getElementById(\"1b4a813d-1fcb-4424-842b-888b31077ed3\")) {\n",
              "                    Plotly.newPlot(\n",
              "                        '1b4a813d-1fcb-4424-842b-888b31077ed3',\n",
              "                        [{\"hoverlabel\": {\"namelength\": 0}, \"hovertemplate\": \"Spend=%{x}<br>Impressions=%{y}\", \"legendgroup\": \"\", \"marker\": {\"color\": \"#636efa\", \"symbol\": \"circle\"}, \"mode\": \"markers\", \"name\": \"\", \"showlegend\": false, \"type\": \"scattergl\", \"x\": [142, 4, 93, 99, 98, 49, 40, 37, 0, 539, 3425, 100, 373, 57, 326, 8, 34, 574, 362, 299, 2028, 1000, 120, 25, 359, 42, 140, 463, 299, 1232, 20, 2699, 882, 3, 1400, 70, 5072, 1082, 319, 38, 9, 0, 97, 17, 398, 777, 6, 55, 98, 477, 23, 299, 587, 8, 398, 712, 55, 78, 483, 4300, 2960, 365, 86, 221, 284, 38, 98, 110, 384, 68, 1258, 354, 385, 0, 150, 243, 48, 543, 107, 116, 92, 118, 226, 37, 278, 8, 2330, 233, 3407, 605, 4293, 700, 205, 49, 55, 88, 505, 500, 505, 61, 51, 335, 383, 1188, 97, 6, 747, 259, 32, 2941, 15, 184, 37, 125, 249, 187, 31, 169, 781, 1762, 3, 19, 131, 512, 218, 48, 1, 4005, 2539, 5, 21, 4, 0, 543, 951, 16, 2, 1, 17, 51, 6, 776, 4500, 263, 73, 91, 798, 119, 10, 3457, 292, 55, 19, 444, 191, 86, 35, 110, 538, 106, 176, 10, 358, 146, 810, 264, 461, 300, 502, 64, 1383, 114, 915, 73, 10, 151, 182, 61, 0, 40, 276, 300, 1367, 1179, 85, 117, 11, 350, 867, 380, 10, 18, 157, 3059, 2960, 34, 339, 1181, 0, 2550, 100, 40, 115, 2, 44, 979, 29, 15, 137, 243, 324, 500, 2, 190, 7, 2200, 75, 7, 1766, 1, 16, 68, 28, 8, 7389, 300, 136, 12, 652, 707, 350, 42, 5, 232, 3548, 898, 5900, 657, 218, 1072, 4986, 232, 892, 40, 50, 100, 65, 1025, 1949, 130, 353, 3, 57, 100, 140, 1, 99, 752, 14, 1, 276, 450, 5666, 23, 39, 1503, 4, 22, 6126, 654, 106, 26, 6, 71, 5383, 17, 239, 45, 10, 180, 89, 469, 16, 54, 1591, 34, 12, 337, 630, 0, 770, 221, 30, 879, 4717, 219, 88, 117, 2, 13, 54, 19369, 56, 622, 1030, 73, 130, 2011, 27, 78, 200, 2473, 237, 9, 374, 37, 157, 78, 7, 226, 200, 50, 10064, 15, 755, 2233, 40, 695, 181, 9, 8, 1500, 55, 253, 34, 80, 4, 814, 85, 316, 21, 17, 415, 598, 180, 384, 1820, 8, 38, 1573, 778, 5000, 46, 31, 261, 48, 409, 15, 1845, 71, 8500, 139, 258, 78, 6, 652, 32, 962, 1374, 2172, 35, 91, 1144, 8, 4, 33, 33, 100, 167, 0, 1335, 43, 16, 10, 0, 13, 882, 3, 37, 118, 63, 9, 232, 95, 399, 91, 733, 1842, 3, 55, 25, 22, 2, 3018, 15, 4, 93, 644, 61, 5, 2, 174, 3, 61, 3058, 0, 73, 311, 102, 4, 0, 999, 214, 44, 2152, 968, 2, 54, 25, 227, 800, 1, 424, 240, 395, 231, 129, 2329, 13, 60, 5174, 693, 4, 2500, 21, 2972, 135, 887, 381, 7, 437, 398, 285, 321, 776, 722, 911, 11, 1628, 44, 1352, 23, 311, 765, 652, 37, 17, 570, 152, 50, 0, 123, 1000, 194, 116, 827, 55, 85, 108, 2576, 361, 62, 2085, 1946, 278, 92, 5500, 27, 2969, 40, 55, 662, 9, 1827, 1609, 7, 14, 57, 345, 203, 99, 582, 70, 246, 233, 0, 238, 7, 143, 68, 888, 3880, 10666, 200, 94, 30, 35, 2803, 113, 3462, 1237, 304, 150, 132, 586, 25, 289, 222, 7, 488, 50, 206, 776, 882, 436, 69, 216, 36, 35, 528, 228, 140, 1072, 0, 28, 125, 833, 2, 14050, 450, 159, 413, 49, 113, 250, 313, 12, 6762, 439, 22, 53, 7, 8, 1249, 529, 6500, 427, 700, 40, 875, 17654, 802, 4, 140, 288, 78, 132, 12, 28, 691, 25, 12803, 29, 5518, 458, 56, 23, 89, 352, 1000, 22, 896, 52, 374, 27, 146, 748, 616, 14, 75, 64, 484, 2, 125, 6, 3069, 26, 123, 0, 70, 1, 143, 5, 957, 343, 28, 78, 12240, 12, 2017, 273, 143, 7136, 13, 20, 94, 143, 192, 18, 90, 36, 13, 0, 421, 154, 28, 10874, 718, 56, 44, 1271, 25, 61, 58, 206, 3163, 2979, 73, 152, 7, 142, 101, 1234, 12, 49, 20, 7860, 1, 12, 55, 79, 69, 421, 227, 3, 916, 2500, 7, 94, 91, 14, 122, 92, 448, 12, 5, 1500, 719, 89, 36, 250, 365, 311, 45, 150, 2253, 2, 654, 5, 9999, 140, 355, 87, 2178, 4, 537, 26, 51, 10, 257, 1158, 138, 535, 3, 270, 18, 2200, 896, 717, 3, 700, 22, 1976, 8, 373, 44, 2422, 24, 8, 3, 110, 8, 535, 0, 239, 221, 399, 5, 295, 500, 2528, 2698, 868, 570, 399, 335, 7, 8, 3, 13, 11, 167, 150, 192, 185, 1529, 100, 752, 206, 76, 88, 16, 32, 300, 748, 301, 500, 5127, 3, 23, 781, 2125, 18, 77, 64, 84, 6, 1, 451, 1545, 1188, 12, 847, 186, 43, 124, 58, 55, 82, 528, 322, 3453, 713, 37, 6, 3066, 18, 15, 4231, 104, 40, 22, 39, 408, 139, 14, 2937, 22, 694, 27, 125, 5, 45, 240, 2871, 91, 1328, 21, 328, 11, 814, 10, 2206, 144, 33, 472, 40, 10658, 525, 6136, 113, 191, 374, 32, 9, 929, 68, 63, 140, 157, 304, 33, 360, 63, 4, 8, 669, 105, 5, 16, 14882, 170, 118, 340, 29, 853, 1049, 80, 6, 5, 59, 282, 1435, 212, 21, 234, 150, 3, 15, 78, 4, 1, 1465, 22, 64, 61, 201, 747, 161, 1027, 61, 22, 5, 300, 27, 2391, 168, 2894, 63, 141, 6, 350, 583, 92, 21, 196, 112, 96, 138, 223, 338, 13, 7, 121, 5, 0, 12, 233, 1, 4, 474, 47, 1298, 15000, 67, 1201, 132, 1542, 209, 2097, 20, 41, 45, 322, 1864, 105, 7, 64, 0, 71, 1058, 1, 103, 668, 25, 3, 91, 38, 22, 147, 7174, 18033, 604, 1169, 1058, 1499, 785, 410, 721, 4796, 48, 380, 755, 10, 230, 2, 195, 119, 142, 1999, 855, 191, 395, 3830, 4, 4, 32, 26, 18, 16, 220, 0, 52, 13, 172, 372, 365, 0, 82, 118, 14, 595, 1221, 32, 33, 60, 524, 1068, 24, 225, 1136, 1260, 46, 437, 1, 2057, 10, 497, 11, 254, 433, 60, 467, 86, 162, 882, 174, 642, 1554, 85, 1219, 12, 8748, 72, 3593, 87, 134, 13, 192, 73, 841, 72, 382, 147, 72, 1181, 45, 4741, 307, 1558, 94, 4, 77, 144, 104, 148, 382, 5399, 32, 1009, 0, 274, 131, 275, 19, 54, 1, 24882, 126, 2436, 295, 36, 74, 437, 57, 3, 163, 41, 51, 7, 1755, 100, 11, 823, 2950, 355, 5, 733, 325, 296, 590, 639, 430, 79, 1998, 20, 3750, 11661, 7, 4, 86, 539, 15, 265, 3425, 223, 46, 15, 839, 1358, 29, 750, 12, 32, 29, 55, 4, 338, 2, 244, 6, 262, 3380, 34, 5529, 125, 280, 192, 2862, 0, 10, 568, 37, 8, 43, 20832, 312, 74, 33, 58, 24, 81, 69, 500, 6046, 188, 1026, 456, 530, 15, 1, 68, 798, 7, 608, 5, 5452, 278, 102, 55, 343, 381, 38, 446, 1090, 61, 120, 20, 37, 49, 2874, 131, 3555, 606, 70, 148, 197, 24, 172, 33, 47, 476, 9, 4, 6042, 14, 4, 0, 150, 1037, 118, 16, 4187, 1000, 72, 979, 1366, 70, 200, 158, 21, 875, 2293, 459, 212, 3991, 2289, 17, 0, 30, 278, 62, 1467, 366, 5, 1048, 5, 6893, 423, 801, 18, 121, 22, 2820, 632, 729, 187, 5747, 152, 39, 377, 1018, 532, 2000, 10360, 2467, 263, 21, 7, 6227, 21, 2050, 606, 836, 38, 3, 6, 582, 23, 73, 42, 13, 0, 523, 875, 152, 197, 3570, 11, 1923, 74, 35, 1959, 13, 490, 53, 221, 26, 119, 30, 207, 35, 174, 667, 1, 14, 533, 626, 41, 5, 36, 12, 60, 5, 131, 9, 1031, 76, 4624, 307, 368, 513, 448, 250, 24, 4, 17, 44, 56, 6448, 1302, 416, 3, 43, 100, 422, 246, 216, 29, 63, 10, 50, 7791, 1184, 19, 62, 147, 792, 233, 160, 2188, 100, 82, 38, 58, 289, 1427, 2, 11, 25, 1080, 40, 7517, 855, 58, 0, 1043, 866, 482, 53, 192, 0, 31, 6007, 248, 98, 606, 71, 1, 638, 152, 6, 1130, 610, 30, 6610, 23362, 2753, 900, 67, 107, 50, 874, 184, 74, 0, 58, 33, 28, 1470, 345, 848, 1499, 106, 50, 126, 48, 56, 25, 50, 308, 273, 247, 100, 24, 250, 1257, 173, 106, 49, 395, 41, 1058, 18, 3, 807, 12, 77, 361, 7465, 14998, 0, 579, 56, 5, 138, 1440, 19, 84, 219, 155, 30, 1686, 898, 101, 3102, 1318, 36, 37, 542, 55, 65, 5151, 141, 1, 3, 177, 718, 126, 3770, 366, 216, 1, 66, 99, 180, 210, 229, 2, 3, 5350, 34, 198, 14, 13, 155, 289, 4998, 734, 360, 699, 500, 1513, 47, 3196, 29, 10, 6, 338, 5, 381, 617, 591, 42, 113, 0, 209, 3114, 150, 2, 47, 1121, 7, 36, 16, 23, 33, 1769, 692, 312, 12, 196, 146, 1128, 77, 212, 300, 1353, 135, 36, 108, 1817, 2807, 173, 2465, 299, 2, 6, 1305, 142, 42, 106, 24, 64, 105, 41, 1341, 10, 40, 14, 395, 24, 96, 8, 605, 27, 2216, 340, 35, 142, 0, 11, 2, 2023, 193, 97, 2000, 431, 304, 19, 385, 330, 25000, 41, 869, 700, 140, 189, 1499, 452, 3042, 18612, 159, 149, 0, 22980, 14166, 53, 76, 6, 60, 9, 2118, 299, 1816, 199, 186, 22, 372, 102, 0, 99, 175, 128, 3, 142, 1730, 1081, 450, 72, 63, 1074, 5666, 310, 74, 57, 399, 124, 2062, 286, 1601, 250, 1750, 18, 1905, 1812, 12094, 850, 23, 1108, 3322, 122, 128, 1154, 734, 600, 94, 613, 173, 4, 685, 25, 149, 514, 102, 1970, 6, 14, 100, 743, 1957, 60, 590, 43, 683, 625, 229, 40, 1098, 7678, 6, 845, 197, 4590, 283, 127, 106, 5815, 39, 127, 320, 2700, 220, 22976, 102, 0, 185, 1235, 65, 0, 1500, 1150, 129, 479, 47, 55, 169, 5756, 13088, 42, 199, 11004, 498, 502, 2, 83, 113, 25, 71, 210, 555, 6415, 121, 41, 7, 383, 1405, 116, 2, 89, 29, 98, 636, 801, 121, 451, 35, 3524, 39, 97, 438, 100, 605, 118, 35, 7, 6767, 326, 678, 100, 33, 48, 12, 792, 1233, 2102, 20, 559, 9, 204, 87, 6378, 499, 79, 725, 1410, 600, 25, 852, 62, 1379, 358, 10, 5, 8, 134, 104, 11, 712, 460, 993, 79, 790, 537, 5749, 0, 3, 4999, 3, 1371, 193, 637, 1291, 511, 553, 7, 3000, 182, 51, 487, 3400, 3158, 11, 30, 289, 0, 1365, 616, 116, 27, 19839, 1015, 3, 12, 460, 1000, 8666, 5, 2, 1061, 770, 88, 500, 150, 20, 10, 679, 45, 20, 6476, 12, 446, 479, 498, 609, 16, 209, 48, 156, 242, 1, 108, 68, 7499, 188, 1001, 10, 14875, 21, 15, 86, 2763, 21, 228, 3662, 81, 245, 209, 14, 27, 358, 115, 40, 786, 24, 389, 748, 68, 174, 725, 46, 52, 680, 1375, 1576, 93, 133, 8, 0, 200, 27, 43, 63, 27, 14, 3351, 27, 22, 351, 126, 292, 0, 325, 8, 14, 5, 13877, 91, 47, 100, 5186, 79, 349, 18, 32, 812, 200, 245, 410, 1, 4706, 161, 2076, 132, 31, 425, 45, 2784, 11, 134, 190, 10146, 0, 364, 728, 378, 103, 131, 11, 2, 2, 8, 6, 1417, 71, 1621, 26, 150, 87, 30, 150, 485, 682, 211, 2, 0, 260, 166, 5, 4, 123, 29, 37, 3275, 14, 256, 39, 12, 108, 0, 4384, 33, 162, 48, 125, 97, 5750, 152, 38, 581, 195, 65, 71, 975, 374, 226, 35, 106, 1687, 2125, 279, 105, 1, 319, 69, 147, 50, 2169, 3637, 1323, 253, 65, 123, 2235, 3947, 25, 10, 1512, 13, 63, 1, 200, 521, 449, 3, 7958, 418, 32, 982, 65, 19, 40, 6, 240, 158, 3297, 51, 139, 2, 861, 406, 36, 378, 937, 97, 25, 48, 295, 50, 681, 77, 136, 35, 20, 10978, 762, 769, 83, 76, 9, 13138, 1153, 1000, 272, 3749, 31, 5, 14, 500, 10, 378, 61, 1181, 32, 51, 78, 200, 1287, 67, 1500, 17, 50, 6022, 49, 431, 1505, 336, 191, 23, 23, 247, 110, 148, 23444, 232, 97, 19, 286, 300, 2, 1, 23, 1, 508, 70, 96, 921, 127, 96, 51, 2967, 699, 1059, 9, 721, 84, 39, 809, 98, 1000, 31, 47, 308, 82, 113, 47, 390, 74, 2, 26, 42, 69, 8, 1772, 435, 501, 3864, 28, 11565, 276, 14, 4200, 80, 114, 160, 65, 7, 15, 21568, 33, 91, 1034, 98, 9, 2771, 100, 9999, 220, 4, 542, 2250, 59, 184, 99, 129, 2556, 332, 48, 2263, 46, 14898, 400, 126, 140, 13, 925, 354, 383, 23140, 4, 311, 3737, 501, 11, 52, 4, 22, 1392, 157, 3019, 186, 871, 41, 365, 29, 0, 40, 9, 1447, 311, 124, 35, 22, 352, 7481, 93, 448, 100, 15, 98, 1904, 107, 774, 250, 19, 149, 359, 32, 72, 1667, 72, 339, 34, 109, 138, 313, 63, 87, 43, 86, 57, 15, 42, 5756, 214, 80, 48, 874, 1003, 348, 44, 29, 54, 128, 33, 70, 344, 200, 6, 292, 3, 597, 384, 320, 2300, 318, 1235, 6, 13, 843, 38, 39, 1, 149, 36, 32, 64, 255, 748, 1721, 43, 59, 2, 8244, 43, 875, 123, 100, 4, 270, 245, 150, 747, 1000, 322, 49, 18, 1173, 888, 99, 115, 522, 3, 300, 68, 777, 44, 4647, 22809, 44, 159, 59, 285, 2811, 48, 329, 1463, 18, 641, 3867, 306, 36, 162, 252, 5, 3, 126, 602, 69, 133, 13, 155, 117, 133, 1798, 1058, 36, 13883, 815, 1181, 37, 107, 2139, 408, 9, 2865, 354, 67, 110, 450, 3, 50, 18, 9, 17, 15, 720, 314, 750, 1, 98, 117, 9, 165, 452, 2, 1366, 153, 13000, 497, 2971, 14, 158, 429, 97, 62, 65, 900, 817, 599, 2000, 93, 901, 8, 141, 103, 434, 145, 1500, 2130, 537, 485], \"xaxis\": \"x\", \"y\": [45107, 946, 85718, 27392, 23823, 15247, 4251, 4304, 916, 390166, 1408771, 26504, 352409, 6187, 176400, 750, 16448, 155709, 270251, 178570, 889009, 1735436, 35065, 7268, 357559, 25043, 76026, 452202, 93221, 159828, 11819, 1162591, 158333, 3435, 174801, 33349, 1719275, 470491, 176303, 12449, 22997, 166, 35739, 10502, 87122, 316118, 3197, 101692, 109148, 372148, 3311, 191757, 423727, 1697, 216647, 619266, 15687, 51923, 176215, 2794549, 794956, 46146, 65233, 55716, 77720, 33637, 27582, 49755, 108479, 52663, 1102722, 175643, 82017, 197, 84461, 170357, 10040, 757891, 99964, 15910, 44425, 67477, 75320, 11098, 139572, 2586, 575027, 125871, 307868, 269030, 2177043, 368081, 175042, 12792, 18827, 63925, 646878, 186407, 74207, 19808, 16199, 315995, 59234, 1515399, 69775, 2460, 89281, 243501, 11587, 757100, 2866, 264896, 12464, 36469, 67422, 369311, 4723, 92649, 340712, 911023, 5159, 14277, 40083, 445704, 98577, 24916, 599, 1187458, 3304954, 1241, 6552, 733, 192, 282371, 782246, 5385, 1986, 1012, 2808, 63215, 1530, 413313, 2333124, 32591, 29170, 48281, 752081, 73232, 3675, 455173, 207743, 16694, 5316, 121418, 66308, 81281, 11619, 65137, 160171, 45750, 166281, 932, 157639, 12905, 266906, 63151, 438214, 144190, 159881, 19465, 451926, 32964, 442507, 15927, 2578, 45660, 118416, 50286, 174, 27197, 80375, 179638, 104331, 373113, 10800, 25621, 4624, 182708, 405044, 114701, 3506, 8099, 59580, 4046691, 1922475, 12383, 295062, 530447, 12, 907040, 47840, 17856, 33487, 389, 14182, 275374, 3996, 5331, 37676, 42483, 99914, 364811, 368, 149499, 853, 926029, 25246, 1019, 740762, 174, 4891, 31935, 12381, 1037, 1801030, 65196, 41521, 4655, 380850, 469173, 145957, 113634, 738, 30495, 906376, 805894, 2148625, 167556, 141227, 356421, 979336, 30313, 130902, 10540, 38832, 46540, 36830, 52444, 760463, 99155, 184236, 4541, 20168, 98023, 791901, 434, 55868, 389429, 4590, 2782, 161694, 266134, 9627256, 9555, 14638, 2175165, 672, 3418, 1485513, 414504, 33123, 34382, 2006, 52178, 3485682, 2106, 226765, 20093, 6369, 361343, 8694, 185515, 30657, 25028, 633422, 8959, 15400, 124793, 298409, 10, 474125, 213173, 9083, 923175, 3373674, 355555, 52802, 15154, 884, 4152, 68801, 4315804, 18333, 159294, 589211, 19098, 159863, 654870, 9416, 19927, 83242, 1685324, 30926, 3662, 202088, 13744, 39631, 55806, 5712, 405295, 107953, 13779, 1235681, 14900, 385780, 2491624, 12071, 449820, 189982, 956, 7130, 1880796, 6192, 163775, 28345, 112900, 653, 248009, 12181, 271067, 30169, 3245, 749897, 262683, 28639, 368391, 633877, 4256, 12491, 735343, 323753, 823527, 65067, 8899, 38436, 32119, 113833, 4642, 1716394, 8480, 2637803, 50512, 341855, 42996, 1050, 268423, 6599, 657747, 466274, 1379141, 3503, 25340, 393236, 1169, 1417, 23016, 26222, 39384, 42808, 115, 203363, 6951, 1411, 928, 111, 3739, 170775, 913, 4526, 26108, 16207, 3274, 53473, 27718, 246322, 24988, 444294, 567395, 4889, 37438, 43040, 36180, 1001, 1043654, 4246, 1583, 39305, 485797, 27090, 1020, 1569, 68813, 2313, 30783, 1274212, 103, 69228, 159450, 9801, 896, 154, 418098, 69669, 14913, 470927, 1170164, 2675, 31950, 2872, 29611, 469676, 1088, 219486, 132268, 206107, 174810, 59518, 3016309, 5170, 55777, 1516031, 194292, 890, 1805564, 6618, 303268, 44782, 281407, 219745, 4008, 172297, 189962, 156493, 200248, 431179, 301870, 282106, 3142, 1601863, 11568, 444743, 7976, 161974, 1285900, 55886, 3904, 12725, 283609, 80729, 28139, 149, 16477, 607002, 28684, 12509, 244998, 10087, 35939, 71411, 781792, 185346, 44597, 1391685, 506514, 179867, 7279, 3523176, 41638, 948342, 21210, 6441, 160618, 7160, 555041, 495840, 4043, 9878, 18112, 286805, 147538, 31481, 149110, 50127, 219257, 46684, 4, 473350, 5202, 83226, 9084, 227703, 1333683, 2375393, 44423, 205613, 8901, 16536, 1063523, 65670, 963689, 1204731, 78015, 92391, 146229, 181165, 3351, 80533, 57207, 2638, 132072, 34449, 107008, 386854, 223787, 160628, 19144, 21874, 9599, 31814, 141439, 163206, 43922, 115636, 146, 3189, 59628, 497564, 456, 7037018, 188744, 244344, 208697, 4282, 15575, 1639488, 85772, 2918, 2175842, 106752, 5668, 24240, 3735, 3261, 119441, 499873, 6109078, 13924, 830380, 39236, 424824, 10612741, 1532533, 3621, 40272, 31717, 24404, 32184, 2928, 24765, 83285, 19666, 3867690, 9705, 1933271, 231244, 42966, 6060, 32141, 159049, 353402, 22788, 113168, 18054, 372650, 7553, 80818, 621407, 229792, 5277, 44179, 17915, 280778, 3600, 59606, 1718, 1450791, 3571, 89917, 152, 17718, 1524, 37746, 1731, 411820, 92241, 44452, 56446, 5033533, 2836, 836547, 75097, 74865, 4006876, 5024, 7575, 50392, 74909, 97597, 34371, 10088, 10508, 4520, 488, 289473, 63896, 715, 9802164, 359315, 20548, 15530, 379153, 7209, 28717, 18460, 72411, 813319, 1039164, 26242, 48216, 3736, 28755, 8866, 726834, 4446, 28975, 5195, 1952185, 263, 11069, 17456, 80417, 14899, 154773, 146002, 3074, 422873, 4289387, 2191, 68233, 66833, 7555, 46983, 31919, 272542, 2137, 958, 4402020, 218410, 22697, 10542, 78931, 50946, 43988, 36561, 144794, 273210, 1035, 325803, 827, 10259185, 98323, 190682, 25808, 891326, 1237, 36212, 13822, 8506, 863, 105409, 939652, 101457, 332746, 993, 193052, 8729, 2544679, 101855, 77469, 2654, 419571, 3210, 872709, 3918, 135637, 15962, 812705, 11455, 13709, 933, 23219, 705, 155832, 3, 47706, 37466, 200669, 1480, 131349, 60209, 2823243, 1287625, 423906, 186618, 177444, 134715, 13725, 3367, 393, 2927, 1622, 115564, 110116, 107404, 100718, 180887, 46061, 197253, 79127, 81147, 37360, 5903, 5146, 188899, 311914, 7697, 58824, 1472957, 1237, 30558, 206844, 959365, 10779, 55924, 23066, 93536, 784, 519, 163163, 898178, 1515095, 1798, 1871836, 88297, 15413, 32308, 16403, 17007, 22463, 672800, 32137, 1126459, 540411, 12359, 2045, 977035, 16708, 18052, 1241829, 88414, 25193, 25970, 15301, 56663, 75601, 5304, 3108262, 6735, 216732, 4086, 54207, 5010, 14741, 91072, 3057759, 86279, 461611, 551, 107390, 1006, 246453, 9362, 689850, 119287, 36880, 365717, 20339, 1450472, 333059, 2663304, 30688, 81456, 54785, 23354, 9498, 136976, 37747, 37676, 125545, 61765, 44675, 12629, 131565, 29234, 859, 2778, 382281, 45103, 854, 2073, 18228091, 43727, 22026, 57706, 10361, 106455, 999494, 18940, 937, 1719, 48489, 37765, 735567, 34130, 14334, 124072, 102486, 727, 461, 26367, 960, 216, 471054, 13201, 18873, 17627, 53275, 472814, 92956, 639709, 46213, 6258, 1904, 178459, 7849, 1065215, 15124, 812174, 14699, 44002, 1785, 468377, 51103, 25692, 6214, 50015, 36816, 30538, 36257, 164347, 189195, 3973, 2447, 41702, 11013, 413, 3839, 19510, 518, 7938, 137811, 16546, 157965, 4066461, 54560, 502406, 185279, 593078, 210217, 929238, 17187, 4314, 4157, 166029, 1718287, 33318, 2219, 118033, 75, 57799, 304221, 879, 2687, 877902, 9123, 943, 52445, 11233, 6255, 60706, 931325, 4815932, 197696, 2053247, 568807, 2541662, 1038970, 400767, 229625, 1406894, 13844, 52332, 182992, 3802, 29972, 567, 89122, 30302, 136667, 674190, 352674, 78060, 240101, 4854350, 1364, 937, 22204, 24504, 14087, 6311, 27511, 124, 28659, 13266, 232302, 516945, 261996, 207, 24975, 10623, 11246, 231948, 564865, 14675, 19923, 19668, 153329, 812189, 8070, 361594, 279154, 626860, 26034, 106528, 540, 436204, 12081, 180683, 4112, 68524, 388122, 32687, 334925, 29282, 50114, 223585, 56703, 186992, 759610, 10136, 572075, 3899, 4126044, 28841, 797867, 30705, 50786, 11783, 115409, 77658, 176098, 24943, 253817, 69695, 7473, 534157, 6336, 1913448, 421420, 450698, 26867, 1247, 49277, 49260, 10290, 76737, 98834, 4273887, 31078, 656515, 2, 240495, 27936, 147920, 12331, 16428, 2021, 4655641, 34300, 801471, 125245, 11992, 78384, 282665, 20114, 2221, 40805, 14195, 5264, 851, 587465, 74570, 3388, 93612, 1063222, 201458, 9922, 281351, 24591, 262821, 321782, 504983, 321127, 47917, 645114, 19022, 338149, 3516856, 1300, 1592, 117097, 311465, 6954, 105972, 1205192, 78019, 4458, 7170, 164218, 510063, 2933, 909147, 3132, 12916, 5504, 75693, 6780, 206001, 870, 66918, 1754, 126477, 964180, 9792, 1247436, 48453, 71362, 224985, 1966980, 148, 1151, 487175, 9821, 2405, 61811, 5937097, 194358, 27537, 9334, 19044, 45140, 64576, 7627, 323323, 1713286, 99025, 328255, 244335, 135524, 6142, 65, 16686, 398711, 2045, 169229, 3916, 2817046, 100401, 78569, 12409, 289277, 112076, 3525, 197583, 328105, 36027, 8671, 4857, 21713, 13202, 1218578, 59724, 824134, 89574, 20490, 49395, 70001, 15087, 46399, 16093, 3921, 181861, 2755, 121, 916719, 3672, 847, 14, 94884, 622909, 37385, 6732, 1183287, 1071590, 35414, 283247, 223838, 11216, 125423, 83094, 1842, 445044, 259441, 115282, 71994, 1609479, 297371, 3291, 119, 9909, 108538, 15892, 468570, 211557, 5447, 133210, 1660, 3251748, 118865, 1080230, 2311, 37177, 2969, 904362, 335749, 224435, 126029, 2867928, 296038, 10909, 361431, 355463, 15563, 524119, 2555940, 3346593, 91535, 20971, 1862, 2119428, 1830, 2415948, 561744, 438873, 14400, 368, 5523, 316412, 27942, 33765, 19610, 27016, 153, 138667, 441361, 381080, 52499, 1056290, 4079, 2012788, 9714, 40712, 528891, 5224, 194695, 19261, 204504, 15971, 36995, 6255, 197781, 11338, 17531, 449470, 454, 1214, 342623, 396252, 4312, 3257, 33183, 1813, 15211, 7834, 142433, 2936, 443258, 9788, 2909454, 199803, 133451, 92766, 585749, 122609, 19344, 4293, 4104, 5177, 48920, 4124819, 1550871, 220737, 2474, 13618, 78183, 241618, 41753, 56053, 5682, 12154, 6407, 8294, 2619167, 252935, 31713, 15371, 58863, 284001, 132153, 89615, 636458, 37964, 134249, 10474, 20650, 76311, 141117, 679, 6959, 9066, 329667, 21302, 1931764, 304195, 26404, 332, 501963, 25344, 590143, 29865, 95028, 73, 10194, 1456546, 62631, 28290, 270055, 52418, 298, 209822, 57394, 886, 1032462, 126126, 8554, 2857279, 3318029, 358099, 260476, 21580, 81318, 19485, 460992, 94125, 24074, 2, 17731, 12973, 10960, 875524, 323890, 704494, 1343341, 38919, 4766, 29955, 75202, 18376, 24719, 16105, 245895, 45974, 71001, 71949, 6801, 1640535, 1986233, 75220, 51062, 4986, 40345, 3887, 292587, 2074, 442, 101146, 6334, 33227, 135584, 1895672, 5116913, 208, 114851, 15284, 896, 49487, 487128, 2076, 23012, 233959, 148069, 3927, 840842, 525556, 40947, 1093129, 451193, 50041, 20856, 451600, 59081, 22460, 523467, 45402, 966, 6868, 60649, 545720, 49312, 1113432, 271883, 25533, 309, 105615, 109920, 83446, 135324, 28027, 245, 636, 1662128, 26920, 36008, 2185, 3796, 46058, 127378, 7197013, 306540, 109883, 214727, 171874, 2057912, 17753, 728036, 4243, 7191, 1026, 97816, 2224, 292911, 218553, 228189, 4481, 46924, 269, 46605, 548450, 60073, 579, 70152, 356739, 3598, 9549, 5776, 8779, 11200, 628814, 242267, 109185, 3826, 189069, 24531, 1390837, 28642, 248614, 186496, 155121, 95935, 3608, 53434, 642296, 1001800, 56874, 1241033, 199334, 794, 1595, 147289, 3803, 16085, 36439, 10524, 16326, 71552, 19418, 313023, 933, 43844, 2312, 205272, 10908, 24471, 4942, 150072, 3876, 618673, 117534, 8361, 66699, 100, 4216, 838, 736516, 28275, 54162, 410454, 334763, 244910, 35794, 107816, 30217, 4058455, 39673, 119773, 446558, 75438, 100921, 392195, 327881, 714316, 8418822, 35071, 54524, 524, 28784089, 23176971, 88105, 55771, 5508, 20150, 8323, 880002, 191048, 778118, 56247, 50405, 12073, 267344, 38471, 148, 61299, 266191, 41036, 1187, 68914, 1414093, 119065, 351080, 22552, 19338, 1224765, 9481114, 154562, 33900, 52308, 195301, 33067, 1041435, 196752, 786755, 1638741, 178535, 17069, 1350616, 484969, 3681210, 323455, 13175, 897989, 384180, 43219, 32069, 143589, 88117, 807495, 10009, 331515, 87116, 8259, 65610, 12693, 21492, 191273, 37827, 690179, 7512, 6145, 7754, 212990, 811380, 23332, 254954, 41919, 487516, 303648, 32286, 12861, 866662, 797327, 1901, 407701, 309034, 1531874, 122301, 74091, 34218, 1616278, 10879, 96509, 281640, 869805, 30717, 5991403, 93546, 287, 70007, 150150, 11816, 91, 805689, 463143, 38010, 508470, 44865, 5909, 123055, 2514354, 3826448, 14079, 74876, 13554764, 150957, 636138, 1561, 26978, 52824, 4753, 33490, 74823, 66970, 1656451, 53594, 4736, 1077, 50437, 344799, 32545, 890, 19293, 8085, 24451, 382199, 285731, 36507, 233347, 9890, 1438239, 31160, 155820, 58643, 68047, 242519, 93112, 8713, 1696, 3489398, 42024, 269246, 73786, 7344, 14330, 5146, 269067, 342471, 665901, 7101, 362268, 1145, 64880, 48186, 2158799, 48249, 24786, 364421, 2656979, 596279, 23372, 232108, 1570, 502850, 229534, 4035, 1067, 10800, 188391, 143064, 3326, 531367, 106542, 382717, 57565, 72976, 167091, 614864, 163, 3097, 5150953, 2439, 172707, 55642, 154642, 635404, 194315, 206031, 2225, 1904856, 22338, 14852, 371457, 971417, 865255, 954, 9574, 52065, 1, 741903, 323744, 13333, 11943, 9070477, 416853, 1135, 1770, 187456, 269662, 2043270, 1705, 702, 299488, 501344, 52743, 748275, 102910, 3574, 964, 466902, 18078, 33709, 1840502, 5319, 53700, 157054, 677136, 235780, 5885, 198260, 11049, 92631, 98897, 240, 62555, 22555, 844749, 178105, 65947, 859, 4678392, 5915, 2915, 30888, 570769, 27661, 29751, 4664504, 8755, 102427, 100766, 1256, 8020, 108193, 24230, 16582, 102990, 6147, 115959, 251657, 1767, 136965, 358175, 1201, 33636, 262484, 446544, 190847, 92894, 43465, 2007, 41, 107702, 2286, 12984, 22699, 9967, 1248, 1181372, 2763, 16283, 181990, 23018, 96368, 292, 100258, 2708, 1641, 3690, 6343834, 23833, 81821, 45619, 2045536, 10160, 80540, 5540, 10157, 1919098, 50732, 356708, 521741, 1145, 9162404, 58928, 427334, 58134, 4030, 141688, 4292, 711335, 10188, 37541, 131679, 1134746, 633, 101668, 285797, 31479, 56738, 8938, 3635, 323, 208, 2588, 2506, 528332, 27831, 586440, 14502, 40252, 29379, 4384, 74791, 49666, 168879, 34910, 268, 83, 76157, 18582, 5048, 308, 212786, 17659, 28465, 1060676, 5102, 88273, 13906, 3354, 15134, 120, 3245780, 5281, 156433, 18677, 30425, 72992, 2779268, 70248, 11656, 176748, 20226, 37755, 24349, 124257, 191173, 29529, 9639, 67255, 547660, 666477, 210252, 68045, 149, 289984, 21595, 44368, 26383, 677010, 1507052, 541304, 87849, 24351, 35351, 301202, 2282705, 9027, 2228, 1548007, 2313, 63669, 482, 94667, 513540, 218413, 2109, 2970444, 136157, 8628, 512788, 25167, 14951, 10891, 2379, 67250, 218931, 970632, 5912, 36375, 644, 281991, 45602, 13061, 193975, 379659, 29956, 20684, 44873, 46104, 36705, 863940, 55459, 98096, 19863, 35633, 3830926, 136757, 325960, 158294, 7646, 2238, 3651289, 1589551, 1499618, 222741, 1627436, 30771, 1936, 2375, 236901, 1402, 169841, 16167, 411723, 4148, 88736, 24193, 72279, 451066, 48622, 1041008, 5160, 27756, 7228679, 25122, 162082, 494167, 217161, 33249, 6595, 2112, 131444, 37608, 10985, 10262067, 32816, 10652, 5743, 339904, 917302, 4166, 1076, 6657, 1452, 255171, 26626, 33462, 684551, 119065, 24384, 16022, 1569961, 488100, 887759, 3713, 446114, 16846, 12409, 566566, 35204, 1756557, 9127, 44305, 217121, 66915, 28084, 14521, 253492, 33772, 857, 3064, 4354, 97371, 3565, 560914, 278715, 407827, 952034, 37664, 3228033, 122231, 19178, 2655821, 18760, 37406, 42389, 21999, 12038, 2673, 12414920, 12519, 47818, 666731, 29006, 3246, 735311, 25471, 2731236, 250508, 6489, 353899, 914034, 22788, 53980, 75450, 32913, 788878, 617044, 7048, 617621, 42622, 1895105, 567364, 38651, 115443, 12038, 250934, 406961, 137142, 6447867, 111, 165650, 1122279, 97137, 5660, 18793, 476, 8800, 1448089, 64764, 972935, 82599, 699822, 8507, 129603, 3006, 2, 23176, 3081, 861700, 183699, 23796, 11138, 11166, 281839, 9090521, 25774, 221299, 28296, 6613, 54060, 387357, 36574, 592500, 72668, 9462, 50980, 375220, 10551, 19059, 921045, 35185, 273153, 13155, 72450, 52800, 99719, 85654, 58773, 8061, 24406, 15571, 3093, 11619, 2499909, 79433, 35139, 15092, 1391670, 980647, 28638, 21446, 12915, 20694, 29335, 11529, 32192, 137729, 82781, 1880, 381370, 3347, 154686, 264676, 31495, 3333204, 100885, 832599, 12024, 350, 272115, 4923, 8652, 108, 42809, 11576, 4942, 32572, 73198, 223242, 499096, 16484, 31896, 495, 3334431, 36182, 246051, 37075, 74736, 2799, 144114, 230704, 97280, 308409, 652102, 73042, 7765, 7727, 862207, 384063, 112311, 26866, 189805, 2394, 86037, 52270, 376845, 11633, 550293, 2373326, 42165, 161300, 50945, 555633, 819151, 6989, 143420, 189966, 5526, 367661, 5389540, 239933, 21122, 151163, 96138, 264, 2416, 27788, 183343, 38205, 38967, 4591, 40216, 44808, 33079, 2979449, 564215, 9094, 30311396, 229284, 490268, 3860, 35776, 1929656, 177220, 7639, 2616033, 169309, 40121, 45298, 171032, 2340, 14140, 13088, 2755, 31212, 8028, 85974, 382270, 454378, 2860, 10581, 11420, 2100, 78960, 274445, 563, 640748, 39388, 13426356, 266613, 955121, 3906, 40879, 130975, 32075, 16098, 6347, 272595, 1788813, 236560, 4980733, 28130, 1067788, 5250, 77797, 31480, 151624, 79201, 1116197, 2814672, 199284, 84382], \"yaxis\": \"y\"}, {\"hoverlabel\": {\"namelength\": 0}, \"hovertemplate\": \"<b>OLS trendline</b><br>Impressions = 449.125503 * Spend + 37875.849815<br>R<sup>2</sup>=0.525740<br><br>Spend=%{x}<br>Impressions=%{y} <b>(trend)</b>\", \"legendgroup\": \"\", \"marker\": {\"color\": \"#636efa\", \"symbol\": \"circle\"}, \"mode\": \"lines\", \"name\": \"\", \"showlegend\": false, \"type\": \"scattergl\", \"x\": [0, 0, 0, 0, 0, 0, 0, 0, 0, 0, 0, 0, 0, 0, 0, 0, 0, 0, 0, 0, 0, 0, 0, 0, 0, 0, 0, 0, 0, 0, 0, 0, 0, 0, 0, 0, 0, 0, 0, 0, 0, 0, 0, 0, 1, 1, 1, 1, 1, 1, 1, 1, 1, 1, 1, 1, 1, 1, 1, 1, 1, 1, 1, 1, 1, 1, 1, 1, 1, 1, 1, 2, 2, 2, 2, 2, 2, 2, 2, 2, 2, 2, 2, 2, 2, 2, 2, 2, 2, 2, 2, 2, 2, 2, 2, 2, 2, 2, 2, 3, 3, 3, 3, 3, 3, 3, 3, 3, 3, 3, 3, 3, 3, 3, 3, 3, 3, 3, 3, 3, 3, 3, 3, 3, 3, 3, 3, 3, 4, 4, 4, 4, 4, 4, 4, 4, 4, 4, 4, 4, 4, 4, 4, 4, 4, 4, 4, 4, 4, 4, 4, 4, 4, 4, 4, 5, 5, 5, 5, 5, 5, 5, 5, 5, 5, 5, 5, 5, 5, 5, 5, 5, 5, 5, 5, 5, 5, 5, 5, 5, 5, 6, 6, 6, 6, 6, 6, 6, 6, 6, 6, 6, 6, 6, 6, 6, 6, 6, 6, 6, 6, 6, 6, 7, 7, 7, 7, 7, 7, 7, 7, 7, 7, 7, 7, 7, 7, 7, 7, 7, 7, 7, 7, 7, 7, 8, 8, 8, 8, 8, 8, 8, 8, 8, 8, 8, 8, 8, 8, 8, 8, 8, 8, 8, 8, 8, 9, 9, 9, 9, 9, 9, 9, 9, 9, 9, 9, 9, 9, 9, 9, 9, 9, 10, 10, 10, 10, 10, 10, 10, 10, 10, 10, 10, 10, 10, 10, 10, 10, 10, 10, 10, 11, 11, 11, 11, 11, 11, 11, 11, 11, 11, 11, 11, 11, 11, 12, 12, 12, 12, 12, 12, 12, 12, 12, 12, 12, 12, 12, 12, 12, 12, 12, 12, 12, 13, 13, 13, 13, 13, 13, 13, 13, 13, 13, 13, 13, 13, 13, 13, 13, 14, 14, 14, 14, 14, 14, 14, 14, 14, 14, 14, 14, 14, 14, 14, 14, 14, 14, 15, 15, 15, 15, 15, 15, 15, 15, 15, 15, 15, 15, 15, 15, 15, 16, 16, 16, 16, 16, 16, 16, 16, 16, 16, 17, 17, 17, 17, 17, 17, 17, 17, 17, 18, 18, 18, 18, 18, 18, 18, 18, 18, 18, 18, 18, 18, 19, 19, 19, 19, 19, 19, 19, 19, 19, 20, 20, 20, 20, 20, 20, 20, 20, 20, 20, 21, 21, 21, 21, 21, 21, 21, 21, 21, 21, 21, 22, 22, 22, 22, 22, 22, 22, 22, 22, 22, 22, 22, 22, 22, 22, 23, 23, 23, 23, 23, 23, 23, 23, 23, 23, 23, 24, 24, 24, 24, 24, 24, 24, 24, 24, 25, 25, 25, 25, 25, 25, 25, 25, 25, 25, 25, 25, 25, 25, 26, 26, 26, 26, 26, 26, 26, 27, 27, 27, 27, 27, 27, 27, 27, 27, 27, 27, 28, 28, 28, 28, 28, 28, 28, 29, 29, 29, 29, 29, 29, 29, 29, 29, 29, 29, 30, 30, 30, 30, 30, 30, 30, 30, 31, 31, 31, 31, 31, 31, 32, 32, 32, 32, 32, 32, 32, 32, 32, 32, 32, 32, 32, 33, 33, 33, 33, 33, 33, 33, 33, 33, 33, 33, 33, 33, 34, 34, 34, 34, 34, 34, 34, 35, 35, 35, 35, 35, 35, 35, 35, 35, 35, 35, 35, 36, 36, 36, 36, 36, 36, 36, 36, 36, 36, 36, 36, 37, 37, 37, 37, 37, 37, 37, 37, 37, 37, 37, 37, 38, 38, 38, 38, 38, 38, 38, 38, 38, 39, 39, 39, 39, 39, 39, 39, 39, 40, 40, 40, 40, 40, 40, 40, 40, 40, 40, 40, 40, 40, 40, 40, 41, 41, 41, 41, 41, 41, 41, 41, 42, 42, 42, 42, 42, 42, 42, 42, 43, 43, 43, 43, 43, 43, 43, 43, 43, 44, 44, 44, 44, 44, 44, 44, 44, 44, 45, 45, 45, 45, 45, 45, 45, 46, 46, 46, 46, 46, 47, 47, 47, 47, 47, 47, 47, 47, 48, 48, 48, 48, 48, 48, 48, 48, 48, 48, 48, 48, 49, 49, 49, 49, 49, 49, 49, 49, 50, 50, 50, 50, 50, 50, 50, 50, 50, 50, 50, 50, 51, 51, 51, 51, 51, 51, 51, 51, 52, 52, 52, 52, 53, 53, 53, 53, 54, 54, 54, 54, 54, 55, 55, 55, 55, 55, 55, 55, 55, 55, 55, 55, 55, 55, 55, 56, 56, 56, 56, 56, 56, 57, 57, 57, 57, 57, 57, 58, 58, 58, 58, 58, 58, 59, 59, 59, 59, 60, 60, 60, 60, 60, 60, 61, 61, 61, 61, 61, 61, 61, 61, 61, 62, 62, 62, 62, 62, 63, 63, 63, 63, 63, 63, 63, 63, 63, 64, 64, 64, 64, 64, 64, 64, 65, 65, 65, 65, 65, 65, 65, 65, 66, 67, 67, 67, 67, 68, 68, 68, 68, 68, 68, 68, 68, 69, 69, 69, 69, 69, 69, 70, 70, 70, 70, 70, 70, 70, 71, 71, 71, 71, 71, 71, 71, 72, 72, 72, 72, 72, 72, 72, 73, 73, 73, 73, 73, 73, 73, 74, 74, 74, 74, 74, 74, 75, 75, 76, 76, 76, 76, 77, 77, 77, 77, 77, 78, 78, 78, 78, 78, 78, 78, 78, 79, 79, 79, 79, 79, 80, 80, 80, 80, 81, 81, 82, 82, 82, 82, 83, 83, 84, 84, 84, 85, 85, 85, 85, 86, 86, 86, 86, 86, 86, 87, 87, 87, 87, 87, 88, 88, 88, 88, 89, 89, 89, 89, 90, 91, 91, 91, 91, 91, 91, 91, 91, 92, 92, 92, 92, 93, 93, 93, 93, 93, 94, 94, 94, 94, 94, 95, 96, 96, 96, 96, 97, 97, 97, 97, 97, 97, 97, 97, 98, 98, 98, 98, 98, 98, 98, 98, 98, 99, 99, 99, 99, 99, 99, 99, 100, 100, 100, 100, 100, 100, 100, 100, 100, 100, 100, 100, 100, 100, 100, 100, 100, 101, 101, 102, 102, 102, 102, 102, 103, 103, 103, 104, 104, 104, 105, 105, 105, 105, 106, 106, 106, 106, 106, 106, 106, 107, 107, 107, 107, 108, 108, 108, 108, 109, 110, 110, 110, 110, 110, 112, 113, 113, 113, 113, 113, 113, 114, 114, 115, 115, 115, 116, 116, 116, 116, 117, 117, 117, 117, 118, 118, 118, 118, 118, 118, 119, 119, 119, 120, 120, 121, 121, 121, 121, 122, 122, 123, 123, 123, 123, 123, 124, 124, 124, 125, 125, 125, 125, 125, 125, 126, 126, 126, 126, 126, 126, 127, 127, 127, 128, 128, 128, 129, 129, 129, 130, 130, 131, 131, 131, 131, 131, 132, 132, 132, 132, 133, 133, 133, 134, 134, 134, 135, 135, 136, 136, 137, 138, 138, 138, 138, 139, 139, 139, 140, 140, 140, 140, 140, 140, 140, 140, 141, 141, 141, 142, 142, 142, 142, 142, 142, 143, 143, 143, 143, 144, 144, 145, 146, 146, 146, 147, 147, 147, 147, 148, 148, 148, 149, 149, 149, 149, 150, 150, 150, 150, 150, 150, 150, 150, 150, 150, 150, 151, 152, 152, 152, 152, 152, 152, 153, 154, 155, 155, 155, 156, 157, 157, 157, 157, 158, 158, 158, 159, 159, 159, 160, 160, 161, 161, 162, 162, 162, 163, 165, 166, 167, 167, 168, 169, 169, 170, 172, 172, 173, 173, 173, 174, 174, 174, 174, 175, 176, 177, 180, 180, 180, 181, 182, 182, 184, 184, 184, 185, 185, 186, 186, 186, 187, 187, 188, 188, 189, 190, 190, 191, 191, 191, 191, 192, 192, 192, 192, 192, 193, 193, 194, 195, 195, 196, 196, 197, 197, 197, 198, 199, 199, 200, 200, 200, 200, 200, 200, 200, 200, 200, 201, 203, 204, 205, 206, 206, 206, 207, 209, 209, 209, 209, 210, 210, 211, 212, 212, 212, 214, 214, 216, 216, 216, 218, 218, 219, 219, 220, 220, 220, 221, 221, 221, 221, 222, 223, 223, 225, 226, 226, 226, 227, 227, 228, 228, 229, 229, 230, 231, 232, 232, 232, 232, 233, 233, 233, 233, 234, 237, 238, 239, 239, 240, 240, 240, 242, 243, 243, 244, 245, 245, 245, 246, 246, 247, 247, 248, 249, 250, 250, 250, 250, 250, 250, 252, 253, 253, 254, 255, 256, 257, 258, 259, 260, 261, 262, 263, 263, 264, 265, 270, 270, 272, 273, 273, 274, 275, 276, 276, 276, 278, 278, 278, 278, 279, 280, 282, 283, 284, 285, 285, 286, 286, 288, 289, 289, 289, 289, 292, 292, 292, 295, 295, 295, 296, 299, 299, 299, 299, 299, 300, 300, 300, 300, 300, 300, 300, 300, 301, 304, 304, 304, 306, 307, 307, 308, 308, 310, 311, 311, 311, 311, 311, 312, 312, 313, 313, 314, 316, 318, 319, 319, 320, 320, 321, 322, 322, 322, 324, 325, 325, 326, 326, 328, 329, 330, 332, 335, 335, 336, 337, 338, 338, 338, 339, 339, 340, 340, 343, 343, 344, 345, 345, 348, 349, 350, 350, 350, 351, 352, 352, 353, 354, 354, 354, 355, 355, 358, 358, 358, 359, 359, 360, 360, 361, 361, 362, 364, 365, 365, 365, 365, 366, 366, 368, 372, 372, 373, 373, 374, 374, 374, 374, 377, 378, 378, 378, 380, 380, 381, 381, 381, 382, 382, 383, 383, 383, 384, 384, 384, 385, 385, 389, 390, 395, 395, 395, 395, 398, 398, 398, 399, 399, 399, 399, 400, 406, 408, 408, 409, 410, 410, 413, 415, 416, 418, 421, 421, 422, 423, 424, 425, 427, 429, 430, 431, 431, 433, 434, 435, 436, 437, 437, 437, 438, 439, 444, 446, 446, 448, 448, 448, 449, 450, 450, 450, 450, 451, 451, 452, 452, 456, 458, 459, 460, 460, 461, 463, 467, 469, 472, 474, 476, 477, 479, 479, 482, 483, 484, 485, 485, 487, 488, 490, 497, 497, 498, 498, 499, 500, 500, 500, 500, 500, 500, 500, 500, 501, 501, 502, 502, 505, 505, 508, 511, 512, 513, 514, 521, 522, 523, 524, 525, 528, 528, 529, 530, 532, 533, 535, 535, 537, 537, 537, 538, 539, 539, 542, 542, 543, 543, 553, 555, 559, 568, 570, 570, 574, 579, 581, 582, 582, 583, 586, 587, 590, 590, 591, 595, 597, 598, 599, 600, 600, 602, 604, 605, 605, 605, 606, 606, 606, 608, 609, 610, 613, 616, 616, 617, 622, 625, 626, 630, 632, 636, 637, 638, 639, 641, 642, 644, 652, 652, 652, 654, 654, 657, 662, 667, 668, 669, 678, 679, 680, 681, 682, 683, 685, 691, 692, 693, 694, 695, 699, 699, 700, 700, 700, 700, 707, 712, 712, 713, 717, 718, 718, 719, 720, 721, 721, 722, 725, 725, 728, 729, 733, 733, 734, 734, 743, 747, 747, 747, 748, 748, 748, 748, 750, 750, 752, 752, 755, 755, 762, 765, 769, 770, 770, 774, 776, 776, 776, 777, 777, 778, 781, 781, 785, 786, 790, 792, 792, 798, 798, 800, 801, 801, 802, 807, 809, 810, 812, 814, 814, 815, 817, 823, 827, 833, 836, 839, 841, 843, 845, 847, 848, 850, 852, 853, 855, 855, 861, 866, 867, 868, 869, 871, 874, 874, 875, 875, 875, 875, 879, 882, 882, 882, 882, 887, 888, 888, 892, 896, 896, 898, 898, 900, 900, 901, 911, 915, 916, 921, 925, 929, 937, 951, 957, 962, 968, 975, 979, 979, 982, 993, 999, 1000, 1000, 1000, 1000, 1000, 1000, 1000, 1000, 1001, 1003, 1009, 1015, 1018, 1025, 1026, 1027, 1030, 1031, 1034, 1037, 1043, 1048, 1049, 1058, 1058, 1058, 1058, 1059, 1061, 1068, 1072, 1072, 1074, 1080, 1081, 1082, 1090, 1098, 1108, 1121, 1128, 1130, 1136, 1144, 1150, 1153, 1154, 1158, 1169, 1173, 1179, 1181, 1181, 1181, 1181, 1184, 1188, 1188, 1201, 1219, 1221, 1232, 1233, 1234, 1235, 1235, 1237, 1249, 1257, 1258, 1260, 1271, 1287, 1291, 1298, 1302, 1305, 1318, 1323, 1328, 1335, 1341, 1352, 1353, 1358, 1365, 1366, 1366, 1367, 1371, 1374, 1375, 1379, 1383, 1392, 1400, 1405, 1410, 1417, 1427, 1435, 1440, 1447, 1463, 1465, 1467, 1470, 1499, 1499, 1499, 1500, 1500, 1500, 1500, 1500, 1503, 1505, 1512, 1513, 1529, 1542, 1545, 1554, 1558, 1573, 1576, 1591, 1601, 1609, 1621, 1628, 1667, 1686, 1687, 1721, 1730, 1750, 1755, 1762, 1766, 1769, 1772, 1798, 1812, 1816, 1817, 1820, 1827, 1842, 1845, 1864, 1904, 1905, 1923, 1946, 1949, 1957, 1959, 1970, 1976, 1998, 1999, 2000, 2000, 2000, 2011, 2017, 2023, 2028, 2050, 2057, 2062, 2076, 2085, 2097, 2102, 2118, 2125, 2125, 2130, 2139, 2152, 2169, 2172, 2178, 2188, 2200, 2200, 2206, 2216, 2233, 2235, 2250, 2253, 2263, 2289, 2293, 2300, 2329, 2330, 2391, 2422, 2436, 2465, 2467, 2473, 2500, 2500, 2528, 2539, 2550, 2556, 2576, 2698, 2699, 2700, 2753, 2763, 2771, 2784, 2803, 2807, 2811, 2820, 2862, 2865, 2871, 2874, 2894, 2937, 2941, 2950, 2960, 2960, 2967, 2969, 2971, 2972, 2979, 3000, 3018, 3019, 3042, 3058, 3059, 3066, 3069, 3102, 3114, 3158, 3163, 3196, 3275, 3297, 3322, 3351, 3380, 3400, 3407, 3425, 3425, 3453, 3457, 3462, 3524, 3548, 3555, 3570, 3593, 3637, 3662, 3737, 3749, 3750, 3770, 3830, 3864, 3867, 3880, 3947, 3991, 4005, 4187, 4200, 4231, 4293, 4300, 4384, 4500, 4590, 4624, 4647, 4706, 4717, 4741, 4796, 4986, 4998, 4999, 5000, 5072, 5127, 5151, 5174, 5186, 5350, 5383, 5399, 5452, 5500, 5518, 5529, 5666, 5666, 5747, 5749, 5750, 5756, 5756, 5815, 5900, 6007, 6022, 6042, 6046, 6126, 6136, 6227, 6378, 6415, 6448, 6476, 6500, 6610, 6762, 6767, 6893, 7136, 7174, 7389, 7465, 7481, 7499, 7517, 7678, 7791, 7860, 7958, 8244, 8500, 8666, 8748, 9999, 9999, 10064, 10146, 10360, 10658, 10666, 10874, 10978, 11004, 11565, 11661, 12094, 12240, 12803, 13000, 13088, 13138, 13877, 13883, 14050, 14166, 14875, 14882, 14898, 14998, 15000, 17654, 18033, 18612, 19369, 19839, 20832, 21568, 22809, 22976, 22980, 23140, 23362, 23444, 24882, 25000], \"xaxis\": \"x\", \"y\": [37875.849814578425, 37875.849814578425, 37875.849814578425, 37875.849814578425, 37875.849814578425, 37875.849814578425, 37875.849814578425, 37875.849814578425, 37875.849814578425, 37875.849814578425, 37875.849814578425, 37875.849814578425, 37875.849814578425, 37875.849814578425, 37875.849814578425, 37875.849814578425, 37875.849814578425, 37875.849814578425, 37875.849814578425, 37875.849814578425, 37875.849814578425, 37875.849814578425, 37875.849814578425, 37875.849814578425, 37875.849814578425, 37875.849814578425, 37875.849814578425, 37875.849814578425, 37875.849814578425, 37875.849814578425, 37875.849814578425, 37875.849814578425, 37875.849814578425, 37875.849814578425, 37875.849814578425, 37875.849814578425, 37875.849814578425, 37875.849814578425, 37875.849814578425, 37875.849814578425, 37875.849814578425, 37875.849814578425, 37875.849814578425, 37875.849814578425, 38324.97531791895, 38324.97531791895, 38324.97531791895, 38324.97531791895, 38324.97531791895, 38324.97531791895, 38324.97531791895, 38324.97531791895, 38324.97531791895, 38324.97531791895, 38324.97531791895, 38324.97531791895, 38324.97531791895, 38324.97531791895, 38324.97531791895, 38324.97531791895, 38324.97531791895, 38324.97531791895, 38324.97531791895, 38324.97531791895, 38324.97531791895, 38324.97531791895, 38324.97531791895, 38324.97531791895, 38324.97531791895, 38324.97531791895, 38324.97531791895, 38774.10082125947, 38774.10082125947, 38774.10082125947, 38774.10082125947, 38774.10082125947, 38774.10082125947, 38774.10082125947, 38774.10082125947, 38774.10082125947, 38774.10082125947, 38774.10082125947, 38774.10082125947, 38774.10082125947, 38774.10082125947, 38774.10082125947, 38774.10082125947, 38774.10082125947, 38774.10082125947, 38774.10082125947, 38774.10082125947, 38774.10082125947, 38774.10082125947, 38774.10082125947, 38774.10082125947, 38774.10082125947, 38774.10082125947, 38774.10082125947, 38774.10082125947, 39223.22632459999, 39223.22632459999, 39223.22632459999, 39223.22632459999, 39223.22632459999, 39223.22632459999, 39223.22632459999, 39223.22632459999, 39223.22632459999, 39223.22632459999, 39223.22632459999, 39223.22632459999, 39223.22632459999, 39223.22632459999, 39223.22632459999, 39223.22632459999, 39223.22632459999, 39223.22632459999, 39223.22632459999, 39223.22632459999, 39223.22632459999, 39223.22632459999, 39223.22632459999, 39223.22632459999, 39223.22632459999, 39223.22632459999, 39223.22632459999, 39223.22632459999, 39223.22632459999, 39672.35182794051, 39672.35182794051, 39672.35182794051, 39672.35182794051, 39672.35182794051, 39672.35182794051, 39672.35182794051, 39672.35182794051, 39672.35182794051, 39672.35182794051, 39672.35182794051, 39672.35182794051, 39672.35182794051, 39672.35182794051, 39672.35182794051, 39672.35182794051, 39672.35182794051, 39672.35182794051, 39672.35182794051, 39672.35182794051, 39672.35182794051, 39672.35182794051, 39672.35182794051, 39672.35182794051, 39672.35182794051, 39672.35182794051, 39672.35182794051, 40121.477331281036, 40121.477331281036, 40121.477331281036, 40121.477331281036, 40121.477331281036, 40121.477331281036, 40121.477331281036, 40121.477331281036, 40121.477331281036, 40121.477331281036, 40121.477331281036, 40121.477331281036, 40121.477331281036, 40121.477331281036, 40121.477331281036, 40121.477331281036, 40121.477331281036, 40121.477331281036, 40121.477331281036, 40121.477331281036, 40121.477331281036, 40121.477331281036, 40121.477331281036, 40121.477331281036, 40121.477331281036, 40121.477331281036, 40570.60283462156, 40570.60283462156, 40570.60283462156, 40570.60283462156, 40570.60283462156, 40570.60283462156, 40570.60283462156, 40570.60283462156, 40570.60283462156, 40570.60283462156, 40570.60283462156, 40570.60283462156, 40570.60283462156, 40570.60283462156, 40570.60283462156, 40570.60283462156, 40570.60283462156, 40570.60283462156, 40570.60283462156, 40570.60283462156, 40570.60283462156, 40570.60283462156, 41019.72833796208, 41019.72833796208, 41019.72833796208, 41019.72833796208, 41019.72833796208, 41019.72833796208, 41019.72833796208, 41019.72833796208, 41019.72833796208, 41019.72833796208, 41019.72833796208, 41019.72833796208, 41019.72833796208, 41019.72833796208, 41019.72833796208, 41019.72833796208, 41019.72833796208, 41019.72833796208, 41019.72833796208, 41019.72833796208, 41019.72833796208, 41019.72833796208, 41468.8538413026, 41468.8538413026, 41468.8538413026, 41468.8538413026, 41468.8538413026, 41468.8538413026, 41468.8538413026, 41468.8538413026, 41468.8538413026, 41468.8538413026, 41468.8538413026, 41468.8538413026, 41468.8538413026, 41468.8538413026, 41468.8538413026, 41468.8538413026, 41468.8538413026, 41468.8538413026, 41468.8538413026, 41468.8538413026, 41468.8538413026, 41917.97934464313, 41917.97934464313, 41917.97934464313, 41917.97934464313, 41917.97934464313, 41917.97934464313, 41917.97934464313, 41917.97934464313, 41917.97934464313, 41917.97934464313, 41917.97934464313, 41917.97934464313, 41917.97934464313, 41917.97934464313, 41917.97934464313, 41917.97934464313, 41917.97934464313, 42367.104847983646, 42367.104847983646, 42367.104847983646, 42367.104847983646, 42367.104847983646, 42367.104847983646, 42367.104847983646, 42367.104847983646, 42367.104847983646, 42367.104847983646, 42367.104847983646, 42367.104847983646, 42367.104847983646, 42367.104847983646, 42367.104847983646, 42367.104847983646, 42367.104847983646, 42367.104847983646, 42367.104847983646, 42816.23035132417, 42816.23035132417, 42816.23035132417, 42816.23035132417, 42816.23035132417, 42816.23035132417, 42816.23035132417, 42816.23035132417, 42816.23035132417, 42816.23035132417, 42816.23035132417, 42816.23035132417, 42816.23035132417, 42816.23035132417, 43265.3558546647, 43265.3558546647, 43265.3558546647, 43265.3558546647, 43265.3558546647, 43265.3558546647, 43265.3558546647, 43265.3558546647, 43265.3558546647, 43265.3558546647, 43265.3558546647, 43265.3558546647, 43265.3558546647, 43265.3558546647, 43265.3558546647, 43265.3558546647, 43265.3558546647, 43265.3558546647, 43265.3558546647, 43714.481358005214, 43714.481358005214, 43714.481358005214, 43714.481358005214, 43714.481358005214, 43714.481358005214, 43714.481358005214, 43714.481358005214, 43714.481358005214, 43714.481358005214, 43714.481358005214, 43714.481358005214, 43714.481358005214, 43714.481358005214, 43714.481358005214, 43714.481358005214, 44163.60686134574, 44163.60686134574, 44163.60686134574, 44163.60686134574, 44163.60686134574, 44163.60686134574, 44163.60686134574, 44163.60686134574, 44163.60686134574, 44163.60686134574, 44163.60686134574, 44163.60686134574, 44163.60686134574, 44163.60686134574, 44163.60686134574, 44163.60686134574, 44163.60686134574, 44163.60686134574, 44612.73236468626, 44612.73236468626, 44612.73236468626, 44612.73236468626, 44612.73236468626, 44612.73236468626, 44612.73236468626, 44612.73236468626, 44612.73236468626, 44612.73236468626, 44612.73236468626, 44612.73236468626, 44612.73236468626, 44612.73236468626, 44612.73236468626, 45061.85786802678, 45061.85786802678, 45061.85786802678, 45061.85786802678, 45061.85786802678, 45061.85786802678, 45061.85786802678, 45061.85786802678, 45061.85786802678, 45061.85786802678, 45510.98337136731, 45510.98337136731, 45510.98337136731, 45510.98337136731, 45510.98337136731, 45510.98337136731, 45510.98337136731, 45510.98337136731, 45510.98337136731, 45960.108874707825, 45960.108874707825, 45960.108874707825, 45960.108874707825, 45960.108874707825, 45960.108874707825, 45960.108874707825, 45960.108874707825, 45960.108874707825, 45960.108874707825, 45960.108874707825, 45960.108874707825, 45960.108874707825, 46409.23437804835, 46409.23437804835, 46409.23437804835, 46409.23437804835, 46409.23437804835, 46409.23437804835, 46409.23437804835, 46409.23437804835, 46409.23437804835, 46858.35988138887, 46858.35988138887, 46858.35988138887, 46858.35988138887, 46858.35988138887, 46858.35988138887, 46858.35988138887, 46858.35988138887, 46858.35988138887, 46858.35988138887, 47307.48538472939, 47307.48538472939, 47307.48538472939, 47307.48538472939, 47307.48538472939, 47307.48538472939, 47307.48538472939, 47307.48538472939, 47307.48538472939, 47307.48538472939, 47307.48538472939, 47756.61088806992, 47756.61088806992, 47756.61088806992, 47756.61088806992, 47756.61088806992, 47756.61088806992, 47756.61088806992, 47756.61088806992, 47756.61088806992, 47756.61088806992, 47756.61088806992, 47756.61088806992, 47756.61088806992, 47756.61088806992, 47756.61088806992, 48205.736391410435, 48205.736391410435, 48205.736391410435, 48205.736391410435, 48205.736391410435, 48205.736391410435, 48205.736391410435, 48205.736391410435, 48205.736391410435, 48205.736391410435, 48205.736391410435, 48654.86189475096, 48654.86189475096, 48654.86189475096, 48654.86189475096, 48654.86189475096, 48654.86189475096, 48654.86189475096, 48654.86189475096, 48654.86189475096, 49103.987398091485, 49103.987398091485, 49103.987398091485, 49103.987398091485, 49103.987398091485, 49103.987398091485, 49103.987398091485, 49103.987398091485, 49103.987398091485, 49103.987398091485, 49103.987398091485, 49103.987398091485, 49103.987398091485, 49103.987398091485, 49553.112901432, 49553.112901432, 49553.112901432, 49553.112901432, 49553.112901432, 49553.112901432, 49553.112901432, 50002.23840477253, 50002.23840477253, 50002.23840477253, 50002.23840477253, 50002.23840477253, 50002.23840477253, 50002.23840477253, 50002.23840477253, 50002.23840477253, 50002.23840477253, 50002.23840477253, 50451.36390811305, 50451.36390811305, 50451.36390811305, 50451.36390811305, 50451.36390811305, 50451.36390811305, 50451.36390811305, 50900.48941145357, 50900.48941145357, 50900.48941145357, 50900.48941145357, 50900.48941145357, 50900.48941145357, 50900.48941145357, 50900.48941145357, 50900.48941145357, 50900.48941145357, 50900.48941145357, 51349.614914794096, 51349.614914794096, 51349.614914794096, 51349.614914794096, 51349.614914794096, 51349.614914794096, 51349.614914794096, 51349.614914794096, 51798.74041813462, 51798.74041813462, 51798.74041813462, 51798.74041813462, 51798.74041813462, 51798.74041813462, 52247.86592147514, 52247.86592147514, 52247.86592147514, 52247.86592147514, 52247.86592147514, 52247.86592147514, 52247.86592147514, 52247.86592147514, 52247.86592147514, 52247.86592147514, 52247.86592147514, 52247.86592147514, 52247.86592147514, 52696.99142481566, 52696.99142481566, 52696.99142481566, 52696.99142481566, 52696.99142481566, 52696.99142481566, 52696.99142481566, 52696.99142481566, 52696.99142481566, 52696.99142481566, 52696.99142481566, 52696.99142481566, 52696.99142481566, 53146.11692815618, 53146.11692815618, 53146.11692815618, 53146.11692815618, 53146.11692815618, 53146.11692815618, 53146.11692815618, 53595.24243149671, 53595.24243149671, 53595.24243149671, 53595.24243149671, 53595.24243149671, 53595.24243149671, 53595.24243149671, 53595.24243149671, 53595.24243149671, 53595.24243149671, 53595.24243149671, 53595.24243149671, 54044.367934837224, 54044.367934837224, 54044.367934837224, 54044.367934837224, 54044.367934837224, 54044.367934837224, 54044.367934837224, 54044.367934837224, 54044.367934837224, 54044.367934837224, 54044.367934837224, 54044.367934837224, 54493.49343817775, 54493.49343817775, 54493.49343817775, 54493.49343817775, 54493.49343817775, 54493.49343817775, 54493.49343817775, 54493.49343817775, 54493.49343817775, 54493.49343817775, 54493.49343817775, 54493.49343817775, 54942.618941518274, 54942.618941518274, 54942.618941518274, 54942.618941518274, 54942.618941518274, 54942.618941518274, 54942.618941518274, 54942.618941518274, 54942.618941518274, 55391.74444485879, 55391.74444485879, 55391.74444485879, 55391.74444485879, 55391.74444485879, 55391.74444485879, 55391.74444485879, 55391.74444485879, 55840.86994819932, 55840.86994819932, 55840.86994819932, 55840.86994819932, 55840.86994819932, 55840.86994819932, 55840.86994819932, 55840.86994819932, 55840.86994819932, 55840.86994819932, 55840.86994819932, 55840.86994819932, 55840.86994819932, 55840.86994819932, 55840.86994819932, 56289.99545153984, 56289.99545153984, 56289.99545153984, 56289.99545153984, 56289.99545153984, 56289.99545153984, 56289.99545153984, 56289.99545153984, 56739.12095488036, 56739.12095488036, 56739.12095488036, 56739.12095488036, 56739.12095488036, 56739.12095488036, 56739.12095488036, 56739.12095488036, 57188.246458220885, 57188.246458220885, 57188.246458220885, 57188.246458220885, 57188.246458220885, 57188.246458220885, 57188.246458220885, 57188.246458220885, 57188.246458220885, 57637.37196156141, 57637.37196156141, 57637.37196156141, 57637.37196156141, 57637.37196156141, 57637.37196156141, 57637.37196156141, 57637.37196156141, 57637.37196156141, 58086.49746490193, 58086.49746490193, 58086.49746490193, 58086.49746490193, 58086.49746490193, 58086.49746490193, 58086.49746490193, 58535.62296824245, 58535.62296824245, 58535.62296824245, 58535.62296824245, 58535.62296824245, 58984.74847158298, 58984.74847158298, 58984.74847158298, 58984.74847158298, 58984.74847158298, 58984.74847158298, 58984.74847158298, 58984.74847158298, 59433.873974923496, 59433.873974923496, 59433.873974923496, 59433.873974923496, 59433.873974923496, 59433.873974923496, 59433.873974923496, 59433.873974923496, 59433.873974923496, 59433.873974923496, 59433.873974923496, 59433.873974923496, 59882.99947826401, 59882.99947826401, 59882.99947826401, 59882.99947826401, 59882.99947826401, 59882.99947826401, 59882.99947826401, 59882.99947826401, 60332.12498160454, 60332.12498160454, 60332.12498160454, 60332.12498160454, 60332.12498160454, 60332.12498160454, 60332.12498160454, 60332.12498160454, 60332.12498160454, 60332.12498160454, 60332.12498160454, 60332.12498160454, 60781.25048494506, 60781.25048494506, 60781.25048494506, 60781.25048494506, 60781.25048494506, 60781.25048494506, 60781.25048494506, 60781.25048494506, 61230.37598828558, 61230.37598828558, 61230.37598828558, 61230.37598828558, 61679.501491626106, 61679.501491626106, 61679.501491626106, 61679.501491626106, 62128.62699496663, 62128.62699496663, 62128.62699496663, 62128.62699496663, 62128.62699496663, 62577.75249830715, 62577.75249830715, 62577.75249830715, 62577.75249830715, 62577.75249830715, 62577.75249830715, 62577.75249830715, 62577.75249830715, 62577.75249830715, 62577.75249830715, 62577.75249830715, 62577.75249830715, 62577.75249830715, 62577.75249830715, 63026.878001647674, 63026.878001647674, 63026.878001647674, 63026.878001647674, 63026.878001647674, 63026.878001647674, 63476.0035049882, 63476.0035049882, 63476.0035049882, 63476.0035049882, 63476.0035049882, 63476.0035049882, 63925.12900832872, 63925.12900832872, 63925.12900832872, 63925.12900832872, 63925.12900832872, 63925.12900832872, 64374.25451166924, 64374.25451166924, 64374.25451166924, 64374.25451166924, 64823.38001500977, 64823.38001500977, 64823.38001500977, 64823.38001500977, 64823.38001500977, 64823.38001500977, 65272.505518350285, 65272.505518350285, 65272.505518350285, 65272.505518350285, 65272.505518350285, 65272.505518350285, 65272.505518350285, 65272.505518350285, 65272.505518350285, 65721.63102169082, 65721.63102169082, 65721.63102169082, 65721.63102169082, 65721.63102169082, 66170.75652503133, 66170.75652503133, 66170.75652503133, 66170.75652503133, 66170.75652503133, 66170.75652503133, 66170.75652503133, 66170.75652503133, 66170.75652503133, 66619.88202837185, 66619.88202837185, 66619.88202837185, 66619.88202837185, 66619.88202837185, 66619.88202837185, 66619.88202837185, 67069.00753171237, 67069.00753171237, 67069.00753171237, 67069.00753171237, 67069.00753171237, 67069.00753171237, 67069.00753171237, 67069.00753171237, 67518.13303505289, 67967.25853839342, 67967.25853839342, 67967.25853839342, 67967.25853839342, 68416.38404173394, 68416.38404173394, 68416.38404173394, 68416.38404173394, 68416.38404173394, 68416.38404173394, 68416.38404173394, 68416.38404173394, 68865.50954507446, 68865.50954507446, 68865.50954507446, 68865.50954507446, 68865.50954507446, 68865.50954507446, 69314.63504841499, 69314.63504841499, 69314.63504841499, 69314.63504841499, 69314.63504841499, 69314.63504841499, 69314.63504841499, 69763.7605517555, 69763.7605517555, 69763.7605517555, 69763.7605517555, 69763.7605517555, 69763.7605517555, 69763.7605517555, 70212.88605509602, 70212.88605509602, 70212.88605509602, 70212.88605509602, 70212.88605509602, 70212.88605509602, 70212.88605509602, 70662.01155843656, 70662.01155843656, 70662.01155843656, 70662.01155843656, 70662.01155843656, 70662.01155843656, 70662.01155843656, 71111.13706177707, 71111.13706177707, 71111.13706177707, 71111.13706177707, 71111.13706177707, 71111.13706177707, 71560.26256511759, 71560.26256511759, 72009.38806845812, 72009.38806845812, 72009.38806845812, 72009.38806845812, 72458.51357179864, 72458.51357179864, 72458.51357179864, 72458.51357179864, 72458.51357179864, 72907.63907513916, 72907.63907513916, 72907.63907513916, 72907.63907513916, 72907.63907513916, 72907.63907513916, 72907.63907513916, 72907.63907513916, 73356.76457847969, 73356.76457847969, 73356.76457847969, 73356.76457847969, 73356.76457847969, 73805.89008182021, 73805.89008182021, 73805.89008182021, 73805.89008182021, 74255.01558516073, 74255.01558516073, 74704.14108850126, 74704.14108850126, 74704.14108850126, 74704.14108850126, 75153.26659184178, 75153.26659184178, 75602.3920951823, 75602.3920951823, 75602.3920951823, 76051.51759852283, 76051.51759852283, 76051.51759852283, 76051.51759852283, 76500.64310186334, 76500.64310186334, 76500.64310186334, 76500.64310186334, 76500.64310186334, 76500.64310186334, 76949.76860520386, 76949.76860520386, 76949.76860520386, 76949.76860520386, 76949.76860520386, 77398.8941085444, 77398.8941085444, 77398.8941085444, 77398.8941085444, 77848.01961188491, 77848.01961188491, 77848.01961188491, 77848.01961188491, 78297.14511522543, 78746.27061856596, 78746.27061856596, 78746.27061856596, 78746.27061856596, 78746.27061856596, 78746.27061856596, 78746.27061856596, 78746.27061856596, 79195.39612190648, 79195.39612190648, 79195.39612190648, 79195.39612190648, 79644.521625247, 79644.521625247, 79644.521625247, 79644.521625247, 79644.521625247, 80093.64712858753, 80093.64712858753, 80093.64712858753, 80093.64712858753, 80093.64712858753, 80542.77263192803, 80991.89813526857, 80991.89813526857, 80991.89813526857, 80991.89813526857, 81441.0236386091, 81441.0236386091, 81441.0236386091, 81441.0236386091, 81441.0236386091, 81441.0236386091, 81441.0236386091, 81441.0236386091, 81890.1491419496, 81890.1491419496, 81890.1491419496, 81890.1491419496, 81890.1491419496, 81890.1491419496, 81890.1491419496, 81890.1491419496, 81890.1491419496, 82339.27464529013, 82339.27464529013, 82339.27464529013, 82339.27464529013, 82339.27464529013, 82339.27464529013, 82339.27464529013, 82788.40014863065, 82788.40014863065, 82788.40014863065, 82788.40014863065, 82788.40014863065, 82788.40014863065, 82788.40014863065, 82788.40014863065, 82788.40014863065, 82788.40014863065, 82788.40014863065, 82788.40014863065, 82788.40014863065, 82788.40014863065, 82788.40014863065, 82788.40014863065, 82788.40014863065, 83237.52565197117, 83237.52565197117, 83686.6511553117, 83686.6511553117, 83686.6511553117, 83686.6511553117, 83686.6511553117, 84135.77665865222, 84135.77665865222, 84135.77665865222, 84584.90216199274, 84584.90216199274, 84584.90216199274, 85034.02766533327, 85034.02766533327, 85034.02766533327, 85034.02766533327, 85483.15316867379, 85483.15316867379, 85483.15316867379, 85483.15316867379, 85483.15316867379, 85483.15316867379, 85483.15316867379, 85932.2786720143, 85932.2786720143, 85932.2786720143, 85932.2786720143, 86381.40417535484, 86381.40417535484, 86381.40417535484, 86381.40417535484, 86830.52967869535, 87279.65518203587, 87279.65518203587, 87279.65518203587, 87279.65518203587, 87279.65518203587, 88177.90618871692, 88627.03169205744, 88627.03169205744, 88627.03169205744, 88627.03169205744, 88627.03169205744, 88627.03169205744, 89076.15719539797, 89076.15719539797, 89525.28269873849, 89525.28269873849, 89525.28269873849, 89974.40820207901, 89974.40820207901, 89974.40820207901, 89974.40820207901, 90423.53370541954, 90423.53370541954, 90423.53370541954, 90423.53370541954, 90872.65920876006, 90872.65920876006, 90872.65920876006, 90872.65920876006, 90872.65920876006, 90872.65920876006, 91321.78471210058, 91321.78471210058, 91321.78471210058, 91770.91021544111, 91770.91021544111, 92220.03571878163, 92220.03571878163, 92220.03571878163, 92220.03571878163, 92669.16122212214, 92669.16122212214, 93118.28672546268, 93118.28672546268, 93118.28672546268, 93118.28672546268, 93118.28672546268, 93567.4122288032, 93567.4122288032, 93567.4122288032, 94016.53773214371, 94016.53773214371, 94016.53773214371, 94016.53773214371, 94016.53773214371, 94016.53773214371, 94465.66323548424, 94465.66323548424, 94465.66323548424, 94465.66323548424, 94465.66323548424, 94465.66323548424, 94914.78873882475, 94914.78873882475, 94914.78873882475, 95363.91424216528, 95363.91424216528, 95363.91424216528, 95813.03974550581, 95813.03974550581, 95813.03974550581, 96262.16524884632, 96262.16524884632, 96711.29075218685, 96711.29075218685, 96711.29075218685, 96711.29075218685, 96711.29075218685, 97160.41625552737, 97160.41625552737, 97160.41625552737, 97160.41625552737, 97609.54175886788, 97609.54175886788, 97609.54175886788, 98058.66726220842, 98058.66726220842, 98058.66726220842, 98507.79276554893, 98507.79276554893, 98956.91826888945, 98956.91826888945, 99406.04377222998, 99855.1692755705, 99855.1692755705, 99855.1692755705, 99855.1692755705, 100304.29477891102, 100304.29477891102, 100304.29477891102, 100753.42028225155, 100753.42028225155, 100753.42028225155, 100753.42028225155, 100753.42028225155, 100753.42028225155, 100753.42028225155, 100753.42028225155, 101202.54578559207, 101202.54578559207, 101202.54578559207, 101651.67128893259, 101651.67128893259, 101651.67128893259, 101651.67128893259, 101651.67128893259, 101651.67128893259, 102100.79679227312, 102100.79679227312, 102100.79679227312, 102100.79679227312, 102549.92229561364, 102549.92229561364, 102999.04779895415, 103448.17330229469, 103448.17330229469, 103448.17330229469, 103897.2988056352, 103897.2988056352, 103897.2988056352, 103897.2988056352, 104346.42430897572, 104346.42430897572, 104346.42430897572, 104795.54981231625, 104795.54981231625, 104795.54981231625, 104795.54981231625, 105244.67531565677, 105244.67531565677, 105244.67531565677, 105244.67531565677, 105244.67531565677, 105244.67531565677, 105244.67531565677, 105244.67531565677, 105244.67531565677, 105244.67531565677, 105244.67531565677, 105693.80081899729, 106142.92632233782, 106142.92632233782, 106142.92632233782, 106142.92632233782, 106142.92632233782, 106142.92632233782, 106592.05182567834, 107041.17732901886, 107490.30283235938, 107490.30283235938, 107490.30283235938, 107939.42833569991, 108388.55383904043, 108388.55383904043, 108388.55383904043, 108388.55383904043, 108837.67934238094, 108837.67934238094, 108837.67934238094, 109286.80484572148, 109286.80484572148, 109286.80484572148, 109735.930349062, 109735.930349062, 110185.05585240251, 110185.05585240251, 110634.18135574304, 110634.18135574304, 110634.18135574304, 111083.30685908356, 111981.55786576461, 112430.68336910513, 112879.80887244565, 112879.80887244565, 113328.93437578616, 113778.0598791267, 113778.0598791267, 114227.18538246721, 115125.43638914826, 115125.43638914826, 115574.56189248878, 115574.56189248878, 115574.56189248878, 116023.6873958293, 116023.6873958293, 116023.6873958293, 116023.6873958293, 116472.81289916983, 116921.93840251035, 117371.06390585087, 118718.44041587244, 118718.44041587244, 118718.44041587244, 119167.56591921297, 119616.69142255349, 119616.69142255349, 120514.94242923454, 120514.94242923454, 120514.94242923454, 120964.06793257505, 120964.06793257505, 121413.19343591557, 121413.19343591557, 121413.19343591557, 121862.31893925609, 121862.31893925609, 122311.44444259662, 122311.44444259662, 122760.56994593714, 123209.69544927766, 123209.69544927766, 123658.82095261819, 123658.82095261819, 123658.82095261819, 123658.82095261819, 124107.9464559587, 124107.9464559587, 124107.9464559587, 124107.9464559587, 124107.9464559587, 124557.07195929922, 124557.07195929922, 125006.19746263976, 125455.32296598027, 125455.32296598027, 125904.44846932079, 125904.44846932079, 126353.57397266132, 126353.57397266132, 126353.57397266132, 126802.69947600184, 127251.82497934236, 127251.82497934236, 127700.95048268288, 127700.95048268288, 127700.95048268288, 127700.95048268288, 127700.95048268288, 127700.95048268288, 127700.95048268288, 127700.95048268288, 127700.95048268288, 128150.07598602341, 129048.32699270445, 129497.45249604498, 129946.5779993855, 130395.70350272601, 130395.70350272601, 130395.70350272601, 130844.82900606655, 131743.08001274758, 131743.08001274758, 131743.08001274758, 131743.08001274758, 132192.2055160881, 132192.2055160881, 132641.33101942862, 133090.45652276915, 133090.45652276915, 133090.45652276915, 133988.70752945018, 133988.70752945018, 134886.95853613125, 134886.95853613125, 134886.95853613125, 135785.20954281228, 135785.20954281228, 136234.33504615282, 136234.33504615282, 136683.46054949332, 136683.46054949332, 136683.46054949332, 137132.58605283385, 137132.58605283385, 137132.58605283385, 137132.58605283385, 137581.71155617438, 138030.8370595149, 138030.8370595149, 138929.08806619595, 139378.21356953646, 139378.21356953646, 139378.21356953646, 139827.339072877, 139827.339072877, 140276.46457621752, 140276.46457621752, 140725.59007955802, 140725.59007955802, 141174.71558289856, 141623.8410862391, 142072.9665895796, 142072.9665895796, 142072.9665895796, 142072.9665895796, 142522.09209292012, 142522.09209292012, 142522.09209292012, 142522.09209292012, 142971.21759626066, 144318.59410628222, 144767.71960962273, 145216.84511296326, 145216.84511296326, 145665.9706163038, 145665.9706163038, 145665.9706163038, 146564.22162298483, 147013.34712632536, 147013.34712632536, 147462.47262966586, 147911.5981330064, 147911.5981330064, 147911.5981330064, 148360.72363634693, 148360.72363634693, 148809.84913968743, 148809.84913968743, 149258.97464302796, 149708.1001463685, 150157.225649709, 150157.225649709, 150157.225649709, 150157.225649709, 150157.225649709, 150157.225649709, 151055.47665639006, 151504.60215973057, 151504.60215973057, 151953.72766307107, 152402.85316641163, 152851.97866975213, 153301.10417309264, 153750.2296764332, 154199.3551797737, 154648.4806831142, 155097.60618645477, 155546.73168979527, 155995.85719313577, 155995.85719313577, 156444.9826964763, 156894.10819981684, 159139.73571651944, 159139.73571651944, 160037.98672320048, 160487.112226541, 160487.112226541, 160936.23772988154, 161385.36323322204, 161834.48873656258, 161834.48873656258, 161834.48873656258, 162732.7397432436, 162732.7397432436, 162732.7397432436, 162732.7397432436, 163181.86524658414, 163630.99074992468, 164529.2417566057, 164978.36725994624, 165427.49276328675, 165876.61826662728, 165876.61826662728, 166325.7437699678, 166325.7437699678, 167223.99477664885, 167673.12027998938, 167673.12027998938, 167673.12027998938, 167673.12027998938, 169020.49679001095, 169020.49679001095, 169020.49679001095, 170367.87330003252, 170367.87330003252, 170367.87330003252, 170816.99880337302, 172164.3753133946, 172164.3753133946, 172164.3753133946, 172164.3753133946, 172164.3753133946, 172613.50081673512, 172613.50081673512, 172613.50081673512, 172613.50081673512, 172613.50081673512, 172613.50081673512, 172613.50081673512, 172613.50081673512, 173062.62632007565, 174410.00283009722, 174410.00283009722, 174410.00283009722, 175308.25383677825, 175757.37934011876, 175757.37934011876, 176206.5048434593, 176206.5048434593, 177104.75585014033, 177553.88135348086, 177553.88135348086, 177553.88135348086, 177553.88135348086, 177553.88135348086, 178003.0068568214, 178003.0068568214, 178452.1323601619, 178452.1323601619, 178901.25786350243, 179799.50887018346, 180697.75987686453, 181146.88538020503, 181146.88538020503, 181596.01088354556, 181596.01088354556, 182045.1363868861, 182494.2618902266, 182494.2618902266, 182494.2618902266, 183392.51289690766, 183841.63840024816, 183841.63840024816, 184290.7639035887, 184290.7639035887, 185189.01491026973, 185638.14041361026, 186087.2659169508, 186985.51692363183, 188332.8934336534, 188332.8934336534, 188782.0189369939, 189231.14444033444, 189680.26994367497, 189680.26994367497, 189680.26994367497, 190129.39544701547, 190129.39544701547, 190578.520950356, 190578.520950356, 191925.89746037757, 191925.89746037757, 192375.0229637181, 192824.1484670586, 192824.1484670586, 194171.52497708017, 194620.6504804207, 195069.77598376124, 195069.77598376124, 195069.77598376124, 195518.90148710174, 195968.02699044227, 195968.02699044227, 196417.1524937828, 196866.2779971233, 196866.2779971233, 196866.2779971233, 197315.40350046384, 197315.40350046384, 198662.7800104854, 198662.7800104854, 198662.7800104854, 199111.90551382594, 199111.90551382594, 199561.03101716645, 199561.03101716645, 200010.15652050698, 200010.15652050698, 200459.2820238475, 201357.53303052855, 201806.65853386908, 201806.65853386908, 201806.65853386908, 201806.65853386908, 202255.78403720958, 202255.78403720958, 203154.03504389065, 204950.53705725272, 204950.53705725272, 205399.66256059325, 205399.66256059325, 205848.78806393375, 205848.78806393375, 205848.78806393375, 205848.78806393375, 207196.16457395532, 207645.29007729585, 207645.29007729585, 207645.29007729585, 208543.5410839769, 208543.5410839769, 208992.66658731742, 208992.66658731742, 208992.66658731742, 209441.79209065795, 209441.79209065795, 209890.91759399846, 209890.91759399846, 209890.91759399846, 210340.043097339, 210340.043097339, 210340.043097339, 210789.16860067952, 210789.16860067952, 212585.6706140416, 213034.79611738212, 215280.42363408473, 215280.42363408473, 215280.42363408473, 215280.42363408473, 216627.8001441063, 216627.8001441063, 216627.8001441063, 217076.92564744683, 217076.92564744683, 217076.92564744683, 217076.92564744683, 217526.05115078733, 220220.80417083047, 221119.05517751153, 221119.05517751153, 221568.18068085203, 222017.30618419257, 222017.30618419257, 223364.68269421413, 224262.93370089517, 224712.0592042357, 225610.31021091674, 226957.6867209383, 226957.6867209383, 227406.81222427884, 227855.93772761937, 228305.06323095987, 228754.1887343004, 229652.43974098144, 230550.6907476625, 230999.816251003, 231448.94175434354, 231448.94175434354, 232347.19276102458, 232796.3182643651, 233245.4437677056, 233694.56927104614, 234143.69477438668, 234143.69477438668, 234143.69477438668, 234592.82027772718, 235041.9457810677, 237287.57329777032, 238185.82430445138, 238185.82430445138, 239084.07531113242, 239084.07531113242, 239084.07531113242, 239533.20081447295, 239982.32631781345, 239982.32631781345, 239982.32631781345, 239982.32631781345, 240431.45182115398, 240431.45182115398, 240880.57732449452, 240880.57732449452, 242677.0793378566, 243575.33034453765, 244024.45584787815, 244473.5813512187, 244473.5813512187, 244922.70685455922, 245820.95786124025, 247617.45987460233, 248515.7108812834, 249863.08739130496, 250761.338397986, 251659.58940466703, 252108.71490800756, 253006.9659146886, 253006.9659146886, 254354.34242471016, 254803.4679280507, 255252.59343139123, 255701.71893473173, 255701.71893473173, 256599.9699414128, 257049.0954447533, 257947.34645143437, 261091.224974818, 261091.224974818, 261540.35047815854, 261540.35047815854, 261989.47598149904, 262438.6014848396, 262438.6014848396, 262438.6014848396, 262438.6014848396, 262438.6014848396, 262438.6014848396, 262438.6014848396, 262438.6014848396, 262887.7269881801, 262887.7269881801, 263336.8524915206, 263336.8524915206, 264684.2290015422, 264684.2290015422, 266031.6055115637, 267378.98202158534, 267828.10752492584, 268277.23302826635, 268726.35853160685, 271870.23705499055, 272319.3625583311, 272768.4880616716, 273217.6135650121, 273666.7390683526, 275014.1155783742, 275014.1155783742, 275463.24108171475, 275912.36658505525, 276810.61759173626, 277259.7430950768, 278157.9941017579, 278157.9941017579, 279056.2451084389, 279056.2451084389, 279056.2451084389, 279505.3706117794, 279954.49611511995, 279954.49611511995, 281301.8726251415, 281301.8726251415, 281750.998128482, 281750.998128482, 286242.2531618873, 287140.5041685683, 288937.0061819304, 292979.13571199507, 293877.38671867613, 293877.38671867613, 295673.8887320382, 297919.51624874084, 298817.76725542184, 299266.8927587624, 299266.8927587624, 299716.01826210297, 301063.3947721245, 301512.52027546504, 302859.8967854866, 302859.8967854866, 303309.0222888271, 305105.5243021892, 306003.77530887024, 306452.90081221075, 306902.0263155513, 307351.1518188918, 307351.1518188918, 308249.4028255729, 309147.6538322539, 309596.77933559445, 309596.77933559445, 309596.77933559445, 310045.90483893495, 310045.90483893495, 310045.90483893495, 310944.155845616, 311393.2813489565, 311842.406852297, 313189.7833623186, 314537.15987234015, 314537.15987234015, 314986.28537568066, 317231.9128923833, 318579.28940240486, 319028.41490574536, 320824.9169191075, 321723.1679257885, 323519.6699391506, 323968.79544249113, 324417.92094583163, 324867.0464491722, 325765.2974558532, 326214.42295919376, 327112.67396587477, 330705.67799259897, 330705.67799259897, 330705.67799259897, 331603.92899928003, 331603.92899928003, 332951.3055093016, 335196.9330260042, 337442.5605427068, 337891.6860460473, 338340.8115493879, 342382.9410794525, 342832.0665827931, 343281.1920861336, 343730.3175894741, 344179.44309281465, 344628.56859615515, 345526.8196028362, 348221.57262287935, 348670.69812621985, 349119.82362956036, 349568.9491329009, 350018.0746362414, 351814.5766496035, 351814.5766496035, 352263.70215294405, 352263.70215294405, 352263.70215294405, 352263.70215294405, 355407.5806763277, 357653.2081930303, 357653.2081930303, 358102.3336963708, 359898.8357097329, 360347.96121307346, 360347.96121307346, 360797.08671641396, 361246.21221975447, 361695.337723095, 361695.337723095, 362144.46322643553, 363491.8397364571, 363491.8397364571, 364839.21624647867, 365288.34174981917, 367084.8437631813, 367084.8437631813, 367533.9692665218, 367533.9692665218, 371576.0987965865, 373372.6008099486, 373372.6008099486, 373372.6008099486, 373821.7263132891, 373821.7263132891, 373821.7263132891, 373821.7263132891, 374719.97731997014, 374719.97731997014, 375618.2283266512, 375618.2283266512, 376965.6048366728, 376965.6048366728, 380109.4833600564, 381456.859870078, 383253.36188344005, 383702.4873867806, 383702.4873867806, 385498.9894001427, 386397.24040682375, 386397.24040682375, 386397.24040682375, 386846.36591016426, 386846.36591016426, 387295.49141350476, 388642.8679235263, 388642.8679235263, 390439.36993688846, 390888.49544022896, 392684.99745359103, 393583.2484602721, 393583.2484602721, 396278.00148031523, 396278.00148031523, 397176.25248699624, 397625.3779903368, 397625.3779903368, 398074.5034936773, 400320.13101037993, 401218.38201706094, 401667.5075204015, 402565.7585270825, 403464.0095337636, 403464.0095337636, 403913.1350371041, 404811.38604378514, 407506.1390638283, 409302.64107719035, 411997.3940972335, 413344.77060725505, 414692.1471172766, 415590.3981239577, 416488.64913063875, 417386.90013731975, 418285.1511440008, 418734.2766473413, 419632.5276540224, 420530.77866070345, 420979.90416404395, 421878.155170725, 421878.155170725, 424572.90819076815, 426818.5357074707, 427267.66121081123, 427716.7867141518, 428165.9122174923, 429064.16322417336, 430411.5397341949, 430411.5397341949, 430860.66523753543, 430860.66523753543, 430860.66523753543, 430860.66523753543, 432657.1672508975, 434004.54376091907, 434004.54376091907, 434004.54376091907, 434004.54376091907, 436250.1712776217, 436699.2967809622, 436699.2967809622, 438495.79879432434, 440292.3008076864, 440292.3008076864, 441190.55181436747, 441190.55181436747, 442088.8028210485, 442088.8028210485, 442537.92832438904, 447029.18335779425, 448825.6853711563, 449274.8108744969, 451520.43839119945, 453316.9404045616, 455113.44241792365, 458706.4464446478, 464994.20349141513, 467688.95651145827, 469934.5840281609, 472629.33704820403, 475773.2155715877, 477569.71758494974, 477569.71758494974, 478917.0940949713, 483857.4746317171, 486552.2276517602, 487001.3531551007, 487001.3531551007, 487001.3531551007, 487001.3531551007, 487001.3531551007, 487001.3531551007, 487001.3531551007, 487001.3531551007, 487450.4786584412, 488348.7296651223, 491043.4826851654, 493738.23570520856, 495085.6122152301, 498229.49073861376, 498678.6162419543, 499127.7417452948, 500475.1182553164, 500924.2437586569, 502271.62026867847, 503618.99677870004, 506313.74979874317, 508559.3773154458, 509008.5028187863, 513050.632348851, 513050.632348851, 513050.632348851, 513050.632348851, 513499.7578521915, 514398.0088588726, 517541.8873822562, 519338.38939561835, 519338.38939561835, 520236.64040229935, 522931.3934223425, 523380.51892568305, 523829.64442902355, 527422.6484557478, 531015.6524824719, 535506.9075158772, 541345.5390593039, 544489.4175826876, 545387.6685893687, 548082.4216094117, 551675.425636136, 554370.178656179, 555717.5551662006, 556166.6806695412, 557963.1826829033, 562903.563219649, 564700.065233011, 567394.8182530542, 568293.0692597353, 568293.0692597353, 568293.0692597353, 568293.0692597353, 569640.4457697568, 571436.9477831189, 571436.9477831189, 577275.5793265457, 585359.8383866751, 586258.0893933561, 591198.4699301019, 591647.5954334424, 592096.7209367829, 592545.8464401235, 592545.8464401235, 593444.0974468045, 598833.6034868908, 602426.6075136149, 602875.7330169554, 603773.9840236366, 608714.3645603823, 615900.3726138306, 617696.8746271927, 620840.7531505764, 622637.2551639385, 623984.63167396, 629823.2632173868, 632068.8907340894, 634314.518250792, 637458.3967741757, 640153.1497942188, 645093.5303309646, 645542.6558343051, 647788.2833510077, 650932.1618743914, 651381.2873777319, 651381.2873777319, 651830.4128810724, 653626.9148944345, 654974.291404456, 655423.4169077966, 657219.9189211586, 659016.4209345208, 663058.5504645854, 666651.5544913097, 668897.1820080123, 671142.8095247148, 674286.6880480985, 678777.9430815037, 682370.9471082279, 684616.5746249305, 687760.4531483141, 694946.4612017625, 695844.7122084436, 696742.9632151247, 698090.3397251462, 711114.9793220214, 711114.9793220214, 711114.9793220214, 711564.1048253619, 711564.1048253619, 711564.1048253619, 711564.1048253619, 711564.1048253619, 712911.4813353835, 713809.7323420645, 716953.6108654481, 717402.7363687886, 724588.744422237, 730427.3759656638, 731774.7524756853, 735816.8820057501, 737613.3840191122, 744350.26656922, 745697.6430792416, 752434.5256293494, 756925.7806627547, 760518.7846894788, 765908.2907295651, 769052.1692529487, 786568.063883229, 795101.4484466991, 795550.5739500396, 810820.8410636173, 814862.970593682, 823845.4806604924, 826091.1081771951, 829234.9867005787, 831031.4887139408, 832378.8652239623, 833726.241733984, 845403.5048208375, 851691.2618676048, 853487.7638809669, 853936.8893843074, 855284.2658943291, 858428.1444177127, 865165.0269678205, 866512.4034778421, 875045.788041312, 893010.8081749328, 893459.9336782735, 901544.1927384028, 911874.0793152348, 913221.4558252564, 916814.4598519806, 917712.7108586616, 922653.0913954073, 925347.8444154505, 935228.605488942, 935677.7309922825, 936126.856495623, 936126.856495623, 936126.856495623, 941067.2370323688, 943761.9900524119, 946456.743072455, 948702.3705891577, 958583.1316626491, 961727.0101860327, 963972.6377027354, 970260.3947495028, 974302.5242795674, 979692.0303196537, 981937.6578363563, 989123.6658898046, 992267.5444131884, 992267.5444131884, 994513.1719298909, 998555.3014599556, 1004393.9330033824, 1012029.0665601713, 1013376.4430701928, 1016071.196090236, 1020562.4511236412, 1025951.9571637275, 1025951.9571637275, 1028646.7101837706, 1033137.9652171759, 1040773.0987739647, 1041671.3497806458, 1048408.2323307536, 1049755.6088407752, 1054246.8638741802, 1065924.126961034, 1067720.628974396, 1070864.5074977796, 1083889.1470946549, 1084338.2725979954, 1111734.9283017672, 1125657.8189053235, 1131945.5759520908, 1144970.2155489658, 1145868.4665556469, 1148563.21957569, 1160689.6081658842, 1160689.6081658842, 1173265.1222594187, 1178205.5027961645, 1183145.8833329102, 1185840.6363529535, 1194823.1464197638, 1249616.4578273075, 1250065.583330648, 1250514.7088339885, 1274318.3605110364, 1278809.6155444416, 1282402.6195711656, 1288241.2511145924, 1296774.6356780624, 1298571.1376914245, 1300367.6397047867, 1304409.7692348512, 1323273.0403751533, 1324620.4168851748, 1327315.169905218, 1328662.5464152396, 1337645.0564820499, 1356957.4531256924, 1358753.9551390545, 1362796.0846691192, 1367287.3397025245, 1367287.3397025245, 1370431.218225908, 1371329.4692325892, 1372227.7202392702, 1372676.8457426107, 1375820.7242659943, 1385252.3598361453, 1393336.6188962748, 1393785.7443996153, 1404115.6309764474, 1411301.6390298957, 1411750.7645332362, 1414894.64305662, 1416242.0195666414, 1431063.1611768785, 1436452.6672169648, 1456214.1893639478, 1458459.8168806504, 1473280.9584908877, 1508761.873254789, 1518642.6343282803, 1529870.7719117936, 1542895.4115086687, 1555920.0511055437, 1564902.5611723543, 1568046.4396957378, 1576130.6987558673, 1576130.6987558673, 1588706.2128494019, 1590502.714862764, 1592748.3423794666, 1620594.123586579, 1631373.1356667515, 1634517.0141901353, 1641253.896740243, 1651583.783317075, 1671345.305464058, 1682573.443047571, 1716257.8557981104, 1721647.3618381966, 1722096.4873415371, 1731078.9974083474, 1758026.5276087788, 1773296.7947223566, 1774644.171232378, 1780482.802775805, 1810574.21149962, 1830335.7336466028, 1836623.4906933703, 1918364.3323013452, 1924202.9638447722, 1938125.8544483283, 1965971.6356554406, 1969115.5141788244, 2006842.0564594283, 2058940.6148469287, 2099361.9101475757, 2114632.1772611532, 2124962.0638379855, 2151460.4685350764, 2156400.849071822, 2167179.8611519947, 2191881.7638357235, 2277215.609470423, 2282605.115510509, 2283054.2410138496, 2283503.36651719, 2315840.4027577075, 2340542.3054414364, 2351321.317521609, 2361651.2040984407, 2367040.710138527, 2440697.2926863725, 2455518.43429661, 2462704.4423500584, 2486508.094027106, 2508066.1181874513, 2516150.3772475803, 2521090.757784326, 2582620.9517419776, 2582620.9517419776, 2619000.11751256, 2619898.368519241, 2620347.4940225817, 2623042.2470426247, 2623042.2470426247, 2649540.6517397156, 2687716.31952366, 2735772.748381096, 2742509.6309312037, 2751492.1409980142, 2753288.6430113763, 2789218.683278618, 2793709.9383120234, 2834580.359116011, 2902398.31012043, 2919015.953744029, 2933837.095354266, 2946412.609447801, 2957191.6215279736, 3006595.426895431, 3074862.50340319, 3077108.130919893, 3133697.9443407985, 3242835.4416525457, 3259902.2107794853, 3356464.193997698, 3390597.7322515775, 3397783.7403050256, 3405867.999365155, 3413952.2584252846, 3486261.4644631087, 3537012.6463405876, 3568002.3060710835, 3612016.6053984547, 3740466.499353844, 3855442.628209018, 3929997.4617635445, 3966825.7530374676, 4528681.75771646, 4528681.75771646, 4557874.915433595, 4594703.206707519, 4690816.0644223895, 4824655.4644178655, 4828248.4684445895, 4921666.573139418, 4968375.625486832, 4980052.888573686, 5232012.295947719, 5275128.34426841, 5469599.687214855, 5535172.010702571, 5788029.669083286, 5876507.393241368, 5916030.437535334, 5938486.71270236, 6270390.459671006, 6273085.21269105, 6348089.171748918, 6400187.730136417, 6718617.712004848, 6721761.590528231, 6728947.598581679, 6773860.148915732, 6774758.399922414, 7966737.485788159, 8136956.051554218, 8396999.71798838, 8736987.724017154, 8948076.710587202, 9394058.33540434, 9724614.705862964, 10281979.455508552, 10356983.41456642, 10358779.916579781, 10430639.997114265, 10530345.85885586, 10567174.150129784, 11213016.623933455, 11266013.433327636], \"yaxis\": \"y\"}],\n",
              "                        {\"height\": 600, \"legend\": {\"tracegroupgap\": 0}, \"margin\": {\"t\": 60}, \"template\": {\"data\": {\"bar\": [{\"error_x\": {\"color\": \"#2a3f5f\"}, \"error_y\": {\"color\": \"#2a3f5f\"}, \"marker\": {\"line\": {\"color\": \"#E5ECF6\", \"width\": 0.5}}, \"type\": \"bar\"}], \"barpolar\": [{\"marker\": {\"line\": {\"color\": \"#E5ECF6\", \"width\": 0.5}}, \"type\": \"barpolar\"}], \"carpet\": [{\"aaxis\": {\"endlinecolor\": \"#2a3f5f\", \"gridcolor\": \"white\", \"linecolor\": \"white\", \"minorgridcolor\": \"white\", \"startlinecolor\": \"#2a3f5f\"}, \"baxis\": {\"endlinecolor\": \"#2a3f5f\", \"gridcolor\": \"white\", \"linecolor\": \"white\", \"minorgridcolor\": \"white\", \"startlinecolor\": \"#2a3f5f\"}, \"type\": \"carpet\"}], \"choropleth\": [{\"colorbar\": {\"outlinewidth\": 0, \"ticks\": \"\"}, \"type\": \"choropleth\"}], \"contour\": [{\"colorbar\": {\"outlinewidth\": 0, \"ticks\": \"\"}, \"colorscale\": [[0.0, \"#0d0887\"], [0.1111111111111111, \"#46039f\"], [0.2222222222222222, \"#7201a8\"], [0.3333333333333333, \"#9c179e\"], [0.4444444444444444, \"#bd3786\"], [0.5555555555555556, \"#d8576b\"], [0.6666666666666666, \"#ed7953\"], [0.7777777777777778, \"#fb9f3a\"], [0.8888888888888888, \"#fdca26\"], [1.0, \"#f0f921\"]], \"type\": \"contour\"}], \"contourcarpet\": [{\"colorbar\": {\"outlinewidth\": 0, \"ticks\": \"\"}, \"type\": \"contourcarpet\"}], \"heatmap\": [{\"colorbar\": {\"outlinewidth\": 0, \"ticks\": \"\"}, \"colorscale\": [[0.0, \"#0d0887\"], [0.1111111111111111, \"#46039f\"], [0.2222222222222222, \"#7201a8\"], [0.3333333333333333, \"#9c179e\"], [0.4444444444444444, \"#bd3786\"], [0.5555555555555556, \"#d8576b\"], [0.6666666666666666, \"#ed7953\"], [0.7777777777777778, \"#fb9f3a\"], [0.8888888888888888, \"#fdca26\"], [1.0, \"#f0f921\"]], \"type\": \"heatmap\"}], \"heatmapgl\": [{\"colorbar\": {\"outlinewidth\": 0, \"ticks\": \"\"}, \"colorscale\": [[0.0, \"#0d0887\"], [0.1111111111111111, \"#46039f\"], [0.2222222222222222, \"#7201a8\"], [0.3333333333333333, \"#9c179e\"], [0.4444444444444444, \"#bd3786\"], [0.5555555555555556, \"#d8576b\"], [0.6666666666666666, \"#ed7953\"], [0.7777777777777778, \"#fb9f3a\"], [0.8888888888888888, \"#fdca26\"], [1.0, \"#f0f921\"]], \"type\": \"heatmapgl\"}], \"histogram\": [{\"marker\": {\"colorbar\": {\"outlinewidth\": 0, \"ticks\": \"\"}}, \"type\": \"histogram\"}], \"histogram2d\": [{\"colorbar\": {\"outlinewidth\": 0, \"ticks\": \"\"}, \"colorscale\": [[0.0, \"#0d0887\"], [0.1111111111111111, \"#46039f\"], [0.2222222222222222, \"#7201a8\"], [0.3333333333333333, \"#9c179e\"], [0.4444444444444444, \"#bd3786\"], [0.5555555555555556, \"#d8576b\"], [0.6666666666666666, \"#ed7953\"], [0.7777777777777778, \"#fb9f3a\"], [0.8888888888888888, \"#fdca26\"], [1.0, \"#f0f921\"]], \"type\": \"histogram2d\"}], \"histogram2dcontour\": [{\"colorbar\": {\"outlinewidth\": 0, \"ticks\": \"\"}, \"colorscale\": [[0.0, \"#0d0887\"], [0.1111111111111111, \"#46039f\"], [0.2222222222222222, \"#7201a8\"], [0.3333333333333333, \"#9c179e\"], [0.4444444444444444, \"#bd3786\"], [0.5555555555555556, \"#d8576b\"], [0.6666666666666666, \"#ed7953\"], [0.7777777777777778, \"#fb9f3a\"], [0.8888888888888888, \"#fdca26\"], [1.0, \"#f0f921\"]], \"type\": \"histogram2dcontour\"}], \"mesh3d\": [{\"colorbar\": {\"outlinewidth\": 0, \"ticks\": \"\"}, \"type\": \"mesh3d\"}], \"parcoords\": [{\"line\": {\"colorbar\": {\"outlinewidth\": 0, \"ticks\": \"\"}}, \"type\": \"parcoords\"}], \"scatter\": [{\"marker\": {\"colorbar\": {\"outlinewidth\": 0, \"ticks\": \"\"}}, \"type\": \"scatter\"}], \"scatter3d\": [{\"line\": {\"colorbar\": {\"outlinewidth\": 0, \"ticks\": \"\"}}, \"marker\": {\"colorbar\": {\"outlinewidth\": 0, \"ticks\": \"\"}}, \"type\": \"scatter3d\"}], \"scattercarpet\": [{\"marker\": {\"colorbar\": {\"outlinewidth\": 0, \"ticks\": \"\"}}, \"type\": \"scattercarpet\"}], \"scattergeo\": [{\"marker\": {\"colorbar\": {\"outlinewidth\": 0, \"ticks\": \"\"}}, \"type\": \"scattergeo\"}], \"scattergl\": [{\"marker\": {\"colorbar\": {\"outlinewidth\": 0, \"ticks\": \"\"}}, \"type\": \"scattergl\"}], \"scattermapbox\": [{\"marker\": {\"colorbar\": {\"outlinewidth\": 0, \"ticks\": \"\"}}, \"type\": \"scattermapbox\"}], \"scatterpolar\": [{\"marker\": {\"colorbar\": {\"outlinewidth\": 0, \"ticks\": \"\"}}, \"type\": \"scatterpolar\"}], \"scatterpolargl\": [{\"marker\": {\"colorbar\": {\"outlinewidth\": 0, \"ticks\": \"\"}}, \"type\": \"scatterpolargl\"}], \"scatterternary\": [{\"marker\": {\"colorbar\": {\"outlinewidth\": 0, \"ticks\": \"\"}}, \"type\": \"scatterternary\"}], \"surface\": [{\"colorbar\": {\"outlinewidth\": 0, \"ticks\": \"\"}, \"colorscale\": [[0.0, \"#0d0887\"], [0.1111111111111111, \"#46039f\"], [0.2222222222222222, \"#7201a8\"], [0.3333333333333333, \"#9c179e\"], [0.4444444444444444, \"#bd3786\"], [0.5555555555555556, \"#d8576b\"], [0.6666666666666666, \"#ed7953\"], [0.7777777777777778, \"#fb9f3a\"], [0.8888888888888888, \"#fdca26\"], [1.0, \"#f0f921\"]], \"type\": \"surface\"}], \"table\": [{\"cells\": {\"fill\": {\"color\": \"#EBF0F8\"}, \"line\": {\"color\": \"white\"}}, \"header\": {\"fill\": {\"color\": \"#C8D4E3\"}, \"line\": {\"color\": \"white\"}}, \"type\": \"table\"}]}, \"layout\": {\"annotationdefaults\": {\"arrowcolor\": \"#2a3f5f\", \"arrowhead\": 0, \"arrowwidth\": 1}, \"colorscale\": {\"diverging\": [[0, \"#8e0152\"], [0.1, \"#c51b7d\"], [0.2, \"#de77ae\"], [0.3, \"#f1b6da\"], [0.4, \"#fde0ef\"], [0.5, \"#f7f7f7\"], [0.6, \"#e6f5d0\"], [0.7, \"#b8e186\"], [0.8, \"#7fbc41\"], [0.9, \"#4d9221\"], [1, \"#276419\"]], \"sequential\": [[0.0, \"#0d0887\"], [0.1111111111111111, \"#46039f\"], [0.2222222222222222, \"#7201a8\"], [0.3333333333333333, \"#9c179e\"], [0.4444444444444444, \"#bd3786\"], [0.5555555555555556, \"#d8576b\"], [0.6666666666666666, \"#ed7953\"], [0.7777777777777778, \"#fb9f3a\"], [0.8888888888888888, \"#fdca26\"], [1.0, \"#f0f921\"]], \"sequentialminus\": [[0.0, \"#0d0887\"], [0.1111111111111111, \"#46039f\"], [0.2222222222222222, \"#7201a8\"], [0.3333333333333333, \"#9c179e\"], [0.4444444444444444, \"#bd3786\"], [0.5555555555555556, \"#d8576b\"], [0.6666666666666666, \"#ed7953\"], [0.7777777777777778, \"#fb9f3a\"], [0.8888888888888888, \"#fdca26\"], [1.0, \"#f0f921\"]]}, \"colorway\": [\"#636efa\", \"#EF553B\", \"#00cc96\", \"#ab63fa\", \"#FFA15A\", \"#19d3f3\", \"#FF6692\", \"#B6E880\", \"#FF97FF\", \"#FECB52\"], \"font\": {\"color\": \"#2a3f5f\"}, \"geo\": {\"bgcolor\": \"white\", \"lakecolor\": \"white\", \"landcolor\": \"#E5ECF6\", \"showlakes\": true, \"showland\": true, \"subunitcolor\": \"white\"}, \"hoverlabel\": {\"align\": \"left\"}, \"hovermode\": \"closest\", \"mapbox\": {\"style\": \"light\"}, \"paper_bgcolor\": \"white\", \"plot_bgcolor\": \"#E5ECF6\", \"polar\": {\"angularaxis\": {\"gridcolor\": \"white\", \"linecolor\": \"white\", \"ticks\": \"\"}, \"bgcolor\": \"#E5ECF6\", \"radialaxis\": {\"gridcolor\": \"white\", \"linecolor\": \"white\", \"ticks\": \"\"}}, \"scene\": {\"xaxis\": {\"backgroundcolor\": \"#E5ECF6\", \"gridcolor\": \"white\", \"gridwidth\": 2, \"linecolor\": \"white\", \"showbackground\": true, \"ticks\": \"\", \"zerolinecolor\": \"white\"}, \"yaxis\": {\"backgroundcolor\": \"#E5ECF6\", \"gridcolor\": \"white\", \"gridwidth\": 2, \"linecolor\": \"white\", \"showbackground\": true, \"ticks\": \"\", \"zerolinecolor\": \"white\"}, \"zaxis\": {\"backgroundcolor\": \"#E5ECF6\", \"gridcolor\": \"white\", \"gridwidth\": 2, \"linecolor\": \"white\", \"showbackground\": true, \"ticks\": \"\", \"zerolinecolor\": \"white\"}}, \"shapedefaults\": {\"line\": {\"color\": \"#2a3f5f\"}}, \"ternary\": {\"aaxis\": {\"gridcolor\": \"white\", \"linecolor\": \"white\", \"ticks\": \"\"}, \"baxis\": {\"gridcolor\": \"white\", \"linecolor\": \"white\", \"ticks\": \"\"}, \"bgcolor\": \"#E5ECF6\", \"caxis\": {\"gridcolor\": \"white\", \"linecolor\": \"white\", \"ticks\": \"\"}}, \"title\": {\"x\": 0.05}, \"xaxis\": {\"automargin\": true, \"gridcolor\": \"white\", \"linecolor\": \"white\", \"ticks\": \"\", \"zerolinecolor\": \"white\", \"zerolinewidth\": 2}, \"yaxis\": {\"automargin\": true, \"gridcolor\": \"white\", \"linecolor\": \"white\", \"ticks\": \"\", \"zerolinecolor\": \"white\", \"zerolinewidth\": 2}}}, \"xaxis\": {\"anchor\": \"y\", \"domain\": [0.0, 0.98], \"title\": {\"text\": \"Spend\"}}, \"yaxis\": {\"anchor\": \"x\", \"domain\": [0.0, 1.0], \"title\": {\"text\": \"Impressions\"}}},\n",
              "                        {\"responsive\": true}\n",
              "                    ).then(function(){\n",
              "                            \n",
              "var gd = document.getElementById('1b4a813d-1fcb-4424-842b-888b31077ed3');\n",
              "var x = new MutationObserver(function (mutations, observer) {{\n",
              "        var display = window.getComputedStyle(gd).display;\n",
              "        if (!display || display === 'none') {{\n",
              "            console.log([gd, 'removed!']);\n",
              "            Plotly.purge(gd);\n",
              "            observer.disconnect();\n",
              "        }}\n",
              "}});\n",
              "\n",
              "// Listen for the removal of the full notebook cells\n",
              "var notebookContainer = gd.closest('#notebook-container');\n",
              "if (notebookContainer) {{\n",
              "    x.observe(notebookContainer, {childList: true});\n",
              "}}\n",
              "\n",
              "// Listen for the clearing of the current output cell\n",
              "var outputEl = gd.closest('.output');\n",
              "if (outputEl) {{\n",
              "    x.observe(outputEl, {childList: true});\n",
              "}}\n",
              "\n",
              "                        })\n",
              "                };\n",
              "                \n",
              "            </script>\n",
              "        </div>\n",
              "</body>\n",
              "</html>"
            ]
          },
          "metadata": {
            "tags": []
          }
        }
      ]
    },
    {
      "cell_type": "code",
      "metadata": {
        "id": "HtM-ZI3mTqTJ",
        "colab_type": "code",
        "colab": {}
      },
      "source": [
        "# Student also explains: Why & how they chose their target, metric, and baseline. \n",
        "# How they avoided leakage. When & why the model is (or is not) useful"
      ],
      "execution_count": 0,
      "outputs": []
    },
    {
      "cell_type": "markdown",
      "metadata": {
        "id": "7jbnwLJbvD4N",
        "colab_type": "text"
      },
      "source": [
        "#### Fix heavy rightward skew\n"
      ]
    },
    {
      "cell_type": "markdown",
      "metadata": {
        "id": "ARm0BNLGXG-J",
        "colab_type": "text"
      },
      "source": [
        "### Fit & Train Model"
      ]
    },
    {
      "cell_type": "code",
      "metadata": {
        "id": "FwqWhwduJ9y-",
        "colab_type": "code",
        "colab": {}
      },
      "source": [
        "from sklearn.model_selection import train_test_split \n",
        "\n",
        "df2, test = train_test_split(df2, train_size=.8, random_state=42)"
      ],
      "execution_count": 0,
      "outputs": []
    },
    {
      "cell_type": "code",
      "metadata": {
        "id": "g2zshlqAZtSY",
        "colab_type": "code",
        "outputId": "872441d2-4133-4292-c597-df2a5a06654d",
        "colab": {
          "base_uri": "https://localhost:8080/",
          "height": 34
        }
      },
      "source": [
        "from sklearn.model_selection import train_test_split\n",
        "train, val = train_test_split(df2, train_size = .8, random_state=42)\n",
        "#train, val = train_test_split(train, train_size = .8, random_state=42)\n",
        "\n",
        "train.shape, val.shape"
      ],
      "execution_count": 199,
      "outputs": [
        {
          "output_type": "execute_result",
          "data": {
            "text/plain": [
              "((1453, 12), (364, 12))"
            ]
          },
          "metadata": {
            "tags": []
          },
          "execution_count": 199
        }
      ]
    },
    {
      "cell_type": "code",
      "metadata": {
        "id": "DN9ga1BX-1Yb",
        "colab_type": "code",
        "colab": {}
      },
      "source": [
        "import category_encoders as ce\n",
        "from sklearn.impute import SimpleImputer\n",
        "from sklearn.linear_model import LinearRegression\n",
        "from sklearn.preprocessing import StandardScaler\n",
        "\n",
        "target = 'Impressions'\n",
        "features = ['Spend']\n",
        "X_train = train[features]\n",
        "y_train = train[target]\n",
        "X_val = val[features]\n",
        "y_val = val[target]\n"
      ],
      "execution_count": 0,
      "outputs": []
    },
    {
      "cell_type": "code",
      "metadata": {
        "id": "QlWLjYu2_LeQ",
        "colab_type": "code",
        "outputId": "eaf7cb0d-1d05-4ab5-d978-fef7dd6d0fd6",
        "colab": {
          "base_uri": "https://localhost:8080/",
          "height": 34
        }
      },
      "source": [
        "# validation score\n",
        "from sklearn.linear_model import LinearRegression\n",
        "\n",
        "model = LinearRegression()\n",
        "model.fit(X_train, y_train)\n",
        "\n",
        "model.score(X_val, y_val)"
      ],
      "execution_count": 201,
      "outputs": [
        {
          "output_type": "execute_result",
          "data": {
            "text/plain": [
              "0.5392018874384344"
            ]
          },
          "metadata": {
            "tags": []
          },
          "execution_count": 201
        }
      ]
    },
    {
      "cell_type": "code",
      "metadata": {
        "id": "yQXjce6nGUgC",
        "colab_type": "code",
        "outputId": "d31f0596-3a84-4e39-8f59-41d1d1bb36cd",
        "colab": {
          "base_uri": "https://localhost:8080/",
          "height": 34
        }
      },
      "source": [
        "# test score\n",
        "X_test = test[features]\n",
        "y_test = test[target]\n",
        "#print(cross_val_score(model2, X_train_scaled, y_train, cv=3))\n",
        "\n",
        "model.score(X_test, y_test)"
      ],
      "execution_count": 202,
      "outputs": [
        {
          "output_type": "execute_result",
          "data": {
            "text/plain": [
              "0.5088259273921495"
            ]
          },
          "metadata": {
            "tags": []
          },
          "execution_count": 202
        }
      ]
    },
    {
      "cell_type": "code",
      "metadata": {
        "id": "Z9uz8Wfm3JYE",
        "colab_type": "code",
        "colab": {}
      },
      "source": [
        "## Note: But, there's a quirk: For scikit-learn's cross-validation scoring, higher is better. \n",
        "#But for regression error metrics, lower is better. So scikit-learn multiplies regression error metrics by -1 \n",
        "#to make them negative. That's why the value of the scoring parameter is 'neg_mean_absolute_error'."
      ],
      "execution_count": 0,
      "outputs": []
    },
    {
      "cell_type": "markdown",
      "metadata": {
        "id": "rU62TYsAG6A9",
        "colab_type": "text"
      },
      "source": [
        "## Fit & evaluate a decision tree, random forest, or gradient boosting model for regression or classification"
      ]
    },
    {
      "cell_type": "code",
      "metadata": {
        "id": "KgQodF7-kPJg",
        "colab_type": "code",
        "colab": {}
      },
      "source": [
        "!pip install -q category_encoders"
      ],
      "execution_count": 0,
      "outputs": []
    },
    {
      "cell_type": "markdown",
      "metadata": {
        "id": "fALG7d9ui39J",
        "colab_type": "text"
      },
      "source": [
        "#### Train Test Random Split"
      ]
    },
    {
      "cell_type": "code",
      "metadata": {
        "id": "H1egsB3JrUYI",
        "colab_type": "code",
        "colab": {}
      },
      "source": [
        ""
      ],
      "execution_count": 0,
      "outputs": []
    },
    {
      "cell_type": "code",
      "metadata": {
        "id": "b62wI4YEnJ69",
        "colab_type": "code",
        "outputId": "7c03b0e8-f252-42b4-8c84-c481fc8e0e11",
        "colab": {
          "base_uri": "https://localhost:8080/",
          "height": 34
        }
      },
      "source": [
        "train, test = train_test_split(df2, random_state=42)\n",
        "train, val = train_test_split(train, random_state=42)\n",
        "\n",
        "train.shape, test.shape, val.shape, df2.shape\n"
      ],
      "execution_count": 206,
      "outputs": [
        {
          "output_type": "execute_result",
          "data": {
            "text/plain": [
              "((1021, 12), (455, 12), (341, 12), (1817, 12))"
            ]
          },
          "metadata": {
            "tags": []
          },
          "execution_count": 206
        }
      ]
    },
    {
      "cell_type": "code",
      "metadata": {
        "id": "ucC1oAcXOevL",
        "colab_type": "code",
        "colab": {}
      },
      "source": [
        "#How well can impressions be predicted just from spend, just using a linear model? (Measured by MAE and R^2)\n",
        "#o that could be the simplest baseline to compare to\n",
        "#Then your tree-based model could be a pipeline:\n",
        "#category_encoders OrdinalEncoder\n",
        "#SimpleImputer\n",
        "#RandomForestRegressor\n",
        "#You would use more features than just Spend, and you would not need to filter out the high cardinality categoricals"
      ],
      "execution_count": 0,
      "outputs": []
    },
    {
      "cell_type": "markdown",
      "metadata": {
        "id": "8vp5Q9L0irsT",
        "colab_type": "text"
      },
      "source": [
        "#### Define Features and Target"
      ]
    },
    {
      "cell_type": "code",
      "metadata": {
        "id": "gNFOlfJwsPIe",
        "colab_type": "code",
        "colab": {}
      },
      "source": [
        "df2['Currency Code'] = df2['Currency Code'].astype(str)\n",
        "df2['CountryCode'] = df2['CountryCode'].astype(str)"
      ],
      "execution_count": 0,
      "outputs": []
    },
    {
      "cell_type": "code",
      "metadata": {
        "id": "iMTRYHcIirIu",
        "colab_type": "code",
        "outputId": "82ce3cb5-9d91-470c-8d69-c25fd22fa9f3",
        "colab": {
          "base_uri": "https://localhost:8080/",
          "height": 34
        }
      },
      "source": [
        "# The status_group column is the target\n",
        "target = 'Impressions'\n",
        "\n",
        "# Get a dataframe with all train columns except the target\n",
        "train_features = train.drop(columns=[target])\n",
        "\n",
        "# Get a list of the numeric features\n",
        "numeric_features = train_features.select_dtypes(include='number').columns.tolist()\n",
        "\n",
        "# Get a series with the cardinality of the nonnumeric features\n",
        "cardinality = train_features.select_dtypes(exclude='number').nunique()\n",
        "\n",
        "# Get a list of all categorical features with cardinality <= 50\n",
        "categorical_features = cardinality[cardinality <= 50].index.tolist()\n",
        "\n",
        "# Combine the lists \n",
        "features = numeric_features + categorical_features\n",
        "print(features)"
      ],
      "execution_count": 209,
      "outputs": [
        {
          "output_type": "stream",
          "text": [
            "['Spend', 'Currency Code', 'CountryCode']\n"
          ],
          "name": "stdout"
        }
      ]
    },
    {
      "cell_type": "code",
      "metadata": {
        "id": "tKDWwEYIV-IX",
        "colab_type": "code",
        "outputId": "d310cbf4-2696-4844-b06d-c33bc9b47b80",
        "colab": {
          "base_uri": "https://localhost:8080/",
          "height": 242
        }
      },
      "source": [
        "train.nunique()"
      ],
      "execution_count": 210,
      "outputs": [
        {
          "output_type": "execute_result",
          "data": {
            "text/plain": [
              "ADID                    1021\n",
              "CreativeUrl              799\n",
              "Currency Code              5\n",
              "Spend                    558\n",
              "Impressions             1018\n",
              "StartDate                470\n",
              "EndDate                  349\n",
              "OrganizationName         184\n",
              "BillingAddress           134\n",
              "PayingAdvertiserName     215\n",
              "AgeBracket                73\n",
              "CountryCode               24\n",
              "dtype: int64"
            ]
          },
          "metadata": {
            "tags": []
          },
          "execution_count": 210
        }
      ]
    },
    {
      "cell_type": "code",
      "metadata": {
        "colab_type": "code",
        "id": "qgm7JFOprbyx",
        "colab": {}
      },
      "source": [
        "X_train = train[features]\n",
        "y_train = train[target]\n",
        "X_val = val[features]\n",
        "y_val = val[target]\n",
        "X_test = test[features]\n",
        "y_test = test[target]"
      ],
      "execution_count": 0,
      "outputs": []
    },
    {
      "cell_type": "code",
      "metadata": {
        "id": "lA-EojKdnjnd",
        "colab_type": "code",
        "outputId": "3ae135a5-d2fe-4d27-a5dc-e025943fa55f",
        "colab": {
          "base_uri": "https://localhost:8080/",
          "height": 121
        }
      },
      "source": [
        "from sklearn.ensemble import RandomForestRegressor\n",
        "from sklearn.pipeline import make_pipeline\n",
        "\n",
        "# These are the only two changes from the previous code cell:\n",
        "# Remove StandardScaler (it's not needed or helpful for trees)\n",
        "# Change the model from LogisticRegression to DecisionTreeClassifier\n",
        "\n",
        "#One hot encorder - 5 columns for country code for example, binaries for each \n",
        "# unique value \n",
        "\n",
        "pipeline = make_pipeline(\n",
        "    ce.OneHotEncoder(use_cat_names=True), \n",
        "    SimpleImputer(strategy='mean'), \n",
        "    RandomForestRegressor(max_depth=2, min_samples_leaf=2, random_state=42)\n",
        ")\n",
        "\n",
        "# Fit on train\n",
        "pipeline.fit(X_train, y_train)\n",
        "\n",
        "# Score on train, val\n",
        "print('R Squared Score', pipeline.score(X_train, y_train))\n",
        "print('R Squared Score', pipeline.score(X_val, y_val))\n",
        "\n",
        "# Predict on test\n",
        "y_pred = pipeline.predict(X_test)\n",
        "## train and validation accuracy"
      ],
      "execution_count": 215,
      "outputs": [
        {
          "output_type": "stream",
          "text": [
            "R Squared Score 0.6415721689193137\n",
            "R Squared Score 0.2601138610245295\n"
          ],
          "name": "stdout"
        },
        {
          "output_type": "stream",
          "text": [
            "/usr/local/lib/python3.6/dist-packages/sklearn/ensemble/forest.py:245: FutureWarning:\n",
            "\n",
            "The default value of n_estimators will change from 10 in version 0.20 to 100 in 0.22.\n",
            "\n"
          ],
          "name": "stderr"
        }
      ]
    },
    {
      "cell_type": "code",
      "metadata": {
        "id": "KS7kNyTLk22i",
        "colab_type": "code",
        "outputId": "b7b9c4ab-6dfc-4b3b-f5f7-ee0fe7bf2160",
        "colab": {
          "base_uri": "https://localhost:8080/",
          "height": 34
        }
      },
      "source": [
        "# the way I trained the model doesn't generalize - could be that the features aren't predictive\n",
        "# could be that we over fitted\n",
        "\n",
        "# test score\n",
        "pipeline.score(X_test, y_test)"
      ],
      "execution_count": 216,
      "outputs": [
        {
          "output_type": "execute_result",
          "data": {
            "text/plain": [
              "0.4565747563286755"
            ]
          },
          "metadata": {
            "tags": []
          },
          "execution_count": 216
        }
      ]
    },
    {
      "cell_type": "code",
      "metadata": {
        "id": "gvP7L6PHjCD0",
        "colab_type": "code",
        "outputId": "107c343c-4077-44d7-9fe3-acf84bcf94f9",
        "colab": {
          "base_uri": "https://localhost:8080/",
          "height": 380
        }
      },
      "source": [
        "graphviz.Source(export_graphviz(pipeline['randomforestregressor'].estimators_[-1]))\n",
        "\n",
        "\n"
      ],
      "execution_count": 217,
      "outputs": [
        {
          "output_type": "execute_result",
          "data": {
            "text/plain": [
              "<graphviz.files.Source at 0x7fcfef1b4898>"
            ],
            "image/svg+xml": "<?xml version=\"1.0\" encoding=\"UTF-8\" standalone=\"no\"?>\n<!DOCTYPE svg PUBLIC \"-//W3C//DTD SVG 1.1//EN\"\n \"http://www.w3.org/Graphics/SVG/1.1/DTD/svg11.dtd\">\n<!-- Generated by graphviz version 2.40.1 (20161225.0304)\n -->\n<!-- Title: Tree Pages: 1 -->\n<svg width=\"764pt\" height=\"269pt\"\n viewBox=\"0.00 0.00 764.00 269.00\" xmlns=\"http://www.w3.org/2000/svg\" xmlns:xlink=\"http://www.w3.org/1999/xlink\">\n<g id=\"graph0\" class=\"graph\" transform=\"scale(1 1) rotate(0) translate(4 265)\">\n<title>Tree</title>\n<polygon fill=\"#ffffff\" stroke=\"transparent\" points=\"-4,4 -4,-265 760,-265 760,4 -4,4\"/>\n<!-- 0 -->\n<g id=\"node1\" class=\"node\">\n<title>0</title>\n<polygon fill=\"none\" stroke=\"#000000\" points=\"453.5,-261 274.5,-261 274.5,-193 453.5,-193 453.5,-261\"/>\n<text text-anchor=\"middle\" x=\"364\" y=\"-245.8\" font-family=\"Times,serif\" font-size=\"14.00\" fill=\"#000000\">X[0] &lt;= 3800.0</text>\n<text text-anchor=\"middle\" x=\"364\" y=\"-230.8\" font-family=\"Times,serif\" font-size=\"14.00\" fill=\"#000000\">mse = 1382432791825.194</text>\n<text text-anchor=\"middle\" x=\"364\" y=\"-215.8\" font-family=\"Times,serif\" font-size=\"14.00\" fill=\"#000000\">samples = 658</text>\n<text text-anchor=\"middle\" x=\"364\" y=\"-200.8\" font-family=\"Times,serif\" font-size=\"14.00\" fill=\"#000000\">value = 411796.064</text>\n</g>\n<!-- 1 -->\n<g id=\"node2\" class=\"node\">\n<title>1</title>\n<polygon fill=\"none\" stroke=\"#000000\" points=\"351.5,-157 180.5,-157 180.5,-89 351.5,-89 351.5,-157\"/>\n<text text-anchor=\"middle\" x=\"266\" y=\"-141.8\" font-family=\"Times,serif\" font-size=\"14.00\" fill=\"#000000\">X[0] &lt;= 1024.0</text>\n<text text-anchor=\"middle\" x=\"266\" y=\"-126.8\" font-family=\"Times,serif\" font-size=\"14.00\" fill=\"#000000\">mse = 199402120292.351</text>\n<text text-anchor=\"middle\" x=\"266\" y=\"-111.8\" font-family=\"Times,serif\" font-size=\"14.00\" fill=\"#000000\">samples = 624</text>\n<text text-anchor=\"middle\" x=\"266\" y=\"-96.8\" font-family=\"Times,serif\" font-size=\"14.00\" fill=\"#000000\">value = 219644.347</text>\n</g>\n<!-- 0&#45;&gt;1 -->\n<g id=\"edge1\" class=\"edge\">\n<title>0&#45;&gt;1</title>\n<path fill=\"none\" stroke=\"#000000\" d=\"M331.9111,-192.9465C323.366,-183.8782 314.0387,-173.9799 305.1609,-164.5585\"/>\n<polygon fill=\"#000000\" stroke=\"#000000\" points=\"307.5663,-162.0076 298.161,-157.13 302.4717,-166.8082 307.5663,-162.0076\"/>\n<text text-anchor=\"middle\" x=\"297.4187\" y=\"-178.419\" font-family=\"Times,serif\" font-size=\"14.00\" fill=\"#000000\">True</text>\n</g>\n<!-- 4 -->\n<g id=\"node5\" class=\"node\">\n<title>4</title>\n<polygon fill=\"none\" stroke=\"#000000\" points=\"556,-157 370,-157 370,-89 556,-89 556,-157\"/>\n<text text-anchor=\"middle\" x=\"463\" y=\"-141.8\" font-family=\"Times,serif\" font-size=\"14.00\" fill=\"#000000\">X[0] &lt;= 12427.5</text>\n<text text-anchor=\"middle\" x=\"463\" y=\"-126.8\" font-family=\"Times,serif\" font-size=\"14.00\" fill=\"#000000\">mse = 10122429307868.705</text>\n<text text-anchor=\"middle\" x=\"463\" y=\"-111.8\" font-family=\"Times,serif\" font-size=\"14.00\" fill=\"#000000\">samples = 34</text>\n<text text-anchor=\"middle\" x=\"463\" y=\"-96.8\" font-family=\"Times,serif\" font-size=\"14.00\" fill=\"#000000\">value = 3786678.945</text>\n</g>\n<!-- 0&#45;&gt;4 -->\n<g id=\"edge4\" class=\"edge\">\n<title>0&#45;&gt;4</title>\n<path fill=\"none\" stroke=\"#000000\" d=\"M396.4163,-192.9465C405.0486,-183.8782 414.4711,-173.9799 423.4395,-164.5585\"/>\n<polygon fill=\"#000000\" stroke=\"#000000\" points=\"426.1511,-166.7863 430.5109,-157.13 421.081,-161.9599 426.1511,-166.7863\"/>\n<text text-anchor=\"middle\" x=\"431.1264\" y=\"-178.4224\" font-family=\"Times,serif\" font-size=\"14.00\" fill=\"#000000\">False</text>\n</g>\n<!-- 2 -->\n<g id=\"node3\" class=\"node\">\n<title>2</title>\n<polygon fill=\"none\" stroke=\"#000000\" points=\"164,-53 0,-53 0,0 164,0 164,-53\"/>\n<text text-anchor=\"middle\" x=\"82\" y=\"-37.8\" font-family=\"Times,serif\" font-size=\"14.00\" fill=\"#000000\">mse = 26506891373.369</text>\n<text text-anchor=\"middle\" x=\"82\" y=\"-22.8\" font-family=\"Times,serif\" font-size=\"14.00\" fill=\"#000000\">samples = 533</text>\n<text text-anchor=\"middle\" x=\"82\" y=\"-7.8\" font-family=\"Times,serif\" font-size=\"14.00\" fill=\"#000000\">value = 93293.482</text>\n</g>\n<!-- 1&#45;&gt;2 -->\n<g id=\"edge2\" class=\"edge\">\n<title>1&#45;&gt;2</title>\n<path fill=\"none\" stroke=\"#000000\" d=\"M201.1285,-88.9777C181.7459,-78.8124 160.5991,-67.7218 141.5738,-57.7439\"/>\n<polygon fill=\"#000000\" stroke=\"#000000\" points=\"143.1913,-54.6401 132.7097,-53.095 139.94,-60.8392 143.1913,-54.6401\"/>\n</g>\n<!-- 3 -->\n<g id=\"node4\" class=\"node\">\n<title>3</title>\n<polygon fill=\"none\" stroke=\"#000000\" points=\"352,-53 182,-53 182,0 352,0 352,-53\"/>\n<text text-anchor=\"middle\" x=\"267\" y=\"-37.8\" font-family=\"Times,serif\" font-size=\"14.00\" fill=\"#000000\">mse = 575009116348.758</text>\n<text text-anchor=\"middle\" x=\"267\" y=\"-22.8\" font-family=\"Times,serif\" font-size=\"14.00\" fill=\"#000000\">samples = 91</text>\n<text text-anchor=\"middle\" x=\"267\" y=\"-7.8\" font-family=\"Times,serif\" font-size=\"14.00\" fill=\"#000000\">value = 940897.201</text>\n</g>\n<!-- 1&#45;&gt;3 -->\n<g id=\"edge3\" class=\"edge\">\n<title>1&#45;&gt;3</title>\n<path fill=\"none\" stroke=\"#000000\" d=\"M266.3526,-88.9777C266.438,-80.7364 266.5297,-71.887 266.6164,-63.5153\"/>\n<polygon fill=\"#000000\" stroke=\"#000000\" points=\"270.1189,-63.2842 266.7228,-53.2485 263.1193,-63.2116 270.1189,-63.2842\"/>\n</g>\n<!-- 5 -->\n<g id=\"node6\" class=\"node\">\n<title>5</title>\n<polygon fill=\"none\" stroke=\"#000000\" points=\"551.5,-53 372.5,-53 372.5,0 551.5,0 551.5,-53\"/>\n<text text-anchor=\"middle\" x=\"462\" y=\"-37.8\" font-family=\"Times,serif\" font-size=\"14.00\" fill=\"#000000\">mse = 5177556507427.859</text>\n<text text-anchor=\"middle\" x=\"462\" y=\"-22.8\" font-family=\"Times,serif\" font-size=\"14.00\" fill=\"#000000\">samples = 27</text>\n<text text-anchor=\"middle\" x=\"462\" y=\"-7.8\" font-family=\"Times,serif\" font-size=\"14.00\" fill=\"#000000\">value = 2992439.5</text>\n</g>\n<!-- 4&#45;&gt;5 -->\n<g id=\"edge5\" class=\"edge\">\n<title>4&#45;&gt;5</title>\n<path fill=\"none\" stroke=\"#000000\" d=\"M462.6474,-88.9777C462.562,-80.7364 462.4703,-71.887 462.3836,-63.5153\"/>\n<polygon fill=\"#000000\" stroke=\"#000000\" points=\"465.8807,-63.2116 462.2772,-53.2485 458.8811,-63.2842 465.8807,-63.2116\"/>\n</g>\n<!-- 6 -->\n<g id=\"node7\" class=\"node\">\n<title>6</title>\n<polygon fill=\"none\" stroke=\"#000000\" points=\"756,-53 570,-53 570,0 756,0 756,-53\"/>\n<text text-anchor=\"middle\" x=\"663\" y=\"-37.8\" font-family=\"Times,serif\" font-size=\"14.00\" fill=\"#000000\">mse = 15692949168253.562</text>\n<text text-anchor=\"middle\" x=\"663\" y=\"-22.8\" font-family=\"Times,serif\" font-size=\"14.00\" fill=\"#000000\">samples = 7</text>\n<text text-anchor=\"middle\" x=\"663\" y=\"-7.8\" font-family=\"Times,serif\" font-size=\"14.00\" fill=\"#000000\">value = 7846125.0</text>\n</g>\n<!-- 4&#45;&gt;6 -->\n<g id=\"edge6\" class=\"edge\">\n<title>4&#45;&gt;6</title>\n<path fill=\"none\" stroke=\"#000000\" d=\"M533.5125,-88.9777C554.7712,-78.7204 577.9824,-67.521 598.8067,-57.4732\"/>\n<polygon fill=\"#000000\" stroke=\"#000000\" points=\"600.3953,-60.5929 607.8808,-53.095 597.3534,-54.2884 600.3953,-60.5929\"/>\n</g>\n</g>\n</svg>\n"
          },
          "metadata": {
            "tags": []
          },
          "execution_count": 217
        }
      ]
    },
    {
      "cell_type": "markdown",
      "metadata": {
        "id": "utO5UvsxGZ9u",
        "colab_type": "text"
      },
      "source": [
        "## Report Scores"
      ]
    },
    {
      "cell_type": "markdown",
      "metadata": {
        "id": "yMWE8YE3GKc_",
        "colab_type": "text"
      },
      "source": [
        "## Visualizations (2+)"
      ]
    },
    {
      "cell_type": "code",
      "metadata": {
        "id": "asHPufJekGLh",
        "colab_type": "code",
        "colab": {}
      },
      "source": [
        ""
      ],
      "execution_count": 0,
      "outputs": []
    }
  ]
}